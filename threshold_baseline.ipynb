{
 "cells": [
  {
   "cell_type": "markdown",
   "metadata": {},
   "source": [
    "# Dataset Construction"
   ]
  },
  {
   "cell_type": "code",
   "execution_count": 1,
   "metadata": {},
   "outputs": [],
   "source": [
    "import numpy as np\n",
    "import pandas as pd\n",
    "from torch_geometric_temporal.signal import StaticGraphTemporalSignal, DynamicGraphTemporalSignal\n",
    "import torch\n",
    "from typing import Union\n",
    "import glob\n",
    "from natsort import natsorted\n",
    "import random\n",
    "\n",
    "random.seed(42)\n",
    "\n",
    "class SP500CorrelationsDatasetLoader(object):\n",
    "    def __init__(self, corr_name, corr_scope):\n",
    "        self._read_csv(corr_name, corr_scope)\n",
    "\n",
    "    def _read_csv(self, corr_name, corr_scope):\n",
    "        match corr_scope:\n",
    "            case 'global':\n",
    "                self._correlation_matrices = [np.loadtxt(f'{corr_name}/{corr_scope}_corr.csv', delimiter=',')]\n",
    "            case 'local':\n",
    "                self._correlation_matrices = []\n",
    "                corr_files = natsorted(glob.glob(f'{corr_name}/local_corr_*.csv'))\n",
    "                for corr_file in corr_files:\n",
    "                    matrix = np.loadtxt(corr_file, delimiter=',')\n",
    "                    self._correlation_matrices.append(matrix)\n",
    "        \n",
    "        df = pd.read_csv('s&p500.csv')\n",
    "        df = df.set_index('Date')\n",
    "        data = torch.from_numpy(df.to_numpy()).to(torch.float32)\n",
    "\n",
    "        # Round data size to nearest multiple of batch_size\n",
    "        self.days_in_quarter = 64\n",
    "        num_quarters = data.size(0) // self.days_in_quarter\n",
    "        num_days = num_quarters * self.days_in_quarter\n",
    "        data = data[:num_days]\n",
    "        \n",
    "        # z-score normalization with training data following GERU\n",
    "        train_days = int(0.8 * num_quarters) * self.days_in_quarter\n",
    "        data = (data - data[:train_days].mean(dim=0)) / data[:train_days].std(dim=0)\n",
    "        data = data.numpy()\n",
    "\n",
    "        # Add percent change features\n",
    "        p_chg = data / np.roll(data, 1, axis=0) - 1\n",
    "        p_chg[0] = 0.0\n",
    "        p_chg_3 = data / np.roll(data, 3, axis=0) - 1\n",
    "        p_chg_3[0:3] = 0.0\n",
    "        p_chg_6 = data / np.roll(data, 6, axis=0) - 1\n",
    "        p_chg_6[0:6] = 0.0\n",
    "\n",
    "        data = np.stack([data, p_chg, p_chg_3, p_chg_6], axis=-1)\n",
    "        print('data.shape', data.shape)\n",
    "\n",
    "        assert(not np.any(np.isnan(data)))\n",
    "        self._dataset = data\n",
    "\n",
    "    def _get_edges(self):\n",
    "        if len(self._correlation_matrices) == 1:\n",
    "            self._edges = np.array(np.ones_like(self._correlation_matrices[0]).nonzero())\n",
    "        else:\n",
    "            self._edges = []\n",
    "            for time in range(self._dataset.shape[0] - self.lags):\n",
    "                corr_index = max(0, time // self.days_in_quarter - 1)\n",
    "                self._edges.append(\n",
    "                    np.array(np.ones_like(self._correlation_matrices[corr_index]).nonzero())\n",
    "                )\n",
    "\n",
    "    def _get_edge_weights(self):\n",
    "        if len(self._correlation_matrices) == 1:\n",
    "            self._edge_weights = self._correlation_matrices[0].flatten()\n",
    "        else:\n",
    "            self._edge_weights = []\n",
    "            for time in range(self._dataset.shape[0] - self.lags):\n",
    "                corr_index = max(0, time // self.days_in_quarter - 1)\n",
    "                self._edge_weights.append(\n",
    "                    np.array(self._correlation_matrices[corr_index]).flatten()\n",
    "                )\n",
    "\n",
    "    def _get_targets_and_features(self):\n",
    "        stacked_target = self._dataset\n",
    "        # print(stacked_target.shape)\n",
    "        self.features = [\n",
    "            stacked_target[i : i + self.lags, :]\n",
    "            for i in range(stacked_target.shape[0] - self.lags)\n",
    "        ]\n",
    "        # predict next-day stock movement\n",
    "        self.targets = [\n",
    "            (stacked_target[i + self.lags, :, 0]).T\n",
    "            for i in range(stacked_target.shape[0] - self.lags)\n",
    "        ]\n",
    "\n",
    "    def get_dataset(self, lags) -> Union[StaticGraphTemporalSignal, DynamicGraphTemporalSignal]:\n",
    "        \"\"\"Returning the data iterator.\n",
    "        \"\"\"\n",
    "        self.lags = lags\n",
    "        self._get_edges()\n",
    "        self._get_edge_weights()\n",
    "        self._get_targets_and_features()\n",
    "        dataset = (DynamicGraphTemporalSignal if type(self._edges) == list else StaticGraphTemporalSignal)(\n",
    "            self._edges, self._edge_weights, self.features, self.targets\n",
    "        )\n",
    "        return dataset"
   ]
  },
  {
   "cell_type": "code",
   "execution_count": 2,
   "metadata": {},
   "outputs": [
    {
     "name": "stdout",
     "output_type": "stream",
     "text": [
      "data.shape (2496, 472, 4)\n"
     ]
    }
   ],
   "source": [
    "from torch_geometric_temporal.signal import temporal_signal_split\n",
    "\n",
    "# device = torch.device(\"cuda\" if torch.cuda.is_available() else \"mps\" if torch.backends.mps.is_available() else \"cpu\")\n",
    "device = 'cpu'\n",
    "\n",
    "corr_name = 'mi'\n",
    "corr_scope = 'global'\n",
    "loader = SP500CorrelationsDatasetLoader(corr_name=corr_name, corr_scope=corr_scope)\n",
    "\n",
    "lags = 6\n",
    "dataset = loader.get_dataset(lags)\n",
    "\n",
    "train_dataset, test_val_dataset = temporal_signal_split(dataset, train_ratio=0.8)\n",
    "val_dataset, test_dataset = temporal_signal_split(test_val_dataset, train_ratio=0.5)"
   ]
  },
  {
   "cell_type": "code",
   "execution_count": 3,
   "metadata": {},
   "outputs": [
    {
     "name": "stdout",
     "output_type": "stream",
     "text": [
      "(6, 472, 4)\n",
      "(472,)\n"
     ]
    }
   ],
   "source": [
    "print(train_dataset.features[0].shape)\n",
    "print(train_dataset.targets[0].shape)"
   ]
  },
  {
   "cell_type": "markdown",
   "metadata": {},
   "source": [
    "# Differential Graph Transformer"
   ]
  },
  {
   "cell_type": "code",
   "execution_count": 4,
   "metadata": {},
   "outputs": [],
   "source": [
    "import torch\n",
    "from torch_geometric.utils import to_dense_adj\n",
    "from torch_geometric.nn.conv import MessagePassing\n",
    "import torch.nn as nn\n",
    "import torch.nn.functional as F\n",
    "\n",
    "\n",
    "class DGAttn(MessagePassing):\n",
    "    r\"\"\"An implementation of the Diffusion Convolution Layer.\n",
    "    For details see: `\"Diffusion Convolutional Recurrent Neural Network:\n",
    "    Data-Driven Traffic Forecasting\" <https://arxiv.org/abs/1707.01926>`_\n",
    "\n",
    "    Args:\n",
    "        in_channels (int): Number of input features.\n",
    "        out_channels (int): Number of output features.\n",
    "        K (int): Filter size :math:`K`.\n",
    "        bias (bool, optional): If set to :obj:`False`, the layer\n",
    "            will not learn an additive bias (default :obj:`True`).\n",
    "\n",
    "    \"\"\"\n",
    "\n",
    "    def __init__(self, in_channels, out_channels, num_heads=1, diff_attn=True):\n",
    "        super(DGAttn, self).__init__(aggr=\"add\", flow=\"source_to_target\")\n",
    "        self.in_channels = in_channels\n",
    "        self.out_channels = out_channels\n",
    "        self.num_heads = num_heads\n",
    "        self.head_dim = out_channels // self.num_heads\n",
    "        self.diff_attn = diff_attn\n",
    "        if self.diff_attn:\n",
    "            self.Q = nn.Linear(in_channels, out_channels)\n",
    "            self.K = nn.Linear(in_channels, out_channels)\n",
    "        self.V = nn.Linear(in_channels, out_channels)\n",
    "        self.ffn = nn.Linear(out_channels, out_channels)\n",
    "        self.ln = nn.RMSNorm(self.head_dim, eps=1e-5, elementwise_affine=True)\n",
    "\n",
    "        if self.diff_attn:\n",
    "            self.lambda_init = 0.2\n",
    "            self.lambda_q1 = nn.Parameter(torch.zeros(self.head_dim, dtype=torch.float32).normal_(mean=0,std=0.1))\n",
    "            self.lambda_k1 = nn.Parameter(torch.zeros(self.head_dim, dtype=torch.float32).normal_(mean=0,std=0.1))\n",
    "            self.lambda_q2 = nn.Parameter(torch.zeros(self.head_dim, dtype=torch.float32).normal_(mean=0,std=0.1))\n",
    "            self.lambda_k2 = nn.Parameter(torch.zeros(self.head_dim, dtype=torch.float32).normal_(mean=0,std=0.1))\n",
    "\n",
    "        # self.__reset_parameters()\n",
    "\n",
    "    # def __reset_parameters(self):\n",
    "        # torch.nn.init.xavier_uniform_(self.V)\n",
    "\n",
    "    def message(self, x_j, norm):\n",
    "        return norm.view(-1, 1) * x_j\n",
    "\n",
    "    def forward(\n",
    "        self,\n",
    "        X: torch.FloatTensor,\n",
    "        edge_index: torch.LongTensor,\n",
    "        edge_weight: torch.FloatTensor,\n",
    "    ) -> torch.FloatTensor:\n",
    "        r\"\"\"Making a forward pass. If edge weights are not present the forward pass\n",
    "        defaults to an unweighted graph.\n",
    "\n",
    "        Arg types:\n",
    "            * **X** (PyTorch Float Tensor) - Node features.\n",
    "            * **edge_index** (PyTorch Long Tensor) - Graph edge indices.\n",
    "            * **edge_weight** (PyTorch Long Tensor, optional) - Edge weight vector.\n",
    "\n",
    "        Return types:\n",
    "            * **H** (PyTorch Float Tensor) - Hidden state matrix for all nodes.\n",
    "        \"\"\"\n",
    "        A = to_dense_adj(edge_index, edge_attr=edge_weight).squeeze()\n",
    "        a1 = F.softmax(A, dim=-1)\n",
    "        if self.diff_attn:\n",
    "            q = self.Q(X)\n",
    "            k = self.K(X)\n",
    "            a2 = F.softmax(torch.matmul(q, k.transpose(-1, -2)) * (self.head_dim ** -0.5), dim=-1)\n",
    "            lambda_1 = torch.exp(torch.sum(self.lambda_q1 * self.lambda_k1, dim=-1).float()).type_as(q)\n",
    "            lambda_2 = torch.exp(torch.sum(self.lambda_q2 * self.lambda_k2, dim=-1).float()).type_as(q)\n",
    "            lambda_full = lambda_1 - lambda_2 + self.lambda_init\n",
    "            a = a1 - lambda_full * a2\n",
    "        else:\n",
    "            a = a1\n",
    "        v = self.V(X)\n",
    "        attn = torch.matmul(a, v)\n",
    "        attn = self.ln(attn)\n",
    "        if self.diff_attn:\n",
    "            attn = attn * (1 - self.lambda_init)\n",
    "        attn = self.ffn(attn)\n",
    "        return attn\n",
    "\n",
    "\n",
    "class DGRNN(torch.nn.Module):\n",
    "    r\"\"\"An implementation of the Diffusion Convolutional Gated Recurrent Unit.\n",
    "    For details see: `\"Diffusion Convolutional Recurrent Neural Network:\n",
    "    Data-Driven Traffic Forecasting\" <https://arxiv.org/abs/1707.01926>`_\n",
    "\n",
    "    Args:\n",
    "        in_channels (int): Number of input features.\n",
    "        out_channels (int): Number of output features.\n",
    "        num_heads (int): Number of attention heads.\n",
    "    \"\"\"\n",
    "\n",
    "    def __init__(self, in_channels: int, out_channels: int, num_heads: int, diff_attn: bool):\n",
    "        super(DGRNN, self).__init__()\n",
    "\n",
    "        self.in_channels = in_channels\n",
    "        self.out_channels = out_channels\n",
    "        self.num_heads = num_heads\n",
    "        self.diff_attn = diff_attn,\n",
    "\n",
    "        self._create_parameters_and_layers()\n",
    "\n",
    "    def _create_update_gate_parameters_and_layers(self):\n",
    "        self.conv_x_z = DGAttn(\n",
    "            in_channels=self.in_channels + self.out_channels,\n",
    "            out_channels=self.out_channels,\n",
    "            num_heads=self.num_heads,\n",
    "            diff_attn=self.diff_attn,\n",
    "        )\n",
    "\n",
    "    def _create_reset_gate_parameters_and_layers(self):\n",
    "        self.conv_x_r = DGAttn(\n",
    "            in_channels=self.in_channels + self.out_channels,\n",
    "            out_channels=self.out_channels,\n",
    "            num_heads=self.num_heads,\n",
    "            diff_attn=self.diff_attn,\n",
    "        )\n",
    "\n",
    "    def _create_candidate_state_parameters_and_layers(self):\n",
    "        self.conv_x_h = DGAttn(\n",
    "            in_channels=self.in_channels + self.out_channels,\n",
    "            out_channels=self.out_channels,\n",
    "            num_heads=self.num_heads,\n",
    "            diff_attn=self.diff_attn,\n",
    "        )\n",
    "\n",
    "    def _create_parameters_and_layers(self):\n",
    "        self._create_update_gate_parameters_and_layers()\n",
    "        self._create_reset_gate_parameters_and_layers()\n",
    "        self._create_candidate_state_parameters_and_layers()\n",
    "\n",
    "    def _set_hidden_state(self, X, H):\n",
    "        if H is None:\n",
    "            H = torch.zeros(X.shape[0], self.out_channels).to(X.device)\n",
    "        return H\n",
    "\n",
    "    def _calculate_update_gate(self, X, edge_index, edge_weight, H):\n",
    "        Z = torch.cat([X, H], dim=1)\n",
    "        Z = self.conv_x_z(Z, edge_index, edge_weight)\n",
    "        Z = torch.sigmoid(Z)\n",
    "        return Z\n",
    "\n",
    "    def _calculate_reset_gate(self, X, edge_index, edge_weight, H):\n",
    "        R = torch.cat([X, H], dim=1)\n",
    "        R = self.conv_x_r(R, edge_index, edge_weight)\n",
    "        R = torch.sigmoid(R)\n",
    "        return R\n",
    "\n",
    "    def _calculate_candidate_state(self, X, edge_index, edge_weight, H, R):\n",
    "        H_tilde = torch.cat([X, H * R], dim=1)\n",
    "        H_tilde = self.conv_x_h(H_tilde, edge_index, edge_weight)\n",
    "        H_tilde = torch.tanh(H_tilde)\n",
    "        return H_tilde\n",
    "\n",
    "    def _calculate_hidden_state(self, Z, H, H_tilde):\n",
    "        H = Z * H + (1 - Z) * H_tilde\n",
    "        return H\n",
    "\n",
    "    def forward(\n",
    "        self,\n",
    "        X: torch.FloatTensor,\n",
    "        edge_index: torch.LongTensor,\n",
    "        edge_weight: torch.FloatTensor = None,\n",
    "        H: torch.FloatTensor = None,\n",
    "    ) -> torch.FloatTensor:\n",
    "        r\"\"\"Making a forward pass. If edge weights are not present the forward pass\n",
    "        defaults to an unweighted graph. If the hidden state matrix is not present\n",
    "        when the forward pass is called it is initialized with zeros.\n",
    "\n",
    "        Arg types:\n",
    "            * **X** (PyTorch Float Tensor) - Node features.\n",
    "            * **edge_index** (PyTorch Long Tensor) - Graph edge indices.\n",
    "            * **edge_weight** (PyTorch Long Tensor, optional) - Edge weight vector.\n",
    "            * **H** (PyTorch Float Tensor, optional) - Hidden state matrix for all nodes.\n",
    "\n",
    "        Return types:\n",
    "            * **H** (PyTorch Float Tensor) - Hidden state matrix for all nodes.\n",
    "        \"\"\"\n",
    "        H = self._set_hidden_state(X, H)\n",
    "        # print('X.shape', X.shape)\n",
    "        # print('H.shape', H.shape)\n",
    "        Z = self._calculate_update_gate(X, edge_index, edge_weight, H)\n",
    "        R = self._calculate_reset_gate(X, edge_index, edge_weight, H)\n",
    "        H_tilde = self._calculate_candidate_state(X, edge_index, edge_weight, H, R)\n",
    "        H = self._calculate_hidden_state(Z, H, H_tilde)\n",
    "        return H\n"
   ]
  },
  {
   "cell_type": "markdown",
   "metadata": {},
   "source": [
    "# Plain RNN"
   ]
  },
  {
   "cell_type": "code",
   "execution_count": 5,
   "metadata": {},
   "outputs": [],
   "source": [
    "class GRU(torch.nn.Module):\n",
    "    def __init__(self, in_channels: int, out_channels: int):\n",
    "        super(GRU, self).__init__()\n",
    "        self.rnn = nn.GRU(input_size=in_channels, hidden_size=out_channels, num_layers=2, batch_first=True)\n",
    "\n",
    "    def forward(\n",
    "        self,\n",
    "        X: torch.FloatTensor,\n",
    "        edge_index: torch.LongTensor,\n",
    "        edge_weight: torch.FloatTensor = None,\n",
    "        H: torch.FloatTensor = None,\n",
    "    ) -> torch.FloatTensor:\n",
    "        outputs, H = self.rnn(X, H)\n",
    "        return H[-1]"
   ]
  },
  {
   "cell_type": "markdown",
   "metadata": {},
   "source": [
    "# RGCN"
   ]
  },
  {
   "cell_type": "code",
   "execution_count": 6,
   "metadata": {},
   "outputs": [],
   "source": [
    "import torch\n",
    "import torch.nn.functional as F\n",
    "\n",
    "class RecurrentGNN(torch.nn.Module):\n",
    "    def __init__(self, gnn, node_features, hidden_size=32, **kwargs):\n",
    "        super(RecurrentGNN, self).__init__()\n",
    "        if gnn.__name__ == \"DCRNN\":\n",
    "            self.recurrent = gnn(in_channels=node_features, out_channels=hidden_size, **kwargs)\n",
    "        elif gnn.__name__ == \"DGRNN\":\n",
    "            self.recurrent = gnn(in_channels=node_features, out_channels=hidden_size, **kwargs)\n",
    "        elif gnn.__name__ == \"GRU\":\n",
    "            self.recurrent = gnn(in_channels=node_features, out_channels=hidden_size, **kwargs)\n",
    "        else:\n",
    "            raise ValueError(f\"Invalid GNN type {gnn.__name__}\")\n",
    "        self.linear = torch.nn.Linear(hidden_size, 1)\n",
    "\n",
    "    def forward(self, x, edge_index, edge_weight, hidden):\n",
    "        h0 = self.recurrent(x, edge_index, edge_weight, hidden)\n",
    "        h = F.relu(h0)\n",
    "        h = self.linear(h)\n",
    "        return (h, h0)"
   ]
  },
  {
   "cell_type": "code",
   "execution_count": 7,
   "metadata": {},
   "outputs": [],
   "source": [
    "import math\n",
    "\n",
    "def rmse(y_hat, y):\n",
    "    return math.sqrt(F.mse_loss(y_hat, y).item())\n",
    "\n",
    "def mae(y_hat, y):\n",
    "    return F.l1_loss(y_hat, y).item()"
   ]
  },
  {
   "cell_type": "code",
   "execution_count": 8,
   "metadata": {},
   "outputs": [],
   "source": [
    "import wandb\n",
    "\n",
    "def eval(epoch, model, eval_dataset, eval_name):\n",
    "    model.eval()\n",
    "    with torch.no_grad():\n",
    "        y_hats = []\n",
    "        ys = []\n",
    "        for snapshot in eval_dataset:\n",
    "            X = snapshot.x.to(device)\n",
    "            h = None\n",
    "            if model.recurrent.__class__.__name__ == \"GRU\":\n",
    "                y_hat, _ = model(X.transpose(0, 1), snapshot.edge_index.to(device), snapshot.edge_attr.to(device), h)\n",
    "            else:\n",
    "                for x in X:\n",
    "                    y_hat, h = model(x, snapshot.edge_index.to(device), snapshot.edge_attr.to(device), h)\n",
    "            y_hats.append(y_hat)\n",
    "            ys.append(snapshot.y.to(device))\n",
    "        y_hats, ys = torch.stack(list(y_hats)).squeeze().to(device), torch.stack(list(ys)).to(device)\n",
    "        eval_rmse = rmse(y_hats, ys)\n",
    "        eval_mae = mae(y_hats, ys)\n",
    "        wandb.log({\"epoch\": epoch,\n",
    "                f\"{eval_name}/rmse\": eval_rmse,\n",
    "                f\"{eval_name}/mae\": eval_mae })\n",
    "        print(f'Epoch {epoch}, {eval_name}/rmse: {eval_rmse}, {eval_name}/mae: {eval_mae}')\n",
    "        return (eval_rmse, eval_mae)"
   ]
  },
  {
   "cell_type": "code",
   "execution_count": 9,
   "metadata": {},
   "outputs": [
    {
     "name": "stderr",
     "output_type": "stream",
     "text": [
      "\u001b[34m\u001b[1mwandb\u001b[0m: Using wandb-core as the SDK backend. Please refer to https://wandb.me/wandb-core for more information.\n",
      "\u001b[34m\u001b[1mwandb\u001b[0m: Currently logged in as: \u001b[33mkevinxli\u001b[0m. Use \u001b[1m`wandb login --relogin`\u001b[0m to force relogin\n"
     ]
    },
    {
     "data": {
      "text/html": [
       "Tracking run with wandb version 0.18.5"
      ],
      "text/plain": [
       "<IPython.core.display.HTML object>"
      ]
     },
     "metadata": {},
     "output_type": "display_data"
    },
    {
     "data": {
      "text/html": [
       "Run data is saved locally in <code>/Volumes/crucialx9/classes/fall2024/cs224w/stock/wandb/run-20241208_140353-ma59rok3</code>"
      ],
      "text/plain": [
       "<IPython.core.display.HTML object>"
      ]
     },
     "metadata": {},
     "output_type": "display_data"
    },
    {
     "data": {
      "text/html": [
       "Syncing run <strong><a href='https://wandb.ai/kevinxli/cs224w-stock-market-prediction/runs/ma59rok3' target=\"_blank\">dry-armadillo-181</a></strong> to <a href='https://wandb.ai/kevinxli/cs224w-stock-market-prediction' target=\"_blank\">Weights & Biases</a> (<a href='https://wandb.me/run' target=\"_blank\">docs</a>)<br/>"
      ],
      "text/plain": [
       "<IPython.core.display.HTML object>"
      ]
     },
     "metadata": {},
     "output_type": "display_data"
    },
    {
     "data": {
      "text/html": [
       " View project at <a href='https://wandb.ai/kevinxli/cs224w-stock-market-prediction' target=\"_blank\">https://wandb.ai/kevinxli/cs224w-stock-market-prediction</a>"
      ],
      "text/plain": [
       "<IPython.core.display.HTML object>"
      ]
     },
     "metadata": {},
     "output_type": "display_data"
    },
    {
     "data": {
      "text/html": [
       " View run at <a href='https://wandb.ai/kevinxli/cs224w-stock-market-prediction/runs/ma59rok3' target=\"_blank\">https://wandb.ai/kevinxli/cs224w-stock-market-prediction/runs/ma59rok3</a>"
      ],
      "text/plain": [
       "<IPython.core.display.HTML object>"
      ]
     },
     "metadata": {},
     "output_type": "display_data"
    },
    {
     "name": "stderr",
     "output_type": "stream",
     "text": [
      "Epoch 0: 100%|██████████| 32/32 [00:15<00:00,  2.09it/s]\n"
     ]
    },
    {
     "name": "stdout",
     "output_type": "stream",
     "text": [
      "Epoch 0, val/rmse: 1.5263910078165706, val/mae: 1.0989220142364502\n"
     ]
    },
    {
     "name": "stderr",
     "output_type": "stream",
     "text": [
      "Epoch 1: 100%|██████████| 32/32 [00:15<00:00,  2.04it/s]\n"
     ]
    },
    {
     "name": "stdout",
     "output_type": "stream",
     "text": [
      "Epoch 1, val/rmse: 1.1081476541216275, val/mae: 0.5569794774055481\n"
     ]
    },
    {
     "name": "stderr",
     "output_type": "stream",
     "text": [
      "Epoch 2: 100%|██████████| 32/32 [00:16<00:00,  2.00it/s]\n"
     ]
    },
    {
     "name": "stdout",
     "output_type": "stream",
     "text": [
      "Epoch 2, val/rmse: 1.037747978541152, val/mae: 0.4860028624534607\n"
     ]
    },
    {
     "name": "stderr",
     "output_type": "stream",
     "text": [
      "Epoch 3: 100%|██████████| 32/32 [00:16<00:00,  1.97it/s]\n"
     ]
    },
    {
     "name": "stdout",
     "output_type": "stream",
     "text": [
      "Epoch 3, val/rmse: 1.0014471669080778, val/mae: 0.43980199098587036\n"
     ]
    },
    {
     "name": "stderr",
     "output_type": "stream",
     "text": [
      "Epoch 4: 100%|██████████| 32/32 [00:16<00:00,  1.92it/s]\n"
     ]
    },
    {
     "name": "stdout",
     "output_type": "stream",
     "text": [
      "Epoch 4, val/rmse: 0.9761763457722158, val/mae: 0.4146272540092468\n"
     ]
    },
    {
     "name": "stderr",
     "output_type": "stream",
     "text": [
      "Epoch 5: 100%|██████████| 32/32 [00:15<00:00,  2.01it/s]\n"
     ]
    },
    {
     "name": "stdout",
     "output_type": "stream",
     "text": [
      "Epoch 5, val/rmse: 0.9475856279819469, val/mae: 0.3821941018104553\n"
     ]
    },
    {
     "name": "stderr",
     "output_type": "stream",
     "text": [
      "Epoch 6: 100%|██████████| 32/32 [00:16<00:00,  1.94it/s]\n"
     ]
    },
    {
     "name": "stdout",
     "output_type": "stream",
     "text": [
      "Epoch 6, val/rmse: 0.9195391269758066, val/mae: 0.35318058729171753\n"
     ]
    },
    {
     "name": "stderr",
     "output_type": "stream",
     "text": [
      "Epoch 7: 100%|██████████| 32/32 [00:16<00:00,  1.98it/s]\n"
     ]
    },
    {
     "name": "stdout",
     "output_type": "stream",
     "text": [
      "Epoch 7, val/rmse: 0.8990149591026663, val/mae: 0.34921517968177795\n"
     ]
    },
    {
     "name": "stderr",
     "output_type": "stream",
     "text": [
      "Epoch 8: 100%|██████████| 32/32 [00:16<00:00,  1.94it/s]\n"
     ]
    },
    {
     "name": "stdout",
     "output_type": "stream",
     "text": [
      "Epoch 8, val/rmse: 0.8856155994807454, val/mae: 0.3115306794643402\n"
     ]
    },
    {
     "name": "stderr",
     "output_type": "stream",
     "text": [
      "Epoch 9: 100%|██████████| 32/32 [00:17<00:00,  1.83it/s]\n"
     ]
    },
    {
     "name": "stdout",
     "output_type": "stream",
     "text": [
      "Epoch 9, val/rmse: 0.868349482470958, val/mae: 0.29591983556747437\n"
     ]
    },
    {
     "name": "stderr",
     "output_type": "stream",
     "text": [
      "Epoch 10: 100%|██████████| 32/32 [00:16<00:00,  1.92it/s]\n"
     ]
    },
    {
     "name": "stdout",
     "output_type": "stream",
     "text": [
      "Epoch 10, val/rmse: 0.8593699368414413, val/mae: 0.28167763352394104\n"
     ]
    },
    {
     "name": "stderr",
     "output_type": "stream",
     "text": [
      "Epoch 11: 100%|██████████| 32/32 [00:16<00:00,  1.95it/s]\n"
     ]
    },
    {
     "name": "stdout",
     "output_type": "stream",
     "text": [
      "Epoch 11, val/rmse: 0.8482982120725764, val/mae: 0.2676037847995758\n"
     ]
    },
    {
     "name": "stderr",
     "output_type": "stream",
     "text": [
      "Epoch 12: 100%|██████████| 32/32 [00:17<00:00,  1.82it/s]\n"
     ]
    },
    {
     "name": "stdout",
     "output_type": "stream",
     "text": [
      "Epoch 12, val/rmse: 0.8389395881290931, val/mae: 0.25787636637687683\n"
     ]
    },
    {
     "name": "stderr",
     "output_type": "stream",
     "text": [
      "Epoch 13: 100%|██████████| 32/32 [00:19<00:00,  1.61it/s]\n"
     ]
    },
    {
     "name": "stdout",
     "output_type": "stream",
     "text": [
      "Epoch 13, val/rmse: 0.8257770361382294, val/mae: 0.24264487624168396\n"
     ]
    },
    {
     "name": "stderr",
     "output_type": "stream",
     "text": [
      "Epoch 14: 100%|██████████| 32/32 [00:19<00:00,  1.67it/s]\n"
     ]
    },
    {
     "name": "stdout",
     "output_type": "stream",
     "text": [
      "Epoch 14, val/rmse: 0.8179161674263496, val/mae: 0.2353849858045578\n"
     ]
    },
    {
     "name": "stderr",
     "output_type": "stream",
     "text": [
      "Epoch 15: 100%|██████████| 32/32 [00:18<00:00,  1.76it/s]\n"
     ]
    },
    {
     "name": "stdout",
     "output_type": "stream",
     "text": [
      "Epoch 15, val/rmse: 0.8118694132553184, val/mae: 0.22822602093219757\n"
     ]
    },
    {
     "name": "stderr",
     "output_type": "stream",
     "text": [
      "Epoch 16: 100%|██████████| 32/32 [00:16<00:00,  1.89it/s]\n"
     ]
    },
    {
     "name": "stdout",
     "output_type": "stream",
     "text": [
      "Epoch 16, val/rmse: 0.8047864538292688, val/mae: 0.22047922015190125\n"
     ]
    },
    {
     "name": "stderr",
     "output_type": "stream",
     "text": [
      "Epoch 17: 100%|██████████| 32/32 [00:17<00:00,  1.81it/s]\n"
     ]
    },
    {
     "name": "stdout",
     "output_type": "stream",
     "text": [
      "Epoch 17, val/rmse: 0.7975381821726879, val/mae: 0.21484145522117615\n"
     ]
    },
    {
     "name": "stderr",
     "output_type": "stream",
     "text": [
      "Epoch 18: 100%|██████████| 32/32 [00:17<00:00,  1.88it/s]\n"
     ]
    },
    {
     "name": "stdout",
     "output_type": "stream",
     "text": [
      "Epoch 18, val/rmse: 0.794705110655562, val/mae: 0.2104140669107437\n"
     ]
    },
    {
     "name": "stderr",
     "output_type": "stream",
     "text": [
      "Epoch 19: 100%|██████████| 32/32 [00:22<00:00,  1.44it/s]\n"
     ]
    },
    {
     "name": "stdout",
     "output_type": "stream",
     "text": [
      "Epoch 19, val/rmse: 0.7882887190586862, val/mae: 0.20334938168525696\n"
     ]
    },
    {
     "name": "stderr",
     "output_type": "stream",
     "text": [
      "Epoch 20: 100%|██████████| 32/32 [00:21<00:00,  1.48it/s]\n"
     ]
    },
    {
     "name": "stdout",
     "output_type": "stream",
     "text": [
      "Epoch 20, val/rmse: 0.784823750554938, val/mae: 0.23194439709186554\n"
     ]
    },
    {
     "name": "stderr",
     "output_type": "stream",
     "text": [
      "Epoch 21: 100%|██████████| 32/32 [00:20<00:00,  1.53it/s]\n"
     ]
    },
    {
     "name": "stdout",
     "output_type": "stream",
     "text": [
      "Epoch 21, val/rmse: 0.7956290134229818, val/mae: 0.2555084824562073\n"
     ]
    },
    {
     "name": "stderr",
     "output_type": "stream",
     "text": [
      "Epoch 22: 100%|██████████| 32/32 [00:19<00:00,  1.60it/s]\n"
     ]
    },
    {
     "name": "stdout",
     "output_type": "stream",
     "text": [
      "Epoch 22, val/rmse: 0.7760413295736583, val/mae: 0.19505389034748077\n"
     ]
    },
    {
     "name": "stderr",
     "output_type": "stream",
     "text": [
      "Epoch 23: 100%|██████████| 32/32 [00:21<00:00,  1.51it/s]\n"
     ]
    },
    {
     "name": "stdout",
     "output_type": "stream",
     "text": [
      "Epoch 23, val/rmse: 0.7769099803239807, val/mae: 0.19751904904842377\n"
     ]
    },
    {
     "name": "stderr",
     "output_type": "stream",
     "text": [
      "Epoch 24: 100%|██████████| 32/32 [00:20<00:00,  1.53it/s]\n"
     ]
    },
    {
     "name": "stdout",
     "output_type": "stream",
     "text": [
      "Epoch 24, val/rmse: 0.7698561084360038, val/mae: 0.1848697066307068\n"
     ]
    },
    {
     "name": "stderr",
     "output_type": "stream",
     "text": [
      "Epoch 25: 100%|██████████| 32/32 [00:19<00:00,  1.66it/s]\n"
     ]
    },
    {
     "name": "stdout",
     "output_type": "stream",
     "text": [
      "Epoch 25, val/rmse: 0.7667474887235877, val/mae: 0.18205635249614716\n"
     ]
    },
    {
     "name": "stderr",
     "output_type": "stream",
     "text": [
      "Epoch 26: 100%|██████████| 32/32 [00:20<00:00,  1.57it/s]\n"
     ]
    },
    {
     "name": "stdout",
     "output_type": "stream",
     "text": [
      "Epoch 26, val/rmse: 0.7634947978818649, val/mae: 0.17923355102539062\n"
     ]
    },
    {
     "name": "stderr",
     "output_type": "stream",
     "text": [
      "Epoch 27: 100%|██████████| 32/32 [00:21<00:00,  1.47it/s]\n"
     ]
    },
    {
     "name": "stdout",
     "output_type": "stream",
     "text": [
      "Epoch 27, val/rmse: 0.7602492413778889, val/mae: 0.17567890882492065\n"
     ]
    },
    {
     "name": "stderr",
     "output_type": "stream",
     "text": [
      "Epoch 28: 100%|██████████| 32/32 [00:21<00:00,  1.52it/s]\n"
     ]
    },
    {
     "name": "stdout",
     "output_type": "stream",
     "text": [
      "Epoch 28, val/rmse: 0.7586980934550509, val/mae: 0.17511647939682007\n"
     ]
    },
    {
     "name": "stderr",
     "output_type": "stream",
     "text": [
      "Epoch 29: 100%|██████████| 32/32 [00:18<00:00,  1.69it/s]\n"
     ]
    },
    {
     "name": "stdout",
     "output_type": "stream",
     "text": [
      "Epoch 29, val/rmse: 0.7549866361887934, val/mae: 0.170461043715477\n"
     ]
    },
    {
     "name": "stderr",
     "output_type": "stream",
     "text": [
      "Epoch 30: 100%|██████████| 32/32 [00:19<00:00,  1.64it/s]\n"
     ]
    },
    {
     "name": "stdout",
     "output_type": "stream",
     "text": [
      "Epoch 30, val/rmse: 0.7532897563233281, val/mae: 0.169327512383461\n"
     ]
    },
    {
     "name": "stderr",
     "output_type": "stream",
     "text": [
      "Epoch 31: 100%|██████████| 32/32 [00:19<00:00,  1.65it/s]\n"
     ]
    },
    {
     "name": "stdout",
     "output_type": "stream",
     "text": [
      "Epoch 31, val/rmse: 0.7505095261077863, val/mae: 0.16687002778053284\n"
     ]
    },
    {
     "name": "stderr",
     "output_type": "stream",
     "text": [
      "Epoch 32: 100%|██████████| 32/32 [00:20<00:00,  1.60it/s]\n"
     ]
    },
    {
     "name": "stdout",
     "output_type": "stream",
     "text": [
      "Epoch 32, val/rmse: 0.7468911348778758, val/mae: 0.16333219408988953\n"
     ]
    },
    {
     "name": "stderr",
     "output_type": "stream",
     "text": [
      "Epoch 33: 100%|██████████| 32/32 [00:19<00:00,  1.63it/s]\n"
     ]
    },
    {
     "name": "stdout",
     "output_type": "stream",
     "text": [
      "Epoch 33, val/rmse: 0.7457854747512689, val/mae: 0.1621895581483841\n"
     ]
    },
    {
     "name": "stderr",
     "output_type": "stream",
     "text": [
      "Epoch 34: 100%|██████████| 32/32 [00:19<00:00,  1.65it/s]\n"
     ]
    },
    {
     "name": "stdout",
     "output_type": "stream",
     "text": [
      "Epoch 34, val/rmse: 0.7429262199222652, val/mae: 0.15959322452545166\n"
     ]
    },
    {
     "name": "stderr",
     "output_type": "stream",
     "text": [
      "Epoch 35: 100%|██████████| 32/32 [00:19<00:00,  1.61it/s]\n"
     ]
    },
    {
     "name": "stdout",
     "output_type": "stream",
     "text": [
      "Epoch 35, val/rmse: 0.7415178590785855, val/mae: 0.1585560441017151\n"
     ]
    },
    {
     "name": "stderr",
     "output_type": "stream",
     "text": [
      "Epoch 36: 100%|██████████| 32/32 [00:22<00:00,  1.45it/s]\n"
     ]
    },
    {
     "name": "stdout",
     "output_type": "stream",
     "text": [
      "Epoch 36, val/rmse: 0.7399706609812355, val/mae: 0.15878956019878387\n"
     ]
    },
    {
     "name": "stderr",
     "output_type": "stream",
     "text": [
      "Epoch 37: 100%|██████████| 32/32 [00:20<00:00,  1.56it/s]\n"
     ]
    },
    {
     "name": "stdout",
     "output_type": "stream",
     "text": [
      "Epoch 37, val/rmse: 0.7364594117354105, val/mae: 0.15650033950805664\n"
     ]
    },
    {
     "name": "stderr",
     "output_type": "stream",
     "text": [
      "Epoch 38: 100%|██████████| 32/32 [00:19<00:00,  1.60it/s]\n"
     ]
    },
    {
     "name": "stdout",
     "output_type": "stream",
     "text": [
      "Epoch 38, val/rmse: 0.7348962516612253, val/mae: 0.15301468968391418\n"
     ]
    },
    {
     "name": "stderr",
     "output_type": "stream",
     "text": [
      "Epoch 39: 100%|██████████| 32/32 [00:19<00:00,  1.63it/s]\n"
     ]
    },
    {
     "name": "stdout",
     "output_type": "stream",
     "text": [
      "Epoch 39, val/rmse: 0.7357229888007085, val/mae: 0.15812242031097412\n"
     ]
    },
    {
     "name": "stderr",
     "output_type": "stream",
     "text": [
      "Epoch 40: 100%|██████████| 32/32 [00:20<00:00,  1.59it/s]\n"
     ]
    },
    {
     "name": "stdout",
     "output_type": "stream",
     "text": [
      "Epoch 40, val/rmse: 0.7920170226242532, val/mae: 0.317247211933136\n"
     ]
    },
    {
     "name": "stderr",
     "output_type": "stream",
     "text": [
      "Epoch 41: 100%|██████████| 32/32 [00:19<00:00,  1.63it/s]\n"
     ]
    },
    {
     "name": "stdout",
     "output_type": "stream",
     "text": [
      "Epoch 41, val/rmse: 0.7327376435200134, val/mae: 0.1587306261062622\n"
     ]
    },
    {
     "name": "stderr",
     "output_type": "stream",
     "text": [
      "Epoch 42: 100%|██████████| 32/32 [00:19<00:00,  1.67it/s]\n"
     ]
    },
    {
     "name": "stdout",
     "output_type": "stream",
     "text": [
      "Epoch 42, val/rmse: 0.7307659095522664, val/mae: 0.1512630581855774\n"
     ]
    },
    {
     "name": "stderr",
     "output_type": "stream",
     "text": [
      "Epoch 43: 100%|██████████| 32/32 [00:20<00:00,  1.56it/s]\n"
     ]
    },
    {
     "name": "stdout",
     "output_type": "stream",
     "text": [
      "Epoch 43, val/rmse: 0.7287065598380134, val/mae: 0.1479777842760086\n"
     ]
    },
    {
     "name": "stderr",
     "output_type": "stream",
     "text": [
      "Epoch 44: 100%|██████████| 32/32 [00:19<00:00,  1.61it/s]\n"
     ]
    },
    {
     "name": "stdout",
     "output_type": "stream",
     "text": [
      "Epoch 44, val/rmse: 0.7268871689464168, val/mae: 0.14604264497756958\n"
     ]
    },
    {
     "name": "stderr",
     "output_type": "stream",
     "text": [
      "Epoch 45: 100%|██████████| 32/32 [00:19<00:00,  1.62it/s]\n"
     ]
    },
    {
     "name": "stdout",
     "output_type": "stream",
     "text": [
      "Epoch 45, val/rmse: 0.7261013495398693, val/mae: 0.14695191383361816\n"
     ]
    },
    {
     "name": "stderr",
     "output_type": "stream",
     "text": [
      "Epoch 46: 100%|██████████| 32/32 [00:18<00:00,  1.70it/s]\n"
     ]
    },
    {
     "name": "stdout",
     "output_type": "stream",
     "text": [
      "Epoch 46, val/rmse: 0.7245590727175599, val/mae: 0.14558178186416626\n"
     ]
    },
    {
     "name": "stderr",
     "output_type": "stream",
     "text": [
      "Epoch 47: 100%|██████████| 32/32 [00:19<00:00,  1.60it/s]\n"
     ]
    },
    {
     "name": "stdout",
     "output_type": "stream",
     "text": [
      "Epoch 47, val/rmse: 0.7225406863626448, val/mae: 0.14256401360034943\n"
     ]
    },
    {
     "name": "stderr",
     "output_type": "stream",
     "text": [
      "Epoch 48: 100%|██████████| 32/32 [00:19<00:00,  1.67it/s]\n"
     ]
    },
    {
     "name": "stdout",
     "output_type": "stream",
     "text": [
      "Epoch 48, val/rmse: 0.720767093290359, val/mae: 0.14812614023685455\n"
     ]
    },
    {
     "name": "stderr",
     "output_type": "stream",
     "text": [
      "Epoch 49: 100%|██████████| 32/32 [00:20<00:00,  1.60it/s]\n"
     ]
    },
    {
     "name": "stdout",
     "output_type": "stream",
     "text": [
      "Epoch 49, val/rmse: 0.7201615860208117, val/mae: 0.14087459444999695\n"
     ]
    }
   ],
   "source": [
    "from tqdm import tqdm\n",
    "import wandb\n",
    "from torch_geometric_temporal.nn.recurrent import DCRNN\n",
    "\n",
    "gnn = GRU\n",
    "\n",
    "model = RecurrentGNN(gnn = gnn, node_features = 4).to(device)\n",
    "\n",
    "if gnn.__name__ == 'GRU':\n",
    "    model_name = f'{gnn.__name__}'\n",
    "elif gnn.__name__ == 'DCRNN':\n",
    "    model_name = f'{gnn.__name__}_{corr_name}_{corr_scope}'\n",
    "elif gnn.__name__ == 'DGRNN':\n",
    "    model_name = f'{gnn.__name__}_{corr_name}_{corr_scope}{\"_diff_attn\" if model.recurrent.diff_attn else \"\"}'\n",
    "\n",
    "lr = 1e-3\n",
    "num_epochs = 50\n",
    "optimizer = torch.optim.Adam(model.parameters(), lr=lr)\n",
    "track_with_wandb = True\n",
    "\n",
    "if track_with_wandb:\n",
    "    wandb.init(project=\"cs224w-stock-market-prediction\", config={\n",
    "        \"dataset\": \"S&P500\",\n",
    "        \"corr_name\": corr_name,\n",
    "        \"corr_scope\": corr_scope,\n",
    "        \"learning_rate\": lr,\n",
    "        \"epochs\": num_epochs,\n",
    "        \"architecture\": gnn.__name__,\n",
    "    })\n",
    "\n",
    "best_val_rmse = float('inf')\n",
    "\n",
    "batch_size = 64\n",
    "\n",
    "def split_into_batches(lst, batch_size):\n",
    "    return [lst[i:i + batch_size] for i in range(0, len(lst), batch_size)]\n",
    "\n",
    "train_samples = list(train_dataset)\n",
    "train_batches = split_into_batches(train_samples, batch_size)\n",
    "\n",
    "for epoch in range(num_epochs):\n",
    "    model.train()\n",
    "    train_loss = 0\n",
    "    random.shuffle(train_batches)\n",
    "    for step, batch in tqdm(enumerate(train_batches), total=len(train_batches), desc=f'Epoch {epoch}'):\n",
    "        y_hats = []\n",
    "        ys = []\n",
    "        for snapshot in batch:\n",
    "            X = snapshot.x.to(device)\n",
    "            h = None\n",
    "            if model.recurrent.__class__.__name__ == \"GRU\":\n",
    "                y_hat, _ = model(X.transpose(0, 1), snapshot.edge_index.to(device), snapshot.edge_attr.to(device), h)\n",
    "            else:\n",
    "                for x in X:\n",
    "                    y_hat, h = model(x, snapshot.edge_index.to(device), snapshot.edge_attr.to(device), h)\n",
    "            y_hats.append(y_hat)\n",
    "            ys.append(snapshot.y.to(device))\n",
    "        y_hats, ys = torch.stack(y_hats).squeeze(), torch.stack(ys)\n",
    "        loss = F.mse_loss(y_hats, ys)\n",
    "        train_loss += loss.item()\n",
    "        loss.backward()\n",
    "        optimizer.step()\n",
    "        optimizer.zero_grad()\n",
    "        wandb.log({\"epoch\": epoch,\n",
    "                   \"step\": epoch * len(train_samples) + step,\n",
    "                    \"train/loss\": loss.item() })\n",
    "    train_loss /= len(train_samples)\n",
    "\n",
    "    if track_with_wandb:\n",
    "        val_rmse, val_mae = eval(epoch, model, val_dataset, 'val')\n",
    "        if val_rmse < best_val_rmse:\n",
    "            best_rmse = val_rmse\n",
    "            torch.save(model.state_dict(), f'{model_name}.pth')\n"
   ]
  },
  {
   "cell_type": "code",
   "execution_count": 10,
   "metadata": {},
   "outputs": [
    {
     "name": "stdout",
     "output_type": "stream",
     "text": [
      "Epoch 49, test/rmse: 3.268968686434329, test/mae: 0.5551874041557312\n"
     ]
    }
   ],
   "source": [
    "if track_with_wandb:\n",
    "    best_model = RecurrentGNN(gnn = gnn, node_features = 4).to(device)\n",
    "    best_model.load_state_dict(torch.load(f'{model_name}.pth', weights_only=True))\n",
    "    test_rmse, test_mae = eval(epoch, best_model, test_dataset, 'test')\n"
   ]
  }
 ],
 "metadata": {
  "kernelspec": {
   "display_name": "stock",
   "language": "python",
   "name": "python3"
  },
  "language_info": {
   "codemirror_mode": {
    "name": "ipython",
    "version": 3
   },
   "file_extension": ".py",
   "mimetype": "text/x-python",
   "name": "python",
   "nbconvert_exporter": "python",
   "pygments_lexer": "ipython3",
   "version": "3.12.7"
  }
 },
 "nbformat": 4,
 "nbformat_minor": 2
}
