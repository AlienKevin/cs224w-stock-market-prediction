{
 "cells": [
  {
   "cell_type": "markdown",
   "metadata": {},
   "source": [
    "# Dataset Construction"
   ]
  },
  {
   "cell_type": "code",
   "execution_count": 1,
   "metadata": {},
   "outputs": [],
   "source": [
    "import numpy as np\n",
    "import pandas as pd\n",
    "from torch_geometric_temporal.signal import StaticGraphTemporalSignalBatch, DynamicGraphTemporalSignalBatch\n",
    "import torch\n",
    "from typing import Union\n",
    "import glob\n",
    "from natsort import natsorted\n",
    "import random\n",
    "\n",
    "random.seed(42)\n",
    "\n",
    "class SP500CorrelationsDatasetLoader(object):\n",
    "    def __init__(self, corr_name, corr_scope):\n",
    "        self._read_csv(corr_name, corr_scope)\n",
    "\n",
    "    def _read_csv(self, corr_name, corr_scope):\n",
    "        match corr_scope:\n",
    "            case 'global':\n",
    "                self._correlation_matrices = [np.loadtxt(f'{corr_name}/{corr_scope}_corr.csv', delimiter=',')]\n",
    "            case 'local':\n",
    "                self._correlation_matrices = []\n",
    "                corr_files = natsorted(glob.glob(f'{corr_name}/local_corr_*.csv'))\n",
    "                for corr_file in corr_files:\n",
    "                    matrix = np.loadtxt(corr_file, delimiter=',')\n",
    "                    self._correlation_matrices.append(matrix)\n",
    "        \n",
    "        # Thesholding\n",
    "        _correlation_threshold = 0.9\n",
    "        for matrix in self._correlation_matrices:\n",
    "            matrix[matrix < _correlation_threshold] = 0\n",
    "        \n",
    "        df = pd.read_csv('s&p500.csv')\n",
    "        df = df.set_index('Date')\n",
    "        data = torch.from_numpy(df.to_numpy()).to(torch.float32)\n",
    "\n",
    "        # Round data size to nearest multiple of batch_size\n",
    "        self.days_in_quarter = 64\n",
    "        num_quarters = data.size(0) // self.days_in_quarter\n",
    "        num_days = num_quarters * self.days_in_quarter\n",
    "        data = data[:num_days]\n",
    "        \n",
    "        # z-score normalization with training data following GERU\n",
    "        train_days = int(0.8 * num_quarters) * self.days_in_quarter\n",
    "        data = (data - data[:train_days].mean(dim=0)) / data[:train_days].std(dim=0)\n",
    "        data = data.numpy()\n",
    "        np.savetxt('s&p500_z_scores.csv', data, delimiter=',')\n",
    "        self._dataset = data\n",
    "\n",
    "    def _get_edges(self):\n",
    "        if len(self._correlation_matrices) == 1:\n",
    "            self._edges = np.array(self._correlation_matrices[0].nonzero())\n",
    "        else:\n",
    "            self._edges = []\n",
    "            for time in range(self._dataset.shape[0] - self.lags):\n",
    "                corr_index = time // self.days_in_quarter\n",
    "                self._edges.append(\n",
    "                    np.array(self._correlation_matrices[corr_index].nonzero())\n",
    "                )\n",
    "\n",
    "    def _get_edge_weights(self):\n",
    "        if len(self._correlation_matrices) == 1:\n",
    "            self._edge_weights = self._correlation_matrices[0][self._correlation_matrices[0] > 0]\n",
    "        else:\n",
    "            self._edge_weights = []\n",
    "            for time in range(self._dataset.shape[0] - self.lags):\n",
    "                corr_index = time // self.days_in_quarter\n",
    "                self._edge_weights.append(\n",
    "                    np.array(self._correlation_matrices[corr_index][self._correlation_matrices[corr_index] > 0])\n",
    "                )\n",
    "\n",
    "    def _get_targets_and_features(self):\n",
    "        stacked_target = self._dataset\n",
    "        self.features = [\n",
    "            stacked_target[i : i + self.lags, :].T\n",
    "            for i in range(stacked_target.shape[0] - self.lags)\n",
    "        ]\n",
    "        # predict next-day stock movement\n",
    "        self.targets = [\n",
    "            ((stacked_target[i + self.lags, :] > stacked_target[i + self.lags - 1, :]).astype(float)).T\n",
    "            for i in range(stacked_target.shape[0] - self.lags)\n",
    "        ]\n",
    "\n",
    "    def get_dataset(self) -> Union[StaticGraphTemporalSignalBatch, DynamicGraphTemporalSignalBatch]:\n",
    "        \"\"\"Returning the data iterator.\n",
    "        \"\"\"\n",
    "        self.lags = self.days_in_quarter\n",
    "        self._get_edges()\n",
    "        self._get_edge_weights()\n",
    "        self._get_targets_and_features()\n",
    "        self.batches = np.repeat(np.arange((self._dataset.shape[0] - self.lags) // self.days_in_quarter), self.days_in_quarter)\n",
    "        dataset = (DynamicGraphTemporalSignalBatch if type(self._edges) == list else StaticGraphTemporalSignalBatch)(\n",
    "            self._edges, self._edge_weights, self.features, self.targets, self.batches\n",
    "        )\n",
    "        return dataset"
   ]
  },
  {
   "cell_type": "code",
   "execution_count": 2,
   "metadata": {},
   "outputs": [],
   "source": [
    "from torch_geometric_temporal.signal import temporal_signal_split\n",
    "\n",
    "# device = torch.device(\"cuda\" if torch.cuda.is_available() else \"cpu\")\n",
    "device = 'cpu'\n",
    "\n",
    "corr_name = 'mi'\n",
    "corr_scope = 'global'\n",
    "loader = SP500CorrelationsDatasetLoader(corr_name=corr_name, corr_scope=corr_scope)\n",
    "\n",
    "dataset = loader.get_dataset()\n",
    "lags = loader.lags\n",
    "\n",
    "train_dataset, test_val_dataset = temporal_signal_split(dataset, train_ratio=0.8)\n",
    "val_dataset, test_dataset = temporal_signal_split(test_val_dataset, train_ratio=0.5)"
   ]
  },
  {
   "cell_type": "markdown",
   "metadata": {},
   "source": [
    "# Evaluation"
   ]
  },
  {
   "cell_type": "code",
   "execution_count": 3,
   "metadata": {},
   "outputs": [],
   "source": [
    "from torcheval.metrics.functional import binary_f1_score, binary_accuracy\n",
    "\n",
    "def accuracy(y_hats, ys):\n",
    "    return binary_accuracy(y_hats.flatten(), ys.flatten()).item()\n",
    "\n",
    "def f1(y_hats, ys):\n",
    "    return binary_f1_score(y_hats.flatten(), ys.flatten()).item()\n"
   ]
  },
  {
   "cell_type": "markdown",
   "metadata": {},
   "source": [
    "# RGCN"
   ]
  },
  {
   "cell_type": "code",
   "execution_count": 4,
   "metadata": {},
   "outputs": [],
   "source": [
    "import torch\n",
    "import torch.nn.functional as F\n",
    "from torch_geometric_temporal.nn.recurrent import DCRNN\n",
    "\n",
    "class RecurrentGCN(torch.nn.Module):\n",
    "    def __init__(self, node_features):\n",
    "        super(RecurrentGCN, self).__init__()\n",
    "        self.recurrent = DCRNN(node_features, 64, 1)\n",
    "        self.linear = torch.nn.Linear(64, 1)\n",
    "\n",
    "    def forward(self, x, edge_index, edge_weight):\n",
    "        h = self.recurrent(x, edge_index, edge_weight)\n",
    "        h = F.relu(h)\n",
    "        return F.sigmoid(self.linear(h))"
   ]
  },
  {
   "cell_type": "code",
   "execution_count": 5,
   "metadata": {},
   "outputs": [
    {
     "name": "stderr",
     "output_type": "stream",
     "text": [
      "\u001b[34m\u001b[1mwandb\u001b[0m: Using wandb-core as the SDK backend. Please refer to https://wandb.me/wandb-core for more information.\n",
      "\u001b[34m\u001b[1mwandb\u001b[0m: Currently logged in as: \u001b[33mkevinxli\u001b[0m. Use \u001b[1m`wandb login --relogin`\u001b[0m to force relogin\n"
     ]
    },
    {
     "data": {
      "text/html": [
       "Tracking run with wandb version 0.18.5"
      ],
      "text/plain": [
       "<IPython.core.display.HTML object>"
      ]
     },
     "metadata": {},
     "output_type": "display_data"
    },
    {
     "data": {
      "text/html": [
       "Run data is saved locally in <code>/Volumes/crucialx9/classes/fall2024/cs224w/stock/wandb/run-20241206_211646-y35a7oys</code>"
      ],
      "text/plain": [
       "<IPython.core.display.HTML object>"
      ]
     },
     "metadata": {},
     "output_type": "display_data"
    },
    {
     "data": {
      "text/html": [
       "Syncing run <strong><a href='https://wandb.ai/kevinxli/cs224w-stock-market-prediction/runs/y35a7oys' target=\"_blank\">breezy-night-96</a></strong> to <a href='https://wandb.ai/kevinxli/cs224w-stock-market-prediction' target=\"_blank\">Weights & Biases</a> (<a href='https://wandb.me/run' target=\"_blank\">docs</a>)<br/>"
      ],
      "text/plain": [
       "<IPython.core.display.HTML object>"
      ]
     },
     "metadata": {},
     "output_type": "display_data"
    },
    {
     "data": {
      "text/html": [
       " View project at <a href='https://wandb.ai/kevinxli/cs224w-stock-market-prediction' target=\"_blank\">https://wandb.ai/kevinxli/cs224w-stock-market-prediction</a>"
      ],
      "text/plain": [
       "<IPython.core.display.HTML object>"
      ]
     },
     "metadata": {},
     "output_type": "display_data"
    },
    {
     "data": {
      "text/html": [
       " View run at <a href='https://wandb.ai/kevinxli/cs224w-stock-market-prediction/runs/y35a7oys' target=\"_blank\">https://wandb.ai/kevinxli/cs224w-stock-market-prediction/runs/y35a7oys</a>"
      ],
      "text/plain": [
       "<IPython.core.display.HTML object>"
      ]
     },
     "metadata": {},
     "output_type": "display_data"
    },
    {
     "name": "stderr",
     "output_type": "stream",
     "text": [
      "  5%|▌         | 1/20 [00:10<03:28, 10.95s/it]"
     ]
    },
    {
     "name": "stdout",
     "output_type": "stream",
     "text": [
      "Epoch 0, val/acc: 0.5120143890380859, val/f1: 0.6772575974464417\n"
     ]
    },
    {
     "name": "stderr",
     "output_type": "stream",
     "text": [
      " 10%|█         | 2/20 [00:22<03:18, 11.03s/it]"
     ]
    },
    {
     "name": "stdout",
     "output_type": "stream",
     "text": [
      "Epoch 1, val/acc: 0.4892672896385193, val/f1: 0.22270873188972473\n"
     ]
    },
    {
     "name": "stderr",
     "output_type": "stream",
     "text": [
      " 15%|█▌        | 3/20 [00:33<03:08, 11.08s/it]"
     ]
    },
    {
     "name": "stdout",
     "output_type": "stream",
     "text": [
      "Epoch 2, val/acc: 0.5122672319412231, val/f1: 0.6763553619384766\n"
     ]
    },
    {
     "name": "stderr",
     "output_type": "stream",
     "text": [
      " 20%|██        | 4/20 [00:43<02:54, 10.89s/it]"
     ]
    },
    {
     "name": "stdout",
     "output_type": "stream",
     "text": [
      "Epoch 3, val/acc: 0.5120143890380859, val/f1: 0.6772612929344177\n"
     ]
    },
    {
     "name": "stderr",
     "output_type": "stream",
     "text": [
      " 25%|██▌       | 5/20 [00:54<02:43, 10.88s/it]"
     ]
    },
    {
     "name": "stdout",
     "output_type": "stream",
     "text": [
      "Epoch 4, val/acc: 0.5120317935943604, val/f1: 0.6772690415382385\n"
     ]
    },
    {
     "name": "stderr",
     "output_type": "stream",
     "text": [
      " 30%|███       | 6/20 [01:05<02:34, 11.00s/it]"
     ]
    },
    {
     "name": "stdout",
     "output_type": "stream",
     "text": [
      "Epoch 5, val/acc: 0.5120143890380859, val/f1: 0.6772612929344177\n"
     ]
    },
    {
     "name": "stderr",
     "output_type": "stream",
     "text": [
      " 35%|███▌      | 7/20 [01:16<02:22, 10.98s/it]"
     ]
    },
    {
     "name": "stdout",
     "output_type": "stream",
     "text": [
      "Epoch 6, val/acc: 0.5121538639068604, val/f1: 0.6771636605262756\n"
     ]
    },
    {
     "name": "stderr",
     "output_type": "stream",
     "text": [
      " 40%|████      | 8/20 [01:27<02:11, 10.98s/it]"
     ]
    },
    {
     "name": "stdout",
     "output_type": "stream",
     "text": [
      "Epoch 7, val/acc: 0.5120754241943359, val/f1: 0.6771359443664551\n"
     ]
    },
    {
     "name": "stderr",
     "output_type": "stream",
     "text": [
      " 45%|████▌     | 9/20 [01:38<02:00, 10.98s/it]"
     ]
    },
    {
     "name": "stdout",
     "output_type": "stream",
     "text": [
      "Epoch 8, val/acc: 0.5121713280677795, val/f1: 0.6767797470092773\n"
     ]
    },
    {
     "name": "stderr",
     "output_type": "stream",
     "text": [
      " 50%|█████     | 10/20 [01:49<01:48, 10.89s/it]"
     ]
    },
    {
     "name": "stdout",
     "output_type": "stream",
     "text": [
      "Epoch 9, val/acc: 0.5122410655021667, val/f1: 0.6756342649459839\n"
     ]
    },
    {
     "name": "stderr",
     "output_type": "stream",
     "text": [
      " 55%|█████▌    | 11/20 [02:00<01:38, 10.90s/it]"
     ]
    },
    {
     "name": "stdout",
     "output_type": "stream",
     "text": [
      "Epoch 10, val/acc: 0.5115609765052795, val/f1: 0.6490817070007324\n"
     ]
    },
    {
     "name": "stderr",
     "output_type": "stream",
     "text": [
      " 60%|██████    | 12/20 [02:11<01:28, 11.06s/it]"
     ]
    },
    {
     "name": "stdout",
     "output_type": "stream",
     "text": [
      "Epoch 11, val/acc: 0.5122148990631104, val/f1: 0.6772133708000183\n"
     ]
    },
    {
     "name": "stderr",
     "output_type": "stream",
     "text": [
      " 65%|██████▌   | 13/20 [02:22<01:17, 11.09s/it]"
     ]
    },
    {
     "name": "stdout",
     "output_type": "stream",
     "text": [
      "Epoch 12, val/acc: 0.5123021006584167, val/f1: 0.6766479015350342\n"
     ]
    },
    {
     "name": "stderr",
     "output_type": "stream",
     "text": [
      " 70%|███████   | 14/20 [02:34<01:07, 11.27s/it]"
     ]
    },
    {
     "name": "stdout",
     "output_type": "stream",
     "text": [
      "Epoch 13, val/acc: 0.5120579600334167, val/f1: 0.6768745183944702\n"
     ]
    },
    {
     "name": "stderr",
     "output_type": "stream",
     "text": [
      " 75%|███████▌  | 15/20 [02:45<00:55, 11.11s/it]"
     ]
    },
    {
     "name": "stdout",
     "output_type": "stream",
     "text": [
      "Epoch 14, val/acc: 0.4904094338417053, val/f1: 0.2651747763156891\n"
     ]
    },
    {
     "name": "stderr",
     "output_type": "stream",
     "text": [
      " 80%|████████  | 16/20 [02:56<00:43, 10.96s/it]"
     ]
    },
    {
     "name": "stdout",
     "output_type": "stream",
     "text": [
      "Epoch 15, val/acc: 0.5119882225990295, val/f1: 0.6772160530090332\n"
     ]
    },
    {
     "name": "stderr",
     "output_type": "stream",
     "text": [
      " 85%|████████▌ | 17/20 [03:06<00:32, 10.89s/it]"
     ]
    },
    {
     "name": "stdout",
     "output_type": "stream",
     "text": [
      "Epoch 16, val/acc: 0.5119795203208923, val/f1: 0.6723178625106812\n"
     ]
    },
    {
     "name": "stderr",
     "output_type": "stream",
     "text": [
      " 90%|█████████ | 18/20 [03:18<00:22, 11.01s/it]"
     ]
    },
    {
     "name": "stdout",
     "output_type": "stream",
     "text": [
      "Epoch 17, val/acc: 0.5130518674850464, val/f1: 0.6699523329734802\n"
     ]
    },
    {
     "name": "stderr",
     "output_type": "stream",
     "text": [
      " 95%|█████████▌| 19/20 [03:29<00:11, 11.23s/it]"
     ]
    },
    {
     "name": "stdout",
     "output_type": "stream",
     "text": [
      "Epoch 18, val/acc: 0.512607216835022, val/f1: 0.6728352308273315\n"
     ]
    },
    {
     "name": "stderr",
     "output_type": "stream",
     "text": [
      "100%|██████████| 20/20 [03:40<00:00, 11.03s/it]"
     ]
    },
    {
     "name": "stdout",
     "output_type": "stream",
     "text": [
      "Epoch 19, val/acc: 0.5126595497131348, val/f1: 0.6717752814292908\n"
     ]
    },
    {
     "name": "stderr",
     "output_type": "stream",
     "text": [
      "\n"
     ]
    }
   ],
   "source": [
    "from tqdm import tqdm\n",
    "import wandb\n",
    "\n",
    "model = RecurrentGCN(node_features = lags).to(device)\n",
    "\n",
    "lr = 1e-3\n",
    "num_epochs = 20\n",
    "optimizer = torch.optim.Adam(model.parameters(), lr=lr)\n",
    "track_with_wandb = True\n",
    "\n",
    "if track_with_wandb:\n",
    "    wandb.init(project=\"cs224w-stock-market-prediction\", config={\n",
    "        \"dataset\": \"S&P500\",\n",
    "        \"corr_name\": corr_name,\n",
    "        \"corr_scope\": corr_scope,\n",
    "        \"learning_rate\": lr,\n",
    "        \"epochs\": num_epochs,\n",
    "        \"architecture\": \"DCRNN\",\n",
    "    })\n",
    "\n",
    "best_f1 = 0\n",
    "\n",
    "train_samples = list(train_dataset)\n",
    "\n",
    "for epoch in tqdm(range(num_epochs)):\n",
    "    model.train()\n",
    "    train_loss = 0\n",
    "    random.shuffle(train_samples)\n",
    "    for time, snapshot in enumerate(train_samples):\n",
    "        y_hat = model(snapshot.x.to(device), snapshot.edge_index.to(device), snapshot.edge_attr.to(device))\n",
    "        loss = F.binary_cross_entropy(y_hat.squeeze(), snapshot.y)\n",
    "        train_loss += loss.item()\n",
    "        loss.backward()\n",
    "        optimizer.step()\n",
    "        optimizer.zero_grad()\n",
    "    train_loss /= (time+1)\n",
    "\n",
    "    if track_with_wandb:\n",
    "        model.eval()\n",
    "        with torch.no_grad():\n",
    "            val_y_hats, val_ys = zip(*[(model(snapshot.x.to(device), snapshot.edge_index.to(device), snapshot.edge_attr.to(device)), snapshot.y)\n",
    "                       for time, snapshot in enumerate(val_dataset)])\n",
    "            val_y_hats, val_ys = torch.stack(list(val_y_hats)).squeeze().to(device), torch.stack(list(val_ys)).to(device)\n",
    "            val_acc = accuracy(val_y_hats, val_ys)\n",
    "            val_f1 = f1(val_y_hats, val_ys)\n",
    "            wandb.log({\"epoch\": epoch,\n",
    "                    \"train/loss\": train_loss,\n",
    "                    \"val/acc\": val_acc,\n",
    "                    \"val/f1\": val_f1 })\n",
    "            print(f'Epoch {epoch}, val/acc: {val_acc}, val/f1: {val_f1}')\n",
    "            if val_f1 > best_f1:\n",
    "                best_f1 = val_f1\n",
    "                torch.save(model.state_dict(), 'dcrnn_best_model.pth')\n"
   ]
  },
  {
   "cell_type": "code",
   "execution_count": 6,
   "metadata": {},
   "outputs": [],
   "source": [
    "if track_with_wandb:\n",
    "    best_model = RecurrentGCN(node_features = lags).to(device)\n",
    "    best_model.load_state_dict(torch.load('dcrnn_best_model.pth', weights_only=True))\n",
    "    best_model.eval()\n",
    "    with torch.no_grad():\n",
    "        y_hats, ys = zip(*[(best_model(snapshot.x.to(device), snapshot.edge_index.to(device), snapshot.edge_attr.to(device)), snapshot.y)\n",
    "                       for time, snapshot in enumerate(test_dataset)])\n",
    "        y_hats, ys = torch.stack(list(y_hats)).squeeze().to(device), torch.stack(list(ys)).to(device)\n",
    "        wandb.log({\"epoch\": epoch,\n",
    "                \"test/acc\": accuracy(y_hats, ys),\n",
    "                \"test/f1\": f1(y_hats, ys) })"
   ]
  }
 ],
 "metadata": {
  "kernelspec": {
   "display_name": "stock",
   "language": "python",
   "name": "python3"
  },
  "language_info": {
   "codemirror_mode": {
    "name": "ipython",
    "version": 3
   },
   "file_extension": ".py",
   "mimetype": "text/x-python",
   "name": "python",
   "nbconvert_exporter": "python",
   "pygments_lexer": "ipython3",
   "version": "3.12.7"
  }
 },
 "nbformat": 4,
 "nbformat_minor": 2
}
