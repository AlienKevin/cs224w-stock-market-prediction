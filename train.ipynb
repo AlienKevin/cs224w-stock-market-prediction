{
 "cells": [
  {
   "cell_type": "code",
   "execution_count": 1,
   "metadata": {},
   "outputs": [
    {
     "data": {
      "text/plain": [
       "<torch._C.Generator at 0x11de70c90>"
      ]
     },
     "execution_count": 1,
     "metadata": {},
     "output_type": "execute_result"
    }
   ],
   "source": [
    "import torch\n",
    "\n",
    "torch.manual_seed(42)"
   ]
  },
  {
   "cell_type": "markdown",
   "metadata": {},
   "source": [
    "# Preprocessing"
   ]
  },
  {
   "cell_type": "code",
   "execution_count": 5,
   "metadata": {},
   "outputs": [
    {
     "name": "stdout",
     "output_type": "stream",
     "text": [
      "Train data size: torch.Size([31, 64, 472])\n",
      "Validation data size: torch.Size([4, 64, 472])\n",
      "Test data size: torch.Size([4, 64, 472])\n"
     ]
    }
   ],
   "source": [
    "import torch\n",
    "import numpy as np\n",
    "\n",
    "def preprocess():\n",
    "    data = torch.from_numpy(np.loadtxt('s&p500_z_scores.csv', delimiter=',')).to(torch.float32)\n",
    "    days_in_quarter = 64\n",
    "    num_quarters = data.size(0) // days_in_quarter\n",
    "    data = data.view(num_quarters, days_in_quarter, -1)\n",
    "\n",
    "    train_data = data[:int(num_quarters*0.8)]\n",
    "    val_data = data[int(num_quarters*0.8):int(num_quarters*0.9)]\n",
    "    test_data = data[int(num_quarters*0.9):]\n",
    "    # shuffle train batches\n",
    "    train_data = train_data[torch.randperm(train_data.size(0))]\n",
    "    return train_data, val_data, test_data\n",
    "\n",
    "train_data, val_data, test_data = preprocess()\n",
    "print('Train data size:', train_data.size())\n",
    "print('Validation data size:', val_data.size())\n",
    "print('Test data size:', test_data.size())"
   ]
  },
  {
   "cell_type": "markdown",
   "metadata": {},
   "source": [
    "# Model"
   ]
  },
  {
   "cell_type": "code",
   "execution_count": 6,
   "metadata": {},
   "outputs": [],
   "source": [
    "import torch\n",
    "import torch.nn as nn\n",
    "from multihead_diffattn import MultiheadDiffAttn\n",
    "\n",
    "class FeedForward(nn.Module):\n",
    "    def __init__(self, hidden_size, expand_ratio, dropout):\n",
    "        super(FeedForward, self).__init__()\n",
    "        self.linear = nn.Linear(hidden_size, hidden_size * expand_ratio)\n",
    "        self.linear2 = nn.Linear(hidden_size * expand_ratio, hidden_size)\n",
    "        self.relu = nn.ReLU()\n",
    "        self.dropout = nn.Dropout(p=dropout)\n",
    "    \n",
    "    def forward(self, x):\n",
    "        x = self.linear(x)\n",
    "        x = self.relu(x)\n",
    "        x = self.linear2(x)\n",
    "        x = self.dropout(x)\n",
    "        return x\n",
    "\n",
    "class Attention(nn.Module):\n",
    "    def __init__(self, d_model, num_heads, expand_ratio, dropout, attn_variant='standard'):\n",
    "        super().__init__()\n",
    "        self.attn_variant = attn_variant\n",
    "        if attn_variant == 'standard':\n",
    "            self.mha = nn.MultiheadAttention(embed_dim=d_model, num_heads=num_heads, batch_first=True)\n",
    "            self.ln1 = nn.LayerNorm(d_model)\n",
    "            self.ln2 = nn.LayerNorm(d_model)\n",
    "            self.ffn = FeedForward(hidden_size=d_model, expand_ratio=expand_ratio, dropout=dropout)\n",
    "        elif attn_variant == 'diff':\n",
    "            self.mha = MultiheadDiffAttn(embed_dim=d_model, num_heads=num_heads, depth=0)\n",
    "\n",
    "    def forward(self, x, attn_mask=None, need_weights=False):\n",
    "        if self.attn_variant == 'standard':\n",
    "            x1, attn_weights = self.mha(x, x, x, attn_mask=attn_mask, need_weights=need_weights, average_attn_weights=False)\n",
    "        elif self.attn_variant == 'diff':\n",
    "            x1, attn_weights = self.mha(x, attn_mask=attn_mask)\n",
    "        x2 = self.ln1(x + x1)\n",
    "        x = self.ln2(self.ffn(x2) + x2)\n",
    "        if need_weights:\n",
    "            return (x, attn_weights)\n",
    "        else:\n",
    "            return x\n",
    "\n",
    "class GraphTransformer(nn.Module):\n",
    "    def __init__(self, attn_variant='standard', d_model=64, num_heads=2, expand_ratio=1, dropout=0.1, T = 64, N=train_data.size(-1)):\n",
    "        super().__init__()\n",
    "        self.T = T\n",
    "        self.N = N\n",
    "        self.d_model = d_model\n",
    "        self.num_heads = num_heads\n",
    "        self.input_proj = nn.Linear(1, d_model)\n",
    "        self.time_embedding = nn.Embedding(T, d_model)\n",
    "        self.stock_embedding = nn.Embedding(N, d_model)\n",
    "        self.spatial_attn = Attention(d_model, num_heads, expand_ratio, dropout, attn_variant=attn_variant)\n",
    "        self.temporal_attn = Attention(d_model, num_heads, expand_ratio, dropout)\n",
    "        self.output_proj = nn.Linear(d_model, 1)\n",
    "    \n",
    "    def forward(self, x, need_weights=False):\n",
    "        T, N = x.size()\n",
    "        assert(T <= self.T and N == self.N)\n",
    "        # print(x.size())\n",
    "        # print(x.view(T, N, 1).size())\n",
    "        x = self.input_proj(x.view(T, N, 1))\n",
    "        # print('after input_proj', x.size())\n",
    "        stock_embs = self.stock_embedding(torch.arange(N).unsqueeze(0).expand(T, N).to(x.device))\n",
    "        # print('stock_embs.size', stock_embs.size())\n",
    "        x += stock_embs\n",
    "        time_embs = self.time_embedding(torch.arange(T).unsqueeze(0).expand(N, T).to(x.device))\n",
    "        # print('time_embs.size', time_embs.size())\n",
    "        x += time_embs.view(T, N, self.d_model)\n",
    "\n",
    "        # x = self.input_proj(x.view(T, N, 1))\n",
    "        # IDEA: Each spatial head takes in a different type of correlation matrix.\n",
    "        # Like one takes in positive pearson's coefficnet and the other takes in negative\n",
    "\n",
    "        x = x.view(N, T, self.d_model)\n",
    "        temporal_causal_mask = torch.triu(torch.ones((T, T), dtype=torch.bool), diagonal=1).expand(N * self.num_heads, T, T).to(x.device)\n",
    "        x = self.temporal_attn(x, attn_mask=temporal_causal_mask, need_weights=need_weights)\n",
    "        if need_weights:\n",
    "            x, temporal_attn_weights = x\n",
    "        x = x.view(T, N, self.d_model)\n",
    "        \n",
    "        x = self.spatial_attn(x, need_weights=need_weights)\n",
    "        if need_weights:\n",
    "            x, spatial_attn_weights = x\n",
    "\n",
    "        out = F.sigmoid(self.output_proj(x))\n",
    "        if need_weights:\n",
    "            return (out, spatial_attn_weights, temporal_attn_weights)\n",
    "        else:\n",
    "            return out"
   ]
  },
  {
   "cell_type": "markdown",
   "metadata": {},
   "source": [
    "# Training"
   ]
  },
  {
   "cell_type": "code",
   "execution_count": 7,
   "metadata": {},
   "outputs": [],
   "source": [
    "import seaborn as sns\n",
    "import matplotlib.pylab as plt\n",
    "\n",
    "def visualize_attn_weights(weights, title):\n",
    "    fig, ax = plt.subplots(figsize=(20,15)) \n",
    "    sns.heatmap(weights, ax=ax)\n",
    "    plt.title(title)\n",
    "    plt.show()"
   ]
  },
  {
   "cell_type": "code",
   "execution_count": 8,
   "metadata": {},
   "outputs": [],
   "source": [
    "from torcheval.metrics.functional import binary_f1_score, binary_accuracy\n",
    "\n",
    "def accuracy(y_hats, ys):\n",
    "    return binary_accuracy(y_hats.flatten(), ys.flatten()).item()\n",
    "\n",
    "def f1(y_hats, ys):\n",
    "    return binary_f1_score(y_hats.flatten(), ys.flatten()).item()"
   ]
  },
  {
   "cell_type": "code",
   "execution_count": 9,
   "metadata": {},
   "outputs": [],
   "source": [
    "def get_movements(data):\n",
    "    return (data[..., :-1, :] < data[..., 1:, :]).float()"
   ]
  },
  {
   "cell_type": "code",
   "execution_count": 10,
   "metadata": {},
   "outputs": [],
   "source": [
    "def eval(model, data, epoch, need_weights=False):\n",
    "    model.eval()\n",
    "    outs = []\n",
    "    with torch.no_grad():\n",
    "        for batch_idx, batch in enumerate(data):\n",
    "            out = model(batch[:-1, :], need_weights=need_weights)\n",
    "            if need_weights:\n",
    "                out, spatial_attn_weights, temporal_attn_weights = out\n",
    "                if batch_idx == 0:\n",
    "                    for h in [0, 1]:\n",
    "                        visualize_attn_weights(spatial_attn_weights[0][h].cpu().numpy(), title=f'Spatial Attention Weights (epoch {epoch}, head {h})')\n",
    "                        visualize_attn_weights(temporal_attn_weights[0][h].cpu().numpy(), title=f'Temporal Attention Weights (epoch {epoch}, head {h})')\n",
    "            outs.append(out)\n",
    "    outs = torch.stack(outs)\n",
    "    y = get_movements(data)\n",
    "    eval_acc = accuracy(outs, y)\n",
    "    eval_f1 = f1(outs, y)\n",
    "    return eval_acc, eval_f1"
   ]
  },
  {
   "cell_type": "code",
   "execution_count": 11,
   "metadata": {},
   "outputs": [
    {
     "name": "stderr",
     "output_type": "stream",
     "text": [
      "\u001b[34m\u001b[1mwandb\u001b[0m: Using wandb-core as the SDK backend. Please refer to https://wandb.me/wandb-core for more information.\n",
      "\u001b[34m\u001b[1mwandb\u001b[0m: Currently logged in as: \u001b[33mkevinxli\u001b[0m. Use \u001b[1m`wandb login --relogin`\u001b[0m to force relogin\n"
     ]
    },
    {
     "data": {
      "text/html": [
       "Tracking run with wandb version 0.18.5"
      ],
      "text/plain": [
       "<IPython.core.display.HTML object>"
      ]
     },
     "metadata": {},
     "output_type": "display_data"
    },
    {
     "data": {
      "text/html": [
       "Run data is saved locally in <code>/Volumes/crucialx9/classes/fall2024/cs224w/stock/wandb/run-20241206_144812-t6fm4zwk</code>"
      ],
      "text/plain": [
       "<IPython.core.display.HTML object>"
      ]
     },
     "metadata": {},
     "output_type": "display_data"
    },
    {
     "data": {
      "text/html": [
       "Syncing run <strong><a href='https://wandb.ai/kevinxli/cs224w-stock-market-prediction/runs/t6fm4zwk' target=\"_blank\">morning-rain-85</a></strong> to <a href='https://wandb.ai/kevinxli/cs224w-stock-market-prediction' target=\"_blank\">Weights & Biases</a> (<a href='https://wandb.me/run' target=\"_blank\">docs</a>)<br/>"
      ],
      "text/plain": [
       "<IPython.core.display.HTML object>"
      ]
     },
     "metadata": {},
     "output_type": "display_data"
    },
    {
     "data": {
      "text/html": [
       " View project at <a href='https://wandb.ai/kevinxli/cs224w-stock-market-prediction' target=\"_blank\">https://wandb.ai/kevinxli/cs224w-stock-market-prediction</a>"
      ],
      "text/plain": [
       "<IPython.core.display.HTML object>"
      ]
     },
     "metadata": {},
     "output_type": "display_data"
    },
    {
     "data": {
      "text/html": [
       " View run at <a href='https://wandb.ai/kevinxli/cs224w-stock-market-prediction/runs/t6fm4zwk' target=\"_blank\">https://wandb.ai/kevinxli/cs224w-stock-market-prediction/runs/t6fm4zwk</a>"
      ],
      "text/plain": [
       "<IPython.core.display.HTML object>"
      ]
     },
     "metadata": {},
     "output_type": "display_data"
    },
    {
     "data": {
      "text/html": [
       "<style>\n",
       "    table.wandb td:nth-child(1) { padding: 0 10px; text-align: left ; width: auto;} td:nth-child(2) {text-align: left ; width: 100%}\n",
       "    .wandb-row { display: flex; flex-direction: row; flex-wrap: wrap; justify-content: flex-start; width: 100% }\n",
       "    .wandb-col { display: flex; flex-direction: column; flex-basis: 100%; flex: 1; padding: 10px; }\n",
       "    </style>\n",
       "<div class=\"wandb-row\"><div class=\"wandb-col\"><h3>Run history:</h3><br/><table class=\"wandb\"><tr><td>epoch</td><td>▁▁▂▂▂▂▂▂▃▃▃▃▃▄▄▄▄▄▄▄▄▄▄▅▅▅▅▅▆▆▆▇▇▇▇▇▇███</td></tr><tr><td>test/acc</td><td>▁</td></tr><tr><td>test/f1</td><td>▁</td></tr><tr><td>train/acc</td><td>▄▇▁▇▄▅▆▆▆▆▇▇▁▇▇▇▇▇▇▇▇▇▇▇▂▇▇▇▇▆███▇▆▇▇███</td></tr><tr><td>train/loss</td><td>▅▇█▂▂▂▂▂▁▁▁▁▁▁▁▁▂▃▃▁▁▁▁▁▁▁▂▂▁▁▁▂▁▁▁▂▂▁▁▁</td></tr><tr><td>train_f1</td><td>▄█▆▇██▇███████▁▇██████████▇▇██▆████████▇</td></tr><tr><td>val/acc</td><td>▇▂▆▆▆▇▇▇▇▇▇▇▇▄▇▅▆██▇▇▆▆▆▅▂█▇█▃▃▆▁▇▇▇▆▆▆▅</td></tr><tr><td>val/f1</td><td>▆█▇▇▇▇█▇▇▇█▆██▇▇▇▇▇▇▇▇█▁█▇▆▇▅▇▇▆▇▁█▆▇▇▇▇</td></tr></table><br/></div><div class=\"wandb-col\"><h3>Run summary:</h3><br/><table class=\"wandb\"><tr><td>epoch</td><td>99</td></tr><tr><td>test/acc</td><td>0.50587</td></tr><tr><td>test/f1</td><td>0.54752</td></tr><tr><td>train/acc</td><td>0.53616</td></tr><tr><td>train/loss</td><td>0.68977</td></tr><tr><td>train_f1</td><td>0.63296</td></tr><tr><td>val/acc</td><td>0.5006</td></tr><tr><td>val/f1</td><td>0.56082</td></tr></table><br/></div></div>"
      ],
      "text/plain": [
       "<IPython.core.display.HTML object>"
      ]
     },
     "metadata": {},
     "output_type": "display_data"
    },
    {
     "data": {
      "text/html": [
       " View run <strong style=\"color:#cdcd00\">morning-rain-85</strong> at: <a href='https://wandb.ai/kevinxli/cs224w-stock-market-prediction/runs/t6fm4zwk' target=\"_blank\">https://wandb.ai/kevinxli/cs224w-stock-market-prediction/runs/t6fm4zwk</a><br/> View project at: <a href='https://wandb.ai/kevinxli/cs224w-stock-market-prediction' target=\"_blank\">https://wandb.ai/kevinxli/cs224w-stock-market-prediction</a><br/>Synced 4 W&B file(s), 0 media file(s), 3 artifact file(s) and 0 other file(s)"
      ],
      "text/plain": [
       "<IPython.core.display.HTML object>"
      ]
     },
     "metadata": {},
     "output_type": "display_data"
    },
    {
     "data": {
      "text/html": [
       "Find logs at: <code>./wandb/run-20241206_144812-t6fm4zwk/logs</code>"
      ],
      "text/plain": [
       "<IPython.core.display.HTML object>"
      ]
     },
     "metadata": {},
     "output_type": "display_data"
    }
   ],
   "source": [
    "import wandb\n",
    "import torch.nn.functional as F\n",
    "\n",
    "device = torch.device('cuda' if torch.cuda.is_available() else 'mps' if torch.backends.mps.is_available() else 'cpu')\n",
    "\n",
    "model = GraphTransformer().to(device)\n",
    "train_data = train_data.to(device)\n",
    "val_data = val_data.to(device)\n",
    "test_data = test_data.to(device)\n",
    "lr = 1e-4\n",
    "optimizer = torch.optim.Adam(model.parameters(), lr=lr)\n",
    "\n",
    "# Visualize attention weights\n",
    "need_weights = False\n",
    "track_with_wandb = True\n",
    "\n",
    "num_epochs = 100\n",
    "\n",
    "if track_with_wandb:\n",
    "    wandb.init(project=\"cs224w-stock-market-prediction\", config={\n",
    "        \"dataset\": \"S&P500\",\n",
    "        \"learning_rate\": lr,\n",
    "        \"epochs\": num_epochs,\n",
    "        \"architecture\": \"DGT\",\n",
    "    })\n",
    "\n",
    "for epoch in range(num_epochs):\n",
    "    optimizer.zero_grad()\n",
    "    epoch_loss = 0\n",
    "    for batch_idx, batch in enumerate(train_data):\n",
    "        model.train()\n",
    "        out = model(batch[:-1, :])\n",
    "        loss = F.binary_cross_entropy(out.squeeze(), get_movements(batch))\n",
    "        epoch_loss += loss.item()\n",
    "        loss.backward()\n",
    "        optimizer.step()\n",
    "    if track_with_wandb:\n",
    "        train_acc, train_f1 = eval(model, train_data, epoch, need_weights=need_weights)\n",
    "        wandb.log({\"epoch\": epoch, \"train/loss\": epoch_loss / len(train_data), 'train/acc': train_acc, 'train/f1': train_f1})\n",
    "    # Evaluate on validation\n",
    "    val_acc, val_f1 = eval(model, val_data, epoch, need_weights=need_weights)\n",
    "    if track_with_wandb:\n",
    "        wandb.log({\"epoch\": epoch, \"val/acc\": val_acc, \"val/f1\": val_f1})\n",
    "\n",
    "# Evaluate on test at the end\n",
    "test_acc, test_f1 = eval(model, test_data, epoch, need_weights=need_weights)\n",
    "if track_with_wandb:\n",
    "    wandb.log({\"epoch\": epoch, \"test/acc\": test_acc, \"test/f1\": test_f1})\n",
    "\n",
    "if track_with_wandb:\n",
    "    wandb.finish()"
   ]
  },
  {
   "cell_type": "code",
   "execution_count": 12,
   "metadata": {},
   "outputs": [],
   "source": [
    "torch.save(model.state_dict(), 'model.pth')"
   ]
  }
 ],
 "metadata": {
  "kernelspec": {
   "display_name": "stock",
   "language": "python",
   "name": "python3"
  },
  "language_info": {
   "codemirror_mode": {
    "name": "ipython",
    "version": 3
   },
   "file_extension": ".py",
   "mimetype": "text/x-python",
   "name": "python",
   "nbconvert_exporter": "python",
   "pygments_lexer": "ipython3",
   "version": "3.12.7"
  }
 },
 "nbformat": 4,
 "nbformat_minor": 2
}
