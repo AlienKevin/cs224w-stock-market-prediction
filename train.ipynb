{
 "cells": [
  {
   "cell_type": "markdown",
   "metadata": {},
   "source": [
    "# Dataset Construction"
   ]
  },
  {
   "cell_type": "code",
   "execution_count": 4,
   "metadata": {},
   "outputs": [],
   "source": [
    "import numpy as np\n",
    "import pandas as pd\n",
    "from torch_geometric_temporal.signal import StaticGraphTemporalSignal, DynamicGraphTemporalSignal\n",
    "import torch\n",
    "from typing import Union\n",
    "import glob\n",
    "from natsort import natsorted\n",
    "import random\n",
    "\n",
    "random.seed(42)\n",
    "\n",
    "class SP500CorrelationsDatasetLoader(object):\n",
    "    def __init__(self, corr_name, corr_scope):\n",
    "        self._read_csv(corr_name, corr_scope)\n",
    "\n",
    "    def _read_csv(self, corr_name, corr_scope):\n",
    "        match corr_scope:\n",
    "            case 'global':\n",
    "                self._correlation_matrices = [np.loadtxt(f'{corr_name}/{corr_scope}_corr.csv', delimiter=',')]\n",
    "            case 'local':\n",
    "                self._correlation_matrices = []\n",
    "                corr_files = natsorted(glob.glob(f'{corr_name}/local_corr_*.csv'))\n",
    "                for corr_file in corr_files:\n",
    "                    matrix = np.loadtxt(corr_file, delimiter=',')\n",
    "                    self._correlation_matrices.append(matrix)\n",
    "        \n",
    "        df = pd.read_csv('s&p500.csv')\n",
    "        df = df.set_index('Date')\n",
    "        data = torch.from_numpy(df.to_numpy()).to(torch.float32)\n",
    "\n",
    "        # Round data size to nearest multiple of batch_size\n",
    "        self.days_in_quarter = 64\n",
    "        num_quarters = data.size(0) // self.days_in_quarter\n",
    "        num_days = num_quarters * self.days_in_quarter\n",
    "        data = data[:num_days]\n",
    "        \n",
    "        # z-score normalization with training data following GERU\n",
    "        train_days = int(0.8 * num_quarters) * self.days_in_quarter\n",
    "        data = (data - data[:train_days].mean(dim=0)) / data[:train_days].std(dim=0)\n",
    "        data = data.numpy()\n",
    "\n",
    "        data = data[..., np.newaxis]\n",
    "\n",
    "        # # Add percent change features\n",
    "        # p_chg = data / np.roll(data, 1, axis=0) - 1\n",
    "        # p_chg[0] = 0.0\n",
    "        # p_chg_3 = data / np.roll(data, 3, axis=0) - 1\n",
    "        # p_chg_3[0:3] = 0.0\n",
    "        # p_chg_6 = data / np.roll(data, 6, axis=0) - 1\n",
    "        # p_chg_6[0:6] = 0.0\n",
    "\n",
    "        # data = np.stack([data, p_chg, p_chg_3, p_chg_6], axis=-1)\n",
    "        # print('data.shape', data.shape)\n",
    "\n",
    "        assert(not np.any(np.isnan(data)))\n",
    "        self._dataset = data\n",
    "\n",
    "    def _get_edges(self, times, overlap):\n",
    "        if len(self._correlation_matrices) == 1:\n",
    "            _edges = np.array(np.ones_like(self._correlation_matrices[0]).nonzero())\n",
    "        else:\n",
    "            _edges = []\n",
    "            for time in range(0, self._dataset.shape[0] - self.batch_size, overlap):\n",
    "                if not time in times:\n",
    "                    continue\n",
    "                corr_index = max(0, time // self.days_in_quarter - 1)\n",
    "                _edges.append(\n",
    "                    np.array(np.ones_like(self._correlation_matrices[corr_index]).nonzero())\n",
    "                )\n",
    "        return _edges\n",
    "\n",
    "    def _get_edge_weights(self, times, overlap):\n",
    "        if len(self._correlation_matrices) == 1:\n",
    "            _edge_weights = self._correlation_matrices[0].flatten()\n",
    "        else:\n",
    "            _edge_weights = []\n",
    "            for time in range(0, self._dataset.shape[0] - self.batch_size, overlap):\n",
    "                if not time in times:\n",
    "                    continue\n",
    "                corr_index = max(0, time // self.days_in_quarter - 1)\n",
    "                _edge_weights.append(\n",
    "                    np.array(self._correlation_matrices[corr_index]).flatten()\n",
    "                )\n",
    "        return _edge_weights\n",
    "\n",
    "    def _get_targets_and_features(self, times, overlap, predict_all):\n",
    "        features = [\n",
    "            self._dataset[i : i + self.batch_size, :]\n",
    "            for i in range(0, self._dataset.shape[0] - self.batch_size, overlap)\n",
    "            if i in times\n",
    "        ]\n",
    "        # predict next-day stock prices\n",
    "        targets = [\n",
    "            (self._dataset[i+1 : i + self.batch_size+1, :, 0]).T if predict_all else (self._dataset[i + self.batch_size, :, 0]).T\n",
    "            for i in range(0, self._dataset.shape[0] - self.batch_size, overlap)\n",
    "            if i in times\n",
    "        ]\n",
    "        return features, targets\n",
    "\n",
    "    def get_dataset(self, batch_size, split) -> Union[StaticGraphTemporalSignal, DynamicGraphTemporalSignal]:\n",
    "        \"\"\"Returning the data iterator.\n",
    "        \"\"\"\n",
    "        self.batch_size = batch_size\n",
    "\n",
    "        total_times = list(range(0, self._dataset.shape[0] - self.batch_size, self.batch_size))\n",
    "\n",
    "        if split == 'train':\n",
    "            times = list(range(total_times[int(len(total_times) * 0.6)], total_times[int(len(total_times) * 0.8)]))\n",
    "            overlap = self.batch_size\n",
    "            predict_all = True\n",
    "        elif split == 'val':\n",
    "            times = list(range(total_times[int(len(total_times) * 0.8)], total_times[int(len(total_times) * 0.85)]))\n",
    "            overlap = 1\n",
    "            predict_all = False\n",
    "        elif split == 'test':\n",
    "            times = list(range(total_times[int(len(total_times) * 0.85)], total_times[int(len(total_times) * 0.9)]))\n",
    "            overlap = 1\n",
    "            predict_all = False\n",
    "        else:\n",
    "            raise ValueError(f'Invalid split name: {split}')\n",
    "\n",
    "        _edges = self._get_edges(times, overlap)\n",
    "        _edge_weights = self._get_edge_weights(times, overlap)\n",
    "        features, targets = self._get_targets_and_features(times, overlap, predict_all)\n",
    "        dataset = (DynamicGraphTemporalSignal if type(_edges) == list else StaticGraphTemporalSignal)(\n",
    "            _edges, _edge_weights, features, targets\n",
    "        )\n",
    "        return dataset"
   ]
  },
  {
   "cell_type": "code",
   "execution_count": 5,
   "metadata": {},
   "outputs": [],
   "source": [
    "# device = torch.device(\"cuda\" if torch.cuda.is_available() else \"mps\" if torch.backends.mps.is_available() else \"cpu\")\n",
    "device = 'cpu'\n",
    "\n",
    "corr_name = 'mi'\n",
    "corr_scope = 'global'\n",
    "loader = SP500CorrelationsDatasetLoader(corr_name=corr_name, corr_scope=corr_scope)\n",
    "\n",
    "lag_size = 64\n",
    "train_dataset = loader.get_dataset(batch_size=lag_size * 2, split='train')\n",
    "val_dataset = loader.get_dataset(batch_size=lag_size, split='val')\n",
    "test_dataset = loader.get_dataset(batch_size=lag_size, split='test')"
   ]
  },
  {
   "cell_type": "code",
   "execution_count": 6,
   "metadata": {},
   "outputs": [
    {
     "name": "stdout",
     "output_type": "stream",
     "text": [
      "4\n",
      "4\n",
      "128\n",
      "128\n",
      "128\n",
      "128\n"
     ]
    }
   ],
   "source": [
    "print(len(train_dataset.features))\n",
    "print(len(train_dataset.targets))\n",
    "print(len(val_dataset.features))\n",
    "print(len(val_dataset.targets))\n",
    "print(len(test_dataset.features))\n",
    "print(len(test_dataset.targets))"
   ]
  },
  {
   "cell_type": "markdown",
   "metadata": {},
   "source": [
    "# Differential Graph Transformer"
   ]
  },
  {
   "cell_type": "code",
   "execution_count": 7,
   "metadata": {},
   "outputs": [],
   "source": [
    "import torch\n",
    "from torch_geometric.utils import to_dense_adj\n",
    "from torch_geometric.nn.conv import MessagePassing\n",
    "import torch.nn as nn\n",
    "import torch.nn.functional as F\n",
    "\n",
    "\n",
    "class DGAttn(MessagePassing):\n",
    "    r\"\"\"An implementation of the Diffusion Convolution Layer.\n",
    "    For details see: `\"Diffusion Convolutional Recurrent Neural Network:\n",
    "    Data-Driven Traffic Forecasting\" <https://arxiv.org/abs/1707.01926>`_\n",
    "\n",
    "    Args:\n",
    "        in_channels (int): Number of input features.\n",
    "        out_channels (int): Number of output features.\n",
    "        K (int): Filter size :math:`K`.\n",
    "        bias (bool, optional): If set to :obj:`False`, the layer\n",
    "            will not learn an additive bias (default :obj:`True`).\n",
    "\n",
    "    \"\"\"\n",
    "\n",
    "    def __init__(self, in_channels, out_channels, num_heads=1, diff_attn=True):\n",
    "        super(DGAttn, self).__init__(aggr=\"add\", flow=\"source_to_target\")\n",
    "        self.in_channels = in_channels\n",
    "        self.out_channels = out_channels\n",
    "        self.num_heads = num_heads\n",
    "        self.head_dim = out_channels // self.num_heads\n",
    "        self.diff_attn = diff_attn\n",
    "        if self.diff_attn:\n",
    "            self.Q = nn.Linear(in_channels, out_channels)\n",
    "            self.K = nn.Linear(in_channels, out_channels)\n",
    "        self.V = nn.Linear(in_channels, out_channels)\n",
    "        self.ffn = nn.Linear(out_channels, out_channels)\n",
    "        self.ln = nn.RMSNorm(self.head_dim, eps=1e-5, elementwise_affine=True)\n",
    "\n",
    "        if self.diff_attn:\n",
    "            self.lambda_init = 0.2\n",
    "            self.lambda_q1 = nn.Parameter(torch.zeros(self.head_dim, dtype=torch.float32).normal_(mean=0,std=0.1))\n",
    "            self.lambda_k1 = nn.Parameter(torch.zeros(self.head_dim, dtype=torch.float32).normal_(mean=0,std=0.1))\n",
    "            self.lambda_q2 = nn.Parameter(torch.zeros(self.head_dim, dtype=torch.float32).normal_(mean=0,std=0.1))\n",
    "            self.lambda_k2 = nn.Parameter(torch.zeros(self.head_dim, dtype=torch.float32).normal_(mean=0,std=0.1))\n",
    "\n",
    "        # self.__reset_parameters()\n",
    "\n",
    "    # def __reset_parameters(self):\n",
    "        # torch.nn.init.xavier_uniform_(self.V)\n",
    "\n",
    "    def message(self, x_j, norm):\n",
    "        return norm.view(-1, 1) * x_j\n",
    "\n",
    "    def forward(\n",
    "        self,\n",
    "        X: torch.FloatTensor,\n",
    "        edge_index: torch.LongTensor,\n",
    "        edge_weight: torch.FloatTensor,\n",
    "    ) -> torch.FloatTensor:\n",
    "        r\"\"\"Making a forward pass. If edge weights are not present the forward pass\n",
    "        defaults to an unweighted graph.\n",
    "\n",
    "        Arg types:\n",
    "            * **X** (PyTorch Float Tensor) - Node features.\n",
    "            * **edge_index** (PyTorch Long Tensor) - Graph edge indices.\n",
    "            * **edge_weight** (PyTorch Long Tensor, optional) - Edge weight vector.\n",
    "\n",
    "        Return types:\n",
    "            * **H** (PyTorch Float Tensor) - Hidden state matrix for all nodes.\n",
    "        \"\"\"\n",
    "        A = to_dense_adj(edge_index, edge_attr=edge_weight).squeeze()\n",
    "        a1 = F.softmax(A, dim=-1)\n",
    "        if self.diff_attn:\n",
    "            q = self.Q(X)\n",
    "            k = self.K(X)\n",
    "            a2 = F.softmax(torch.matmul(q, k.transpose(-1, -2)) * (self.head_dim ** -0.5), dim=-1)\n",
    "            lambda_1 = torch.exp(torch.sum(self.lambda_q1 * self.lambda_k1, dim=-1).float()).type_as(q)\n",
    "            lambda_2 = torch.exp(torch.sum(self.lambda_q2 * self.lambda_k2, dim=-1).float()).type_as(q)\n",
    "            lambda_full = lambda_1 - lambda_2 + self.lambda_init\n",
    "            a = a1 - lambda_full * a2\n",
    "        else:\n",
    "            a = a1\n",
    "        v = self.V(X)\n",
    "        attn = torch.matmul(a, v)\n",
    "        attn = self.ln(attn)\n",
    "        if self.diff_attn:\n",
    "            attn = attn * (1 - self.lambda_init)\n",
    "        attn = self.ffn(attn)\n",
    "        return attn\n",
    "\n",
    "\n",
    "class DGRNN(torch.nn.Module):\n",
    "    r\"\"\"An implementation of the Diffusion Convolutional Gated Recurrent Unit.\n",
    "    For details see: `\"Diffusion Convolutional Recurrent Neural Network:\n",
    "    Data-Driven Traffic Forecasting\" <https://arxiv.org/abs/1707.01926>`_\n",
    "\n",
    "    Args:\n",
    "        in_channels (int): Number of input features.\n",
    "        out_channels (int): Number of output features.\n",
    "        num_heads (int): Number of attention heads.\n",
    "    \"\"\"\n",
    "\n",
    "    def __init__(self, in_channels: int, out_channels: int, num_heads: int, diff_attn: bool):\n",
    "        super(DGRNN, self).__init__()\n",
    "\n",
    "        self.in_channels = in_channels\n",
    "        self.out_channels = out_channels\n",
    "        self.num_heads = num_heads\n",
    "        self.diff_attn = diff_attn,\n",
    "\n",
    "        self._create_parameters_and_layers()\n",
    "\n",
    "    def _create_update_gate_parameters_and_layers(self):\n",
    "        self.conv_x_z = DGAttn(\n",
    "            in_channels=self.in_channels + self.out_channels,\n",
    "            out_channels=self.out_channels,\n",
    "            num_heads=self.num_heads,\n",
    "            diff_attn=self.diff_attn,\n",
    "        )\n",
    "\n",
    "    def _create_reset_gate_parameters_and_layers(self):\n",
    "        self.conv_x_r = DGAttn(\n",
    "            in_channels=self.in_channels + self.out_channels,\n",
    "            out_channels=self.out_channels,\n",
    "            num_heads=self.num_heads,\n",
    "            diff_attn=self.diff_attn,\n",
    "        )\n",
    "\n",
    "    def _create_candidate_state_parameters_and_layers(self):\n",
    "        self.conv_x_h = DGAttn(\n",
    "            in_channels=self.in_channels + self.out_channels,\n",
    "            out_channels=self.out_channels,\n",
    "            num_heads=self.num_heads,\n",
    "            diff_attn=self.diff_attn,\n",
    "        )\n",
    "\n",
    "    def _create_parameters_and_layers(self):\n",
    "        self._create_update_gate_parameters_and_layers()\n",
    "        self._create_reset_gate_parameters_and_layers()\n",
    "        self._create_candidate_state_parameters_and_layers()\n",
    "\n",
    "    def _set_hidden_state(self, X, H):\n",
    "        if H is None:\n",
    "            H = torch.zeros(X.shape[0], self.out_channels).to(X.device)\n",
    "        return H\n",
    "\n",
    "    def _calculate_update_gate(self, X, edge_index, edge_weight, H):\n",
    "        Z = torch.cat([X, H], dim=1)\n",
    "        Z = self.conv_x_z(Z, edge_index, edge_weight)\n",
    "        Z = torch.sigmoid(Z)\n",
    "        return Z\n",
    "\n",
    "    def _calculate_reset_gate(self, X, edge_index, edge_weight, H):\n",
    "        R = torch.cat([X, H], dim=1)\n",
    "        R = self.conv_x_r(R, edge_index, edge_weight)\n",
    "        R = torch.sigmoid(R)\n",
    "        return R\n",
    "\n",
    "    def _calculate_candidate_state(self, X, edge_index, edge_weight, H, R):\n",
    "        H_tilde = torch.cat([X, H * R], dim=1)\n",
    "        H_tilde = self.conv_x_h(H_tilde, edge_index, edge_weight)\n",
    "        H_tilde = torch.tanh(H_tilde)\n",
    "        return H_tilde\n",
    "\n",
    "    def _calculate_hidden_state(self, Z, H, H_tilde):\n",
    "        H = Z * H + (1 - Z) * H_tilde\n",
    "        return H\n",
    "\n",
    "    def forward(\n",
    "        self,\n",
    "        X: torch.FloatTensor,\n",
    "        edge_index: torch.LongTensor,\n",
    "        edge_weight: torch.FloatTensor = None,\n",
    "        H: torch.FloatTensor = None,\n",
    "    ) -> torch.FloatTensor:\n",
    "        r\"\"\"Making a forward pass. If edge weights are not present the forward pass\n",
    "        defaults to an unweighted graph. If the hidden state matrix is not present\n",
    "        when the forward pass is called it is initialized with zeros.\n",
    "\n",
    "        Arg types:\n",
    "            * **X** (PyTorch Float Tensor) - Node features.\n",
    "            * **edge_index** (PyTorch Long Tensor) - Graph edge indices.\n",
    "            * **edge_weight** (PyTorch Long Tensor, optional) - Edge weight vector.\n",
    "            * **H** (PyTorch Float Tensor, optional) - Hidden state matrix for all nodes.\n",
    "\n",
    "        Return types:\n",
    "            * **H** (PyTorch Float Tensor) - Hidden state matrix for all nodes.\n",
    "        \"\"\"\n",
    "        H = self._set_hidden_state(X, H)\n",
    "        Z = self._calculate_update_gate(X, edge_index, edge_weight, H)\n",
    "        R = self._calculate_reset_gate(X, edge_index, edge_weight, H)\n",
    "        H_tilde = self._calculate_candidate_state(X, edge_index, edge_weight, H, R)\n",
    "        H = self._calculate_hidden_state(Z, H, H_tilde)\n",
    "        return H\n"
   ]
  },
  {
   "cell_type": "markdown",
   "metadata": {},
   "source": [
    "# Plain RNN"
   ]
  },
  {
   "cell_type": "code",
   "execution_count": 8,
   "metadata": {},
   "outputs": [],
   "source": [
    "class GRU(torch.nn.Module):\n",
    "    def __init__(self, in_channels: int, out_channels: int):\n",
    "        super(GRU, self).__init__()\n",
    "        self.rnn = nn.GRU(input_size=in_channels, hidden_size=out_channels, num_layers=2, batch_first=True)\n",
    "\n",
    "    def forward(\n",
    "        self,\n",
    "        X: torch.FloatTensor,\n",
    "        edge_index: torch.LongTensor,\n",
    "        edge_weight: torch.FloatTensor = None,\n",
    "        H: torch.FloatTensor = None,\n",
    "    ) -> torch.FloatTensor:\n",
    "        outputs, _ = self.rnn(X, H)\n",
    "        return outputs"
   ]
  },
  {
   "cell_type": "markdown",
   "metadata": {},
   "source": [
    "# RGCN"
   ]
  },
  {
   "cell_type": "code",
   "execution_count": 9,
   "metadata": {},
   "outputs": [],
   "source": [
    "import torch\n",
    "import torch.nn.functional as F\n",
    "\n",
    "class RecurrentGNN(torch.nn.Module):\n",
    "    def __init__(self, gnn, node_features, hidden_size=32, **kwargs):\n",
    "        super(RecurrentGNN, self).__init__()\n",
    "        self.recurrent = gnn(in_channels=node_features, out_channels=hidden_size, **kwargs)\n",
    "        self.linear = torch.nn.Linear(hidden_size, 1)\n",
    "\n",
    "    def forward(self, x, edge_index, edge_weight, hidden):\n",
    "        outputs = self.recurrent(x, edge_index, edge_weight, hidden)\n",
    "        return self.linear(F.relu(outputs)), outputs"
   ]
  },
  {
   "cell_type": "code",
   "execution_count": 10,
   "metadata": {},
   "outputs": [],
   "source": [
    "import math\n",
    "\n",
    "def rmse(y_hat, y):\n",
    "    return math.sqrt(F.mse_loss(y_hat, y).item())\n",
    "\n",
    "def mae(y_hat, y):\n",
    "    return F.l1_loss(y_hat, y).item()"
   ]
  },
  {
   "cell_type": "code",
   "execution_count": 11,
   "metadata": {},
   "outputs": [],
   "source": [
    "import wandb\n",
    "from tqdm import tqdm\n",
    "from concurrent.futures import ThreadPoolExecutor\n",
    "\n",
    "def eval(epoch, model, eval_dataset, eval_name):\n",
    "    model.eval()\n",
    "    with torch.no_grad():\n",
    "        def process(snapshot):\n",
    "            X = snapshot.x.to(device)\n",
    "            if model.recurrent.__class__.__name__ == 'GRU':\n",
    "                batch_y_hats, _ = model(X.transpose(0, 1), snapshot.edge_index.to(device), snapshot.edge_attr.to(device), hidden=None)\n",
    "                return batch_y_hats[:, -1]\n",
    "            else:\n",
    "                H = None\n",
    "                for x in X:\n",
    "                    y_hat, H = model(x, snapshot.edge_index.to(device), snapshot.edge_attr.to(device), hidden=H)\n",
    "                return y_hat\n",
    "        with ThreadPoolExecutor() as executor:\n",
    "            y_hats = list(tqdm(executor.map(process, eval_dataset), total=len(eval_dataset), desc=eval_name))\n",
    "        ys = [snapshot.y.to(device) for snapshot in eval_dataset]\n",
    "        y_hats, ys = torch.cat(y_hats, dim=0).squeeze().to(device), torch.cat(ys, dim=0).to(device)\n",
    "        eval_rmse = rmse(y_hats, ys)\n",
    "        eval_mae = mae(y_hats, ys)\n",
    "        wandb.log({\"epoch\": epoch,\n",
    "                f\"{eval_name}/rmse\": eval_rmse,\n",
    "                f\"{eval_name}/mae\": eval_mae })\n",
    "        print(f'Epoch {epoch}, {eval_name}/rmse: {eval_rmse}, {eval_name}/mae: {eval_mae}')\n",
    "        return (eval_rmse, eval_mae)"
   ]
  },
  {
   "cell_type": "code",
   "execution_count": 12,
   "metadata": {},
   "outputs": [
    {
     "name": "stderr",
     "output_type": "stream",
     "text": [
      "\u001b[34m\u001b[1mwandb\u001b[0m: Using wandb-core as the SDK backend. Please refer to https://wandb.me/wandb-core for more information.\n",
      "\u001b[34m\u001b[1mwandb\u001b[0m: Currently logged in as: \u001b[33mkevinxli\u001b[0m. Use \u001b[1m`wandb login --relogin`\u001b[0m to force relogin\n"
     ]
    },
    {
     "data": {
      "text/html": [
       "Tracking run with wandb version 0.18.5"
      ],
      "text/plain": [
       "<IPython.core.display.HTML object>"
      ]
     },
     "metadata": {},
     "output_type": "display_data"
    },
    {
     "data": {
      "text/html": [
       "Run data is saved locally in <code>/Volumes/crucialx9/classes/fall2024/cs224w/stock/wandb/run-20241208_172849-q3576bvf</code>"
      ],
      "text/plain": [
       "<IPython.core.display.HTML object>"
      ]
     },
     "metadata": {},
     "output_type": "display_data"
    },
    {
     "data": {
      "text/html": [
       "Syncing run <strong><a href='https://wandb.ai/kevinxli/cs224w-stock-market-prediction/runs/q3576bvf' target=\"_blank\">driven-moon-217</a></strong> to <a href='https://wandb.ai/kevinxli/cs224w-stock-market-prediction' target=\"_blank\">Weights & Biases</a> (<a href='https://wandb.me/run' target=\"_blank\">docs</a>)<br/>"
      ],
      "text/plain": [
       "<IPython.core.display.HTML object>"
      ]
     },
     "metadata": {},
     "output_type": "display_data"
    },
    {
     "data": {
      "text/html": [
       " View project at <a href='https://wandb.ai/kevinxli/cs224w-stock-market-prediction' target=\"_blank\">https://wandb.ai/kevinxli/cs224w-stock-market-prediction</a>"
      ],
      "text/plain": [
       "<IPython.core.display.HTML object>"
      ]
     },
     "metadata": {},
     "output_type": "display_data"
    },
    {
     "data": {
      "text/html": [
       " View run at <a href='https://wandb.ai/kevinxli/cs224w-stock-market-prediction/runs/q3576bvf' target=\"_blank\">https://wandb.ai/kevinxli/cs224w-stock-market-prediction/runs/q3576bvf</a>"
      ],
      "text/plain": [
       "<IPython.core.display.HTML object>"
      ]
     },
     "metadata": {},
     "output_type": "display_data"
    },
    {
     "name": "stderr",
     "output_type": "stream",
     "text": [
      "Epoch 0: 100%|██████████| 4/4 [00:00<00:00,  5.24it/s]\n",
      "val: 100%|██████████| 128/128 [00:01<00:00, 83.77it/s]\n"
     ]
    },
    {
     "name": "stdout",
     "output_type": "stream",
     "text": [
      "Epoch 0, val/rmse: 0.8863358195926226, val/mae: 0.6591887474060059\n"
     ]
    },
    {
     "name": "stderr",
     "output_type": "stream",
     "text": [
      "Epoch 1: 100%|██████████| 4/4 [00:00<00:00,  6.64it/s]\n",
      "Epoch 2: 100%|██████████| 4/4 [00:00<00:00,  6.62it/s]\n",
      "Epoch 3: 100%|██████████| 4/4 [00:00<00:00,  5.51it/s]\n",
      "Epoch 4: 100%|██████████| 4/4 [00:00<00:00,  6.47it/s]\n",
      "Epoch 5: 100%|██████████| 4/4 [00:00<00:00,  6.31it/s]\n",
      "Epoch 6: 100%|██████████| 4/4 [00:00<00:00,  6.84it/s]\n",
      "Epoch 7: 100%|██████████| 4/4 [00:00<00:00,  6.63it/s]\n",
      "Epoch 8: 100%|██████████| 4/4 [00:00<00:00,  6.93it/s]\n",
      "Epoch 9: 100%|██████████| 4/4 [00:00<00:00,  6.66it/s]\n",
      "Epoch 10: 100%|██████████| 4/4 [00:00<00:00,  6.15it/s]\n",
      "val: 100%|██████████| 128/128 [00:00<00:00, 131.57it/s]\n"
     ]
    },
    {
     "name": "stdout",
     "output_type": "stream",
     "text": [
      "Epoch 10, val/rmse: 0.3345378728618125, val/mae: 0.15500696003437042\n"
     ]
    },
    {
     "name": "stderr",
     "output_type": "stream",
     "text": [
      "Epoch 11: 100%|██████████| 4/4 [00:00<00:00,  6.32it/s]\n",
      "Epoch 12: 100%|██████████| 4/4 [00:00<00:00,  5.64it/s]\n",
      "Epoch 13: 100%|██████████| 4/4 [00:00<00:00,  5.81it/s]\n",
      "Epoch 14: 100%|██████████| 4/4 [00:00<00:00,  6.35it/s]\n",
      "Epoch 15: 100%|██████████| 4/4 [00:00<00:00,  6.52it/s]\n",
      "Epoch 16: 100%|██████████| 4/4 [00:00<00:00,  6.71it/s]\n",
      "Epoch 17: 100%|██████████| 4/4 [00:00<00:00,  6.88it/s]\n",
      "Epoch 18: 100%|██████████| 4/4 [00:00<00:00,  6.56it/s]\n",
      "Epoch 19: 100%|██████████| 4/4 [00:00<00:00,  6.20it/s]\n",
      "Epoch 20: 100%|██████████| 4/4 [00:00<00:00,  6.10it/s]\n",
      "val: 100%|██████████| 128/128 [00:00<00:00, 136.17it/s]\n"
     ]
    },
    {
     "name": "stdout",
     "output_type": "stream",
     "text": [
      "Epoch 20, val/rmse: 0.2824798424247039, val/mae: 0.1358330249786377\n"
     ]
    },
    {
     "name": "stderr",
     "output_type": "stream",
     "text": [
      "Epoch 21: 100%|██████████| 4/4 [00:00<00:00,  6.61it/s]\n",
      "Epoch 22: 100%|██████████| 4/4 [00:00<00:00,  6.61it/s]\n",
      "Epoch 23: 100%|██████████| 4/4 [00:00<00:00,  6.23it/s]\n",
      "Epoch 24: 100%|██████████| 4/4 [00:00<00:00,  6.50it/s]\n",
      "Epoch 25: 100%|██████████| 4/4 [00:00<00:00,  6.81it/s]\n",
      "Epoch 26: 100%|██████████| 4/4 [00:00<00:00,  6.03it/s]\n",
      "Epoch 27: 100%|██████████| 4/4 [00:00<00:00,  6.54it/s]\n",
      "Epoch 28: 100%|██████████| 4/4 [00:00<00:00,  6.19it/s]\n",
      "Epoch 29: 100%|██████████| 4/4 [00:00<00:00,  6.51it/s]\n",
      "Epoch 30: 100%|██████████| 4/4 [00:00<00:00,  6.09it/s]\n",
      "val: 100%|██████████| 128/128 [00:01<00:00, 114.89it/s]\n"
     ]
    },
    {
     "name": "stdout",
     "output_type": "stream",
     "text": [
      "Epoch 30, val/rmse: 0.25519357203916737, val/mae: 0.1097416803240776\n"
     ]
    },
    {
     "name": "stderr",
     "output_type": "stream",
     "text": [
      "Epoch 31: 100%|██████████| 4/4 [00:00<00:00,  6.22it/s]\n",
      "Epoch 32: 100%|██████████| 4/4 [00:00<00:00,  6.14it/s]\n",
      "Epoch 33: 100%|██████████| 4/4 [00:00<00:00,  6.47it/s]\n",
      "Epoch 34: 100%|██████████| 4/4 [00:00<00:00,  6.71it/s]\n",
      "Epoch 35: 100%|██████████| 4/4 [00:00<00:00,  6.48it/s]\n",
      "Epoch 36: 100%|██████████| 4/4 [00:00<00:00,  6.35it/s]\n",
      "Epoch 37: 100%|██████████| 4/4 [00:00<00:00,  6.56it/s]\n",
      "Epoch 38: 100%|██████████| 4/4 [00:00<00:00,  7.22it/s]\n",
      "Epoch 39: 100%|██████████| 4/4 [00:00<00:00,  6.60it/s]\n",
      "Epoch 40: 100%|██████████| 4/4 [00:00<00:00,  6.59it/s]\n",
      "val: 100%|██████████| 128/128 [00:01<00:00, 116.35it/s]\n"
     ]
    },
    {
     "name": "stdout",
     "output_type": "stream",
     "text": [
      "Epoch 40, val/rmse: 0.23163425604055768, val/mae: 0.10077028721570969\n"
     ]
    },
    {
     "name": "stderr",
     "output_type": "stream",
     "text": [
      "Epoch 41: 100%|██████████| 4/4 [00:00<00:00,  6.59it/s]\n",
      "Epoch 42: 100%|██████████| 4/4 [00:00<00:00,  6.65it/s]\n",
      "Epoch 43: 100%|██████████| 4/4 [00:00<00:00,  6.55it/s]\n",
      "Epoch 44: 100%|██████████| 4/4 [00:00<00:00,  6.76it/s]\n",
      "Epoch 45: 100%|██████████| 4/4 [00:00<00:00,  5.53it/s]\n",
      "Epoch 46: 100%|██████████| 4/4 [00:00<00:00,  5.32it/s]\n",
      "Epoch 47: 100%|██████████| 4/4 [00:00<00:00,  6.72it/s]\n",
      "Epoch 48: 100%|██████████| 4/4 [00:00<00:00,  6.46it/s]\n",
      "Epoch 49: 100%|██████████| 4/4 [00:00<00:00,  6.75it/s]\n",
      "Epoch 50: 100%|██████████| 4/4 [00:00<00:00,  6.54it/s]\n",
      "val: 100%|██████████| 128/128 [00:00<00:00, 140.93it/s]\n"
     ]
    },
    {
     "name": "stdout",
     "output_type": "stream",
     "text": [
      "Epoch 50, val/rmse: 0.21789922630919797, val/mae: 0.09768307954072952\n"
     ]
    },
    {
     "name": "stderr",
     "output_type": "stream",
     "text": [
      "Epoch 51: 100%|██████████| 4/4 [00:00<00:00,  6.77it/s]\n",
      "Epoch 52: 100%|██████████| 4/4 [00:00<00:00,  6.91it/s]\n",
      "Epoch 53: 100%|██████████| 4/4 [00:00<00:00,  6.65it/s]\n",
      "Epoch 54: 100%|██████████| 4/4 [00:00<00:00,  6.49it/s]\n",
      "Epoch 55: 100%|██████████| 4/4 [00:00<00:00,  6.63it/s]\n",
      "Epoch 56: 100%|██████████| 4/4 [00:00<00:00,  6.66it/s]\n",
      "Epoch 57: 100%|██████████| 4/4 [00:00<00:00,  6.80it/s]\n",
      "Epoch 58: 100%|██████████| 4/4 [00:00<00:00,  6.43it/s]\n",
      "Epoch 59: 100%|██████████| 4/4 [00:00<00:00,  7.14it/s]\n",
      "Epoch 60: 100%|██████████| 4/4 [00:00<00:00,  6.79it/s]\n",
      "val: 100%|██████████| 128/128 [00:01<00:00, 108.94it/s]\n"
     ]
    },
    {
     "name": "stdout",
     "output_type": "stream",
     "text": [
      "Epoch 60, val/rmse: 0.23716223722925972, val/mae: 0.11480558663606644\n"
     ]
    },
    {
     "name": "stderr",
     "output_type": "stream",
     "text": [
      "Epoch 61: 100%|██████████| 4/4 [00:00<00:00,  6.51it/s]\n",
      "Epoch 62: 100%|██████████| 4/4 [00:00<00:00,  6.91it/s]\n",
      "Epoch 63: 100%|██████████| 4/4 [00:00<00:00,  7.05it/s]\n",
      "Epoch 64: 100%|██████████| 4/4 [00:00<00:00,  6.96it/s]\n",
      "Epoch 65: 100%|██████████| 4/4 [00:00<00:00,  7.03it/s]\n",
      "Epoch 66: 100%|██████████| 4/4 [00:00<00:00,  6.91it/s]\n",
      "Epoch 67: 100%|██████████| 4/4 [00:00<00:00,  6.79it/s]\n",
      "Epoch 68: 100%|██████████| 4/4 [00:00<00:00,  5.51it/s]\n",
      "Epoch 69: 100%|██████████| 4/4 [00:00<00:00,  6.69it/s]\n",
      "Epoch 70: 100%|██████████| 4/4 [00:00<00:00,  7.00it/s]\n",
      "val: 100%|██████████| 128/128 [00:01<00:00, 126.94it/s]\n"
     ]
    },
    {
     "name": "stdout",
     "output_type": "stream",
     "text": [
      "Epoch 70, val/rmse: 0.20837200322481989, val/mae: 0.0897238701581955\n"
     ]
    },
    {
     "name": "stderr",
     "output_type": "stream",
     "text": [
      "Epoch 71: 100%|██████████| 4/4 [00:00<00:00,  6.30it/s]\n",
      "Epoch 72: 100%|██████████| 4/4 [00:00<00:00,  6.55it/s]\n",
      "Epoch 73: 100%|██████████| 4/4 [00:00<00:00,  6.47it/s]\n",
      "Epoch 74: 100%|██████████| 4/4 [00:00<00:00,  6.52it/s]\n",
      "Epoch 75: 100%|██████████| 4/4 [00:00<00:00,  5.49it/s]\n",
      "Epoch 76: 100%|██████████| 4/4 [00:00<00:00,  6.62it/s]\n",
      "Epoch 77: 100%|██████████| 4/4 [00:00<00:00,  6.21it/s]\n",
      "Epoch 78: 100%|██████████| 4/4 [00:00<00:00,  6.09it/s]\n",
      "Epoch 79: 100%|██████████| 4/4 [00:00<00:00,  6.40it/s]\n",
      "Epoch 80: 100%|██████████| 4/4 [00:00<00:00,  6.26it/s]\n",
      "val: 100%|██████████| 128/128 [00:01<00:00, 121.94it/s]\n"
     ]
    },
    {
     "name": "stdout",
     "output_type": "stream",
     "text": [
      "Epoch 80, val/rmse: 0.2000919354255372, val/mae: 0.08869493007659912\n"
     ]
    },
    {
     "name": "stderr",
     "output_type": "stream",
     "text": [
      "Epoch 81: 100%|██████████| 4/4 [00:00<00:00,  6.13it/s]\n",
      "Epoch 82: 100%|██████████| 4/4 [00:00<00:00,  6.10it/s]\n",
      "Epoch 83: 100%|██████████| 4/4 [00:00<00:00,  6.26it/s]\n",
      "Epoch 84: 100%|██████████| 4/4 [00:00<00:00,  6.00it/s]\n",
      "Epoch 85: 100%|██████████| 4/4 [00:00<00:00,  5.94it/s]\n",
      "Epoch 86: 100%|██████████| 4/4 [00:00<00:00,  6.15it/s]\n",
      "Epoch 87: 100%|██████████| 4/4 [00:00<00:00,  5.21it/s]\n",
      "Epoch 88: 100%|██████████| 4/4 [00:00<00:00,  5.99it/s]\n",
      "Epoch 89: 100%|██████████| 4/4 [00:00<00:00,  6.40it/s]\n",
      "Epoch 90: 100%|██████████| 4/4 [00:00<00:00,  5.95it/s]\n",
      "val: 100%|██████████| 128/128 [00:01<00:00, 116.97it/s]\n"
     ]
    },
    {
     "name": "stdout",
     "output_type": "stream",
     "text": [
      "Epoch 90, val/rmse: 0.19340025344455292, val/mae: 0.08611840754747391\n"
     ]
    },
    {
     "name": "stderr",
     "output_type": "stream",
     "text": [
      "Epoch 91: 100%|██████████| 4/4 [00:00<00:00,  6.45it/s]\n",
      "Epoch 92: 100%|██████████| 4/4 [00:00<00:00,  6.43it/s]\n",
      "Epoch 93: 100%|██████████| 4/4 [00:00<00:00,  5.77it/s]\n",
      "Epoch 94: 100%|██████████| 4/4 [00:00<00:00,  6.46it/s]\n",
      "Epoch 95: 100%|██████████| 4/4 [00:00<00:00,  6.31it/s]\n",
      "Epoch 96: 100%|██████████| 4/4 [00:00<00:00,  6.30it/s]\n",
      "Epoch 97: 100%|██████████| 4/4 [00:00<00:00,  6.10it/s]\n",
      "Epoch 98: 100%|██████████| 4/4 [00:00<00:00,  6.34it/s]\n",
      "Epoch 99: 100%|██████████| 4/4 [00:00<00:00,  6.51it/s]\n"
     ]
    }
   ],
   "source": [
    "from tqdm import tqdm\n",
    "import wandb\n",
    "from torch_geometric_temporal import DCRNN\n",
    "\n",
    "gnn = GRU\n",
    "\n",
    "node_features = 1\n",
    "\n",
    "model = RecurrentGNN(gnn = gnn, node_features = node_features).to(device)\n",
    "\n",
    "if gnn.__name__ == 'GRU':\n",
    "    model_name = f'{gnn.__name__}'\n",
    "elif gnn.__name__ == 'DCRNN':\n",
    "    model_name = f'{gnn.__name__}_{corr_name}_{corr_scope}'\n",
    "elif gnn.__name__ == 'DGRNN':\n",
    "    model_name = f'{gnn.__name__}_{corr_name}_{corr_scope}{\"_diff_attn\" if model.recurrent.diff_attn else \"\"}'\n",
    "\n",
    "lr = 1e-2\n",
    "num_epochs = 100\n",
    "optimizer = torch.optim.Adam(model.parameters(), lr=lr)\n",
    "track_with_wandb = True\n",
    "\n",
    "if track_with_wandb:\n",
    "    wandb.init(project=\"cs224w-stock-market-prediction\", config={\n",
    "        \"dataset\": \"S&P500\",\n",
    "        \"corr_name\": corr_name,\n",
    "        \"corr_scope\": corr_scope,\n",
    "        \"learning_rate\": lr,\n",
    "        \"epochs\": num_epochs,\n",
    "        \"architecture\": gnn.__name__,\n",
    "    })\n",
    "\n",
    "best_val_rmse = float('inf')\n",
    "\n",
    "batch_size = 64\n",
    "eval_per_epoch = 10\n",
    "\n",
    "train_samples = list(train_dataset)\n",
    "val_samples = list(val_dataset)\n",
    "test_samples = list(test_dataset)\n",
    "\n",
    "for epoch in range(num_epochs):\n",
    "    model.train()\n",
    "    train_loss = 0\n",
    "    for step, snapshot in tqdm(enumerate(train_samples), total=len(train_samples), desc=f'Epoch {epoch}'):\n",
    "        X = snapshot.x.to(device)\n",
    "        if model.recurrent.__class__.__name__ == 'GRU':\n",
    "            y_hats, _ = model(X.transpose(0, 1), snapshot.edge_index.to(device), snapshot.edge_attr.to(device), hidden=None)\n",
    "        else:\n",
    "            H = None\n",
    "            y_hats = []\n",
    "            for x in X:\n",
    "                y_hat, H = model(x, snapshot.edge_index.to(device), snapshot.edge_attr.to(device), hidden=H)\n",
    "                y_hats.append(y_hat.squeeze())\n",
    "            y_hats = torch.stack(y_hats, dim=1)\n",
    "        loss = F.mse_loss(y_hats.squeeze(), snapshot.y.to(device))\n",
    "        train_loss += loss.item()\n",
    "        loss.backward()\n",
    "        optimizer.step()\n",
    "        optimizer.zero_grad()\n",
    "        wandb.log({\"epoch\": epoch,\n",
    "                   \"step\": step,\n",
    "                    \"train/loss\": loss.item() })\n",
    "    train_loss /= len(train_samples)\n",
    "\n",
    "    if track_with_wandb and epoch % eval_per_epoch == 0:\n",
    "        val_rmse, val_mae = eval(epoch, model, val_samples, 'val')\n",
    "        if val_rmse < best_val_rmse:\n",
    "            best_rmse = val_rmse\n",
    "            torch.save(model.state_dict(), f'{model_name}.pth')\n"
   ]
  },
  {
   "cell_type": "code",
   "execution_count": 13,
   "metadata": {},
   "outputs": [
    {
     "name": "stderr",
     "output_type": "stream",
     "text": [
      "test: 100%|██████████| 128/128 [00:01<00:00, 120.55it/s]\n"
     ]
    },
    {
     "name": "stdout",
     "output_type": "stream",
     "text": [
      "Epoch 99, test/rmse: 0.8909698956238586, test/mae: 0.13745185732841492\n"
     ]
    }
   ],
   "source": [
    "if track_with_wandb:\n",
    "    best_model = RecurrentGNN(gnn = gnn, node_features = node_features).to(device)\n",
    "    best_model.load_state_dict(torch.load(f'{model_name}.pth', weights_only=True))\n",
    "    test_rmse, test_mae = eval(epoch, best_model, test_samples, 'test')\n"
   ]
  }
 ],
 "metadata": {
  "kernelspec": {
   "display_name": "stock",
   "language": "python",
   "name": "python3"
  },
  "language_info": {
   "codemirror_mode": {
    "name": "ipython",
    "version": 3
   },
   "file_extension": ".py",
   "mimetype": "text/x-python",
   "name": "python",
   "nbconvert_exporter": "python",
   "pygments_lexer": "ipython3",
   "version": "3.12.7"
  }
 },
 "nbformat": 4,
 "nbformat_minor": 2
}
