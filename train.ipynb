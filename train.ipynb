{
 "cells": [
  {
   "cell_type": "markdown",
   "metadata": {},
   "source": [
    "# Dataset Construction"
   ]
  },
  {
   "cell_type": "code",
   "execution_count": 11,
   "metadata": {},
   "outputs": [],
   "source": [
    "import numpy as np\n",
    "import pandas as pd\n",
    "from torch_geometric_temporal.signal import StaticGraphTemporalSignal, DynamicGraphTemporalSignal\n",
    "import torch\n",
    "from typing import Union\n",
    "import glob\n",
    "from natsort import natsorted\n",
    "import random\n",
    "\n",
    "random.seed(42)\n",
    "\n",
    "class SP500CorrelationsDatasetLoader(object):\n",
    "    def __init__(self, corr_name, corr_scope):\n",
    "        self._read_csv(corr_name, corr_scope)\n",
    "\n",
    "    def _read_csv(self, corr_name, corr_scope):\n",
    "        match corr_scope:\n",
    "            case 'global':\n",
    "                self._correlation_matrices = [np.loadtxt(f'{corr_name}/{corr_scope}_corr.csv', delimiter=',')]\n",
    "            case 'local':\n",
    "                self._correlation_matrices = []\n",
    "                corr_files = natsorted(glob.glob(f'{corr_name}/local_corr_*.csv'))\n",
    "                for corr_file in corr_files:\n",
    "                    matrix = np.loadtxt(corr_file, delimiter=',')\n",
    "                    self._correlation_matrices.append(matrix)\n",
    "        \n",
    "        df = pd.read_csv('s&p500.csv')\n",
    "        df = df.set_index('Date')\n",
    "        data = torch.from_numpy(df.to_numpy()).to(torch.float32)\n",
    "\n",
    "        # Round data size to nearest multiple of batch_size\n",
    "        self.days_in_quarter = 64\n",
    "        num_quarters = data.size(0) // self.days_in_quarter\n",
    "        num_days = num_quarters * self.days_in_quarter\n",
    "        data = data[:num_days]\n",
    "        \n",
    "        # z-score normalization with training data following GERU\n",
    "        train_days = int(0.8 * num_quarters) * self.days_in_quarter\n",
    "        data = (data - data[:train_days].mean(dim=0)) / data[:train_days].std(dim=0)\n",
    "        data = data.numpy()\n",
    "\n",
    "        data = data[..., np.newaxis]\n",
    "\n",
    "        # # Add percent change features\n",
    "        # p_chg = data / np.roll(data, 1, axis=0) - 1\n",
    "        # p_chg[0] = 0.0\n",
    "        # p_chg_3 = data / np.roll(data, 3, axis=0) - 1\n",
    "        # p_chg_3[0:3] = 0.0\n",
    "        # p_chg_6 = data / np.roll(data, 6, axis=0) - 1\n",
    "        # p_chg_6[0:6] = 0.0\n",
    "\n",
    "        # data = np.stack([data, p_chg, p_chg_3, p_chg_6], axis=-1)\n",
    "        # print('data.shape', data.shape)\n",
    "\n",
    "        assert(not np.any(np.isnan(data)))\n",
    "        self._dataset = data\n",
    "\n",
    "    def _get_edges(self, times, overlap):\n",
    "        if len(self._correlation_matrices) == 1:\n",
    "            _edges = np.array(np.ones_like(self._correlation_matrices[0]).nonzero())\n",
    "        else:\n",
    "            _edges = []\n",
    "            for time in range(0, self._dataset.shape[0] - self.batch_size, overlap):\n",
    "                if not time in times:\n",
    "                    continue\n",
    "                corr_index = max(0, time // self.days_in_quarter - 1)\n",
    "                _edges.append(\n",
    "                    np.array(np.ones_like(self._correlation_matrices[corr_index]).nonzero())\n",
    "                )\n",
    "        return _edges\n",
    "\n",
    "    def _get_edge_weights(self, times, overlap):\n",
    "        if len(self._correlation_matrices) == 1:\n",
    "            _edge_weights = self._correlation_matrices[0].flatten()\n",
    "        else:\n",
    "            _edge_weights = []\n",
    "            for time in range(0, self._dataset.shape[0] - self.batch_size, overlap):\n",
    "                if not time in times:\n",
    "                    continue\n",
    "                corr_index = max(0, time // self.days_in_quarter - 1)\n",
    "                _edge_weights.append(\n",
    "                    np.array(self._correlation_matrices[corr_index]).flatten()\n",
    "                )\n",
    "        return _edge_weights\n",
    "\n",
    "    def _get_targets_and_features(self, times, overlap, predict_all):\n",
    "        features = [\n",
    "            self._dataset[i : i + self.batch_size, :]\n",
    "            for i in range(0, self._dataset.shape[0] - self.batch_size, overlap)\n",
    "            if i in times\n",
    "        ]\n",
    "        # predict next-day stock prices\n",
    "        targets = [\n",
    "            (self._dataset[i+1 : i + self.batch_size+1, :, 0]).T if predict_all else (self._dataset[i + self.batch_size, :, 0]).T\n",
    "            for i in range(0, self._dataset.shape[0] - self.batch_size, overlap)\n",
    "            if i in times\n",
    "        ]\n",
    "        return features, targets\n",
    "\n",
    "    def get_dataset(self, batch_size, split) -> Union[StaticGraphTemporalSignal, DynamicGraphTemporalSignal]:\n",
    "        \"\"\"Returning the data iterator.\n",
    "        \"\"\"\n",
    "        self.batch_size = batch_size\n",
    "\n",
    "        total_times = list(range(0, self._dataset.shape[0] - self.batch_size, self.batch_size))\n",
    "\n",
    "        if split == 'train':\n",
    "            times = list(range(total_times[int(len(total_times) * 0.6)], total_times[int(len(total_times) * 0.8)]))\n",
    "            overlap = self.batch_size\n",
    "            predict_all = True\n",
    "        elif split == 'val':\n",
    "            times = list(range(total_times[int(len(total_times) * 0.8)], total_times[int(len(total_times) * 0.85)]))\n",
    "            overlap = 1\n",
    "            predict_all = False\n",
    "        elif split == 'test':\n",
    "            times = list(range(total_times[int(len(total_times) * 0.85)], total_times[int(len(total_times) * 0.9)]))\n",
    "            overlap = 1\n",
    "            predict_all = False\n",
    "        else:\n",
    "            raise ValueError(f'Invalid split name: {split}')\n",
    "\n",
    "        _edges = self._get_edges(times, overlap)\n",
    "        _edge_weights = self._get_edge_weights(times, overlap)\n",
    "        features, targets = self._get_targets_and_features(times, overlap, predict_all)\n",
    "        dataset = (DynamicGraphTemporalSignal if type(_edges) == list else StaticGraphTemporalSignal)(\n",
    "            _edges, _edge_weights, features, targets\n",
    "        )\n",
    "        return dataset"
   ]
  },
  {
   "cell_type": "code",
   "execution_count": 12,
   "metadata": {},
   "outputs": [],
   "source": [
    "# device = torch.device(\"cuda\" if torch.cuda.is_available() else \"mps\" if torch.backends.mps.is_available() else \"cpu\")\n",
    "device = 'cpu'\n",
    "\n",
    "corr_name = 'mi'\n",
    "corr_scope = 'global'\n",
    "loader = SP500CorrelationsDatasetLoader(corr_name=corr_name, corr_scope=corr_scope)\n",
    "\n",
    "lag_size = 64\n",
    "train_dataset = loader.get_dataset(batch_size=lag_size * 2, split='train')\n",
    "val_dataset = loader.get_dataset(batch_size=lag_size, split='val')\n",
    "test_dataset = loader.get_dataset(batch_size=lag_size, split='test')"
   ]
  },
  {
   "cell_type": "code",
   "execution_count": 13,
   "metadata": {},
   "outputs": [
    {
     "name": "stdout",
     "output_type": "stream",
     "text": [
      "4\n",
      "4\n",
      "128\n",
      "128\n",
      "128\n",
      "128\n"
     ]
    }
   ],
   "source": [
    "print(len(train_dataset.features))\n",
    "print(len(train_dataset.targets))\n",
    "print(len(val_dataset.features))\n",
    "print(len(val_dataset.targets))\n",
    "print(len(test_dataset.features))\n",
    "print(len(test_dataset.targets))"
   ]
  },
  {
   "cell_type": "markdown",
   "metadata": {},
   "source": [
    "# Differential Graph Transformer"
   ]
  },
  {
   "cell_type": "code",
   "execution_count": 14,
   "metadata": {},
   "outputs": [],
   "source": [
    "import math\n",
    "import torch\n",
    "from torch_geometric.utils import to_dense_adj, dense_to_sparse\n",
    "from torch_geometric.nn.conv import MessagePassing\n",
    "\n",
    "class DConv(MessagePassing):\n",
    "    r\"\"\"An implementation of the Diffusion Convolution Layer.\n",
    "    For details see: `\"Diffusion Convolutional Recurrent Neural Network:\n",
    "    Data-Driven Traffic Forecasting\" <https://arxiv.org/abs/1707.01926>`_\n",
    "\n",
    "    Args:\n",
    "        in_channels (int): Number of input features.\n",
    "        out_channels (int): Number of output features.\n",
    "        K (int): Filter size :math:`K`.\n",
    "        bias (bool, optional): If set to :obj:`False`, the layer\n",
    "            will not learn an additive bias (default :obj:`True`).\n",
    "\n",
    "    \"\"\"\n",
    "\n",
    "    def __init__(self, in_channels, out_channels, K, bias=True):\n",
    "        super(DConv, self).__init__(aggr=\"add\", flow=\"source_to_target\")\n",
    "        assert K > 0\n",
    "        self.in_channels = in_channels\n",
    "        self.out_channels = out_channels\n",
    "        self.weight = torch.nn.Parameter(torch.Tensor(2, K, in_channels, out_channels))\n",
    "\n",
    "        if bias:\n",
    "            self.bias = torch.nn.Parameter(torch.Tensor(out_channels))\n",
    "        else:\n",
    "            self.register_parameter(\"bias\", None)\n",
    "\n",
    "        self.__reset_parameters()\n",
    "\n",
    "    def __reset_parameters(self):\n",
    "        torch.nn.init.xavier_uniform_(self.weight)\n",
    "        torch.nn.init.zeros_(self.bias)\n",
    "\n",
    "    def message(self, x_j, norm):\n",
    "        return norm.view(-1, 1) * x_j\n",
    "\n",
    "    def forward(\n",
    "        self,\n",
    "        X: torch.FloatTensor,\n",
    "        edge_index: torch.LongTensor,\n",
    "        edge_weight: torch.FloatTensor,\n",
    "    ) -> torch.FloatTensor:\n",
    "        r\"\"\"Making a forward pass. If edge weights are not present the forward pass\n",
    "        defaults to an unweighted graph.\n",
    "\n",
    "        Arg types:\n",
    "            * **X** (PyTorch Float Tensor) - Node features.\n",
    "            * **edge_index** (PyTorch Long Tensor) - Graph edge indices.\n",
    "            * **edge_weight** (PyTorch Long Tensor, optional) - Edge weight vector.\n",
    "\n",
    "        Return types:\n",
    "            * **H** (PyTorch Float Tensor) - Hidden state matrix for all nodes.\n",
    "        \"\"\"\n",
    "        adj_mat = to_dense_adj(edge_index, edge_attr=edge_weight)\n",
    "        adj_mat = adj_mat.reshape(adj_mat.size(1), adj_mat.size(2))\n",
    "        deg_out = torch.matmul(\n",
    "            adj_mat, torch.ones(size=(adj_mat.size(0), 1)).to(X.device)\n",
    "        )\n",
    "        deg_out = deg_out.flatten()\n",
    "        deg_in = torch.matmul(\n",
    "            torch.ones(size=(1, adj_mat.size(0))).to(X.device), adj_mat\n",
    "        )\n",
    "        deg_in = deg_in.flatten()\n",
    "\n",
    "        deg_out_inv = torch.reciprocal(deg_out)\n",
    "        deg_in_inv = torch.reciprocal(deg_in)\n",
    "        row, col = edge_index\n",
    "        norm_out = deg_out_inv[row]\n",
    "        norm_in = deg_in_inv[row]\n",
    "\n",
    "        reverse_edge_index = adj_mat.transpose(0, 1)\n",
    "        reverse_edge_index, vv = dense_to_sparse(reverse_edge_index)\n",
    "\n",
    "        Tx_0 = X\n",
    "        Tx_1 = X\n",
    "        H = torch.matmul(Tx_0, (self.weight[0])[0]) + torch.matmul(\n",
    "            Tx_0, (self.weight[1])[0]\n",
    "        )\n",
    "\n",
    "        if self.weight.size(1) > 1:\n",
    "            Tx_1_o = self.propagate(edge_index, x=X, norm=norm_out, size=None)\n",
    "            Tx_1_i = self.propagate(reverse_edge_index, x=X, norm=norm_in, size=None)\n",
    "            H = (\n",
    "                H\n",
    "                + torch.matmul(Tx_1_o, (self.weight[0])[1])\n",
    "                + torch.matmul(Tx_1_i, (self.weight[1])[1])\n",
    "            )\n",
    "\n",
    "        for k in range(2, self.weight.size(1)):\n",
    "            Tx_2_o = self.propagate(edge_index, x=Tx_1_o, norm=norm_out, size=None)\n",
    "            Tx_2_o = 2.0 * Tx_2_o - Tx_0\n",
    "            Tx_2_i = self.propagate(\n",
    "                reverse_edge_index, x=Tx_1_i, norm=norm_in, size=None\n",
    "            )\n",
    "            Tx_2_i = 2.0 * Tx_2_i - Tx_0\n",
    "            H = (\n",
    "                H\n",
    "                + torch.matmul(Tx_2_o, (self.weight[0])[k])\n",
    "                + torch.matmul(Tx_2_i, (self.weight[1])[k])\n",
    "            )\n",
    "            Tx_0, Tx_1_o, Tx_1_i = Tx_1, Tx_2_o, Tx_2_i\n",
    "\n",
    "        if self.bias is not None:\n",
    "            H += self.bias\n",
    "\n",
    "        return H\n"
   ]
  },
  {
   "cell_type": "code",
   "execution_count": 15,
   "metadata": {},
   "outputs": [],
   "source": [
    "import torch\n",
    "import torch.nn as nn\n",
    "import torch.nn.functional as F\n",
    "from multihead_diffattn import MultiheadDiffAttn\n",
    "\n",
    "class FeedForward(nn.Module):\n",
    "    def __init__(self, hidden_size, expand_ratio, dropout):\n",
    "        super(FeedForward, self).__init__()\n",
    "        self.linear = nn.Linear(hidden_size, hidden_size * expand_ratio)\n",
    "        self.linear2 = nn.Linear(hidden_size * expand_ratio, hidden_size)\n",
    "        self.relu = nn.ReLU()\n",
    "        self.dropout = nn.Dropout(p=dropout)\n",
    "    \n",
    "    def forward(self, x):\n",
    "        x = self.linear(x)\n",
    "        x = self.relu(x)\n",
    "        x = self.linear2(x)\n",
    "        x = self.dropout(x)\n",
    "        return x\n",
    "\n",
    "class Attention(nn.Module):\n",
    "    def __init__(self, d_model, num_heads, expand_ratio, dropout, attn_variant='standard'):\n",
    "        super().__init__()\n",
    "        self.attn_variant = attn_variant\n",
    "        if attn_variant == 'standard':\n",
    "            self.mha = nn.MultiheadAttention(embed_dim=d_model, num_heads=num_heads, batch_first=True)\n",
    "            self.ln1 = nn.LayerNorm(d_model)\n",
    "        elif attn_variant == 'diff':\n",
    "            self.mha = MultiheadDiffAttn(embed_dim=d_model, num_heads=num_heads, depth=0)\n",
    "        self.ln2 = nn.LayerNorm(d_model)\n",
    "        self.ffn = FeedForward(hidden_size=d_model, expand_ratio=expand_ratio, dropout=dropout)\n",
    "\n",
    "    def forward(self, x, A=None, attn_mask=None, need_weights=False):\n",
    "        if self.attn_variant == 'standard':\n",
    "            x1, attn_weights = self.mha(x, x, x, attn_mask=attn_mask, need_weights=need_weights, average_attn_weights=False)\n",
    "            x2 = self.ln1(x + x1)\n",
    "        elif self.attn_variant == 'diff':\n",
    "            x2, attn_weights = self.mha(x, A, attn_mask=attn_mask)\n",
    "        x = self.ln2(self.ffn(x2) + x2)\n",
    "        if need_weights:\n",
    "            return (x, attn_weights)\n",
    "        else:\n",
    "            return x\n",
    "\n",
    "\n",
    "class GraphTransformer(nn.Module):\n",
    "    def __init__(self, in_channels=1, out_channels=32, attn_variant='standard', num_heads=2, expand_ratio=1, dropout=0.1, T = 128, N=472):\n",
    "        super().__init__()\n",
    "        self.T = T\n",
    "        self.N = N\n",
    "        self.attn_variant = attn_variant\n",
    "        print('self.attn_variant', self.attn_variant)\n",
    "        self.d_model = out_channels\n",
    "        self.num_heads = num_heads\n",
    "        self.input_proj = nn.Linear(1, out_channels)\n",
    "        self.time_embedding = nn.Embedding(T, out_channels)\n",
    "        self.stock_embedding = nn.Embedding(N, out_channels)\n",
    "        self.spatial_attn = Attention(out_channels, num_heads, expand_ratio, dropout, attn_variant=attn_variant)\n",
    "        self.temporal_attn = Attention(out_channels, num_heads, expand_ratio, dropout)\n",
    "    \n",
    "    def forward(self, x, edge_index, edge_weight, hidden, need_weights=False):\n",
    "        N, T, D = x.size()\n",
    "        assert(D == 1)\n",
    "        # print(T, self.T, N, self.N)\n",
    "        assert(T <= self.T and N == self.N)\n",
    "\n",
    "        x = x.reshape(T, N, D)\n",
    "\n",
    "        # print(x.size())\n",
    "        # print(x.view(T, N, 1).size())\n",
    "        x = self.input_proj(x)\n",
    "        # print('after input_proj', x.size())\n",
    "        stock_embs = self.stock_embedding(torch.arange(N).unsqueeze(0).expand(T, N).to(x.device))\n",
    "        # print('stock_embs.size', stock_embs.size())\n",
    "        x += stock_embs\n",
    "        time_embs = self.time_embedding(torch.arange(T).unsqueeze(0).expand(N, T).to(x.device))\n",
    "        # print('time_embs.size', time_embs.size())\n",
    "        x += time_embs.view(T, N, self.d_model)\n",
    "\n",
    "        # x = self.input_proj(x.view(T, N, 1))\n",
    "        # IDEA: Each spatial head takes in a different type of correlation matrix.\n",
    "        # Like one takes in positive pearson's coefficnet and the other takes in negative\n",
    "\n",
    "        x = x.view(N, T, self.d_model)\n",
    "        temporal_causal_mask = torch.triu(torch.ones((T, T), dtype=torch.bool), diagonal=1).expand(N * self.num_heads, T, T).to(x.device)\n",
    "        x = self.temporal_attn(x, attn_mask=temporal_causal_mask, need_weights=need_weights) + x\n",
    "\n",
    "        x = x.view(T, N, self.d_model)\n",
    "        \n",
    "        if self.attn_variant == 'diff':\n",
    "            A = to_dense_adj(edge_index, edge_attr=edge_weight)\n",
    "            x = self.spatial_attn(x, A, need_weights=need_weights) + x\n",
    "        else:\n",
    "            x = self.spatial_attn(x, need_weights=need_weights) + x\n",
    "\n",
    "        x = x.view(N, T, self.d_model)\n",
    "\n",
    "        return x"
   ]
  },
  {
   "cell_type": "markdown",
   "metadata": {},
   "source": [
    "# Plain RNN"
   ]
  },
  {
   "cell_type": "code",
   "execution_count": 16,
   "metadata": {},
   "outputs": [],
   "source": [
    "class GRU(torch.nn.Module):\n",
    "    def __init__(self, in_channels: int, out_channels: int):\n",
    "        super(GRU, self).__init__()\n",
    "        self.rnn = nn.GRU(input_size=in_channels, hidden_size=out_channels, num_layers=2, batch_first=True)\n",
    "\n",
    "    def forward(\n",
    "        self,\n",
    "        X: torch.FloatTensor,\n",
    "        edge_index: torch.LongTensor,\n",
    "        edge_weight: torch.FloatTensor = None,\n",
    "        H: torch.FloatTensor = None,\n",
    "    ) -> torch.FloatTensor:\n",
    "        outputs, _ = self.rnn(X, H)\n",
    "        return outputs"
   ]
  },
  {
   "cell_type": "markdown",
   "metadata": {},
   "source": [
    "# RGCN"
   ]
  },
  {
   "cell_type": "code",
   "execution_count": 17,
   "metadata": {},
   "outputs": [],
   "source": [
    "import torch\n",
    "import torch.nn.functional as F\n",
    "\n",
    "class RecurrentGNN(torch.nn.Module):\n",
    "    def __init__(self, gnn, node_features, hidden_size=32, **kwargs):\n",
    "        super(RecurrentGNN, self).__init__()\n",
    "        self.recurrent = gnn(in_channels=node_features, out_channels=hidden_size, **kwargs)\n",
    "        self.linear = torch.nn.Linear(hidden_size, 1)\n",
    "\n",
    "    def forward(self, x, edge_index, edge_weight, hidden):\n",
    "        outputs = self.recurrent(x, edge_index, edge_weight, hidden)\n",
    "        return self.linear(F.relu(outputs)), outputs"
   ]
  },
  {
   "cell_type": "code",
   "execution_count": 18,
   "metadata": {},
   "outputs": [],
   "source": [
    "import math\n",
    "\n",
    "def rmse(y_hat, y):\n",
    "    return math.sqrt(F.mse_loss(y_hat, y).item())\n",
    "\n",
    "def mae(y_hat, y):\n",
    "    return F.l1_loss(y_hat, y).item()"
   ]
  },
  {
   "cell_type": "code",
   "execution_count": 19,
   "metadata": {},
   "outputs": [],
   "source": [
    "import wandb\n",
    "from tqdm import tqdm\n",
    "from concurrent.futures import ThreadPoolExecutor\n",
    "\n",
    "def eval(epoch, model, eval_dataset, eval_name):\n",
    "    model.eval()\n",
    "    with torch.no_grad():\n",
    "        def process(snapshot):\n",
    "            X = snapshot.x.to(device)\n",
    "            if model.recurrent.__class__.__name__ in ['GRU', 'GraphTransformer']:\n",
    "                batch_y_hats, _ = model(X.transpose(0, 1), snapshot.edge_index.to(device), snapshot.edge_attr.to(device), hidden=None)\n",
    "                return batch_y_hats[:, -1]\n",
    "            else:\n",
    "                H = None\n",
    "                for x in X:\n",
    "                    y_hat, H = model(x, snapshot.edge_index.to(device), snapshot.edge_attr.to(device), hidden=H)\n",
    "                return y_hat\n",
    "        # with ThreadPoolExecutor(max_workers=1) as executor:\n",
    "        y_hats = list(tqdm(map(process, eval_dataset), total=len(eval_dataset), desc=eval_name))\n",
    "        ys = [snapshot.y.to(device) for snapshot in eval_dataset]\n",
    "        y_hats, ys = torch.cat(y_hats, dim=0).squeeze().to(device), torch.cat(ys, dim=0).to(device)\n",
    "        eval_rmse = rmse(y_hats, ys)\n",
    "        eval_mae = mae(y_hats, ys)\n",
    "        wandb.log({\"epoch\": epoch,\n",
    "                f\"{eval_name}/rmse\": eval_rmse,\n",
    "                f\"{eval_name}/mae\": eval_mae })\n",
    "        print(f'Epoch {epoch}, {eval_name}/rmse: {eval_rmse}, {eval_name}/mae: {eval_mae}')\n",
    "        return (eval_rmse, eval_mae)"
   ]
  },
  {
   "cell_type": "code",
   "execution_count": 20,
   "metadata": {},
   "outputs": [
    {
     "name": "stdout",
     "output_type": "stream",
     "text": [
      "self.attn_variant diff\n"
     ]
    },
    {
     "data": {
      "text/html": [
       "Finishing last run (ID:9bbpawd2) before initializing another..."
      ],
      "text/plain": [
       "<IPython.core.display.HTML object>"
      ]
     },
     "metadata": {},
     "output_type": "display_data"
    },
    {
     "data": {
      "text/html": [
       " View run <strong style=\"color:#cdcd00\">apricot-valley-270</strong> at: <a href='https://wandb.ai/kevinxli/cs224w-stock-market-prediction/runs/9bbpawd2' target=\"_blank\">https://wandb.ai/kevinxli/cs224w-stock-market-prediction/runs/9bbpawd2</a><br/> View project at: <a href='https://wandb.ai/kevinxli/cs224w-stock-market-prediction' target=\"_blank\">https://wandb.ai/kevinxli/cs224w-stock-market-prediction</a><br/>Synced 5 W&B file(s), 0 media file(s), 0 artifact file(s) and 0 other file(s)"
      ],
      "text/plain": [
       "<IPython.core.display.HTML object>"
      ]
     },
     "metadata": {},
     "output_type": "display_data"
    },
    {
     "data": {
      "text/html": [
       "Find logs at: <code>./wandb/run-20241208_203027-9bbpawd2/logs</code>"
      ],
      "text/plain": [
       "<IPython.core.display.HTML object>"
      ]
     },
     "metadata": {},
     "output_type": "display_data"
    },
    {
     "data": {
      "text/html": [
       "Successfully finished last run (ID:9bbpawd2). Initializing new run:<br/>"
      ],
      "text/plain": [
       "<IPython.core.display.HTML object>"
      ]
     },
     "metadata": {},
     "output_type": "display_data"
    },
    {
     "data": {
      "text/html": [
       "Tracking run with wandb version 0.18.5"
      ],
      "text/plain": [
       "<IPython.core.display.HTML object>"
      ]
     },
     "metadata": {},
     "output_type": "display_data"
    },
    {
     "data": {
      "text/html": [
       "Run data is saved locally in <code>/Volumes/crucialx9/classes/fall2024/cs224w/stock/wandb/run-20241208_203029-cmrouf4i</code>"
      ],
      "text/plain": [
       "<IPython.core.display.HTML object>"
      ]
     },
     "metadata": {},
     "output_type": "display_data"
    },
    {
     "data": {
      "text/html": [
       "Syncing run <strong><a href='https://wandb.ai/kevinxli/cs224w-stock-market-prediction/runs/cmrouf4i' target=\"_blank\">wandering-breeze-271</a></strong> to <a href='https://wandb.ai/kevinxli/cs224w-stock-market-prediction' target=\"_blank\">Weights & Biases</a> (<a href='https://wandb.me/run' target=\"_blank\">docs</a>)<br/>"
      ],
      "text/plain": [
       "<IPython.core.display.HTML object>"
      ]
     },
     "metadata": {},
     "output_type": "display_data"
    },
    {
     "data": {
      "text/html": [
       " View project at <a href='https://wandb.ai/kevinxli/cs224w-stock-market-prediction' target=\"_blank\">https://wandb.ai/kevinxli/cs224w-stock-market-prediction</a>"
      ],
      "text/plain": [
       "<IPython.core.display.HTML object>"
      ]
     },
     "metadata": {},
     "output_type": "display_data"
    },
    {
     "data": {
      "text/html": [
       " View run at <a href='https://wandb.ai/kevinxli/cs224w-stock-market-prediction/runs/cmrouf4i' target=\"_blank\">https://wandb.ai/kevinxli/cs224w-stock-market-prediction/runs/cmrouf4i</a>"
      ],
      "text/plain": [
       "<IPython.core.display.HTML object>"
      ]
     },
     "metadata": {},
     "output_type": "display_data"
    },
    {
     "name": "stderr",
     "output_type": "stream",
     "text": [
      "Epoch 0: 100%|██████████| 4/4 [00:02<00:00,  1.43it/s]\n",
      "val: 100%|██████████| 128/128 [00:12<00:00,  9.87it/s]\n"
     ]
    },
    {
     "name": "stdout",
     "output_type": "stream",
     "text": [
      "Epoch 0, val/rmse: 0.9077843141365859, val/mae: 0.7296060919761658\n"
     ]
    },
    {
     "name": "stderr",
     "output_type": "stream",
     "text": [
      "Epoch 1: 100%|██████████| 4/4 [00:02<00:00,  1.50it/s]\n",
      "Epoch 2: 100%|██████████| 4/4 [00:02<00:00,  1.44it/s]\n",
      "Epoch 3: 100%|██████████| 4/4 [00:02<00:00,  1.53it/s]\n",
      "Epoch 4: 100%|██████████| 4/4 [00:02<00:00,  1.47it/s]\n",
      "Epoch 5: 100%|██████████| 4/4 [00:02<00:00,  1.54it/s]\n",
      "Epoch 6: 100%|██████████| 4/4 [00:02<00:00,  1.39it/s]\n",
      "Epoch 7: 100%|██████████| 4/4 [00:02<00:00,  1.37it/s]\n",
      "Epoch 8: 100%|██████████| 4/4 [00:02<00:00,  1.54it/s]\n",
      "Epoch 9: 100%|██████████| 4/4 [00:02<00:00,  1.54it/s]\n",
      "Epoch 10: 100%|██████████| 4/4 [00:02<00:00,  1.56it/s]\n",
      "val: 100%|██████████| 128/128 [00:14<00:00,  9.06it/s]\n"
     ]
    },
    {
     "name": "stdout",
     "output_type": "stream",
     "text": [
      "Epoch 10, val/rmse: 0.4492927987808096, val/mae: 0.32329633831977844\n"
     ]
    },
    {
     "name": "stderr",
     "output_type": "stream",
     "text": [
      "Epoch 11: 100%|██████████| 4/4 [00:02<00:00,  1.48it/s]\n",
      "Epoch 12: 100%|██████████| 4/4 [00:02<00:00,  1.40it/s]\n",
      "Epoch 13: 100%|██████████| 4/4 [00:02<00:00,  1.57it/s]\n",
      "Epoch 14: 100%|██████████| 4/4 [00:02<00:00,  1.60it/s]\n",
      "Epoch 15: 100%|██████████| 4/4 [00:02<00:00,  1.56it/s]\n",
      "Epoch 16: 100%|██████████| 4/4 [00:02<00:00,  1.60it/s]\n",
      "Epoch 17: 100%|██████████| 4/4 [00:02<00:00,  1.61it/s]\n",
      "Epoch 18: 100%|██████████| 4/4 [00:02<00:00,  1.54it/s]\n",
      "Epoch 19: 100%|██████████| 4/4 [00:02<00:00,  1.55it/s]\n",
      "Epoch 20: 100%|██████████| 4/4 [00:02<00:00,  1.53it/s]\n",
      "val: 100%|██████████| 128/128 [00:13<00:00,  9.28it/s]\n"
     ]
    },
    {
     "name": "stdout",
     "output_type": "stream",
     "text": [
      "Epoch 20, val/rmse: 0.2954417692561529, val/mae: 0.19762900471687317\n"
     ]
    },
    {
     "name": "stderr",
     "output_type": "stream",
     "text": [
      "Epoch 21: 100%|██████████| 4/4 [00:02<00:00,  1.44it/s]\n",
      "Epoch 22: 100%|██████████| 4/4 [00:02<00:00,  1.59it/s]\n",
      "Epoch 23: 100%|██████████| 4/4 [00:02<00:00,  1.60it/s]\n",
      "Epoch 24: 100%|██████████| 4/4 [00:02<00:00,  1.65it/s]\n",
      "Epoch 25: 100%|██████████| 4/4 [00:02<00:00,  1.60it/s]\n",
      "Epoch 26: 100%|██████████| 4/4 [00:02<00:00,  1.54it/s]\n",
      "Epoch 27: 100%|██████████| 4/4 [00:02<00:00,  1.50it/s]\n",
      "Epoch 28: 100%|██████████| 4/4 [00:02<00:00,  1.37it/s]\n",
      "Epoch 29: 100%|██████████| 4/4 [00:02<00:00,  1.48it/s]\n",
      "Epoch 30: 100%|██████████| 4/4 [00:02<00:00,  1.48it/s]\n",
      "val: 100%|██████████| 128/128 [00:14<00:00,  9.10it/s]\n"
     ]
    },
    {
     "name": "stdout",
     "output_type": "stream",
     "text": [
      "Epoch 30, val/rmse: 0.22605975045031512, val/mae: 0.14192111790180206\n"
     ]
    },
    {
     "name": "stderr",
     "output_type": "stream",
     "text": [
      "Epoch 31: 100%|██████████| 4/4 [00:02<00:00,  1.56it/s]\n",
      "Epoch 32: 100%|██████████| 4/4 [00:02<00:00,  1.34it/s]\n",
      "Epoch 33: 100%|██████████| 4/4 [00:02<00:00,  1.55it/s]\n",
      "Epoch 34: 100%|██████████| 4/4 [00:02<00:00,  1.52it/s]\n",
      "Epoch 35: 100%|██████████| 4/4 [00:02<00:00,  1.56it/s]\n",
      "Epoch 36: 100%|██████████| 4/4 [00:02<00:00,  1.52it/s]\n",
      "Epoch 37: 100%|██████████| 4/4 [00:02<00:00,  1.54it/s]\n",
      "Epoch 38: 100%|██████████| 4/4 [00:02<00:00,  1.49it/s]\n",
      "Epoch 39: 100%|██████████| 4/4 [00:02<00:00,  1.58it/s]\n",
      "Epoch 40: 100%|██████████| 4/4 [00:02<00:00,  1.62it/s]\n",
      "val: 100%|██████████| 128/128 [00:14<00:00,  8.82it/s]\n"
     ]
    },
    {
     "name": "stdout",
     "output_type": "stream",
     "text": [
      "Epoch 40, val/rmse: 0.19471473772729958, val/mae: 0.11946354806423187\n"
     ]
    },
    {
     "name": "stderr",
     "output_type": "stream",
     "text": [
      "Epoch 41: 100%|██████████| 4/4 [00:02<00:00,  1.56it/s]\n",
      "Epoch 42: 100%|██████████| 4/4 [00:02<00:00,  1.59it/s]\n",
      "Epoch 43: 100%|██████████| 4/4 [00:02<00:00,  1.56it/s]\n",
      "Epoch 44: 100%|██████████| 4/4 [00:02<00:00,  1.48it/s]\n",
      "Epoch 45: 100%|██████████| 4/4 [00:02<00:00,  1.56it/s]\n",
      "Epoch 46: 100%|██████████| 4/4 [00:02<00:00,  1.59it/s]\n",
      "Epoch 47: 100%|██████████| 4/4 [00:02<00:00,  1.59it/s]\n",
      "Epoch 48: 100%|██████████| 4/4 [00:02<00:00,  1.59it/s]\n",
      "Epoch 49: 100%|██████████| 4/4 [00:02<00:00,  1.57it/s]\n",
      "Epoch 50: 100%|██████████| 4/4 [00:02<00:00,  1.60it/s]\n",
      "val: 100%|██████████| 128/128 [00:13<00:00,  9.47it/s]\n"
     ]
    },
    {
     "name": "stdout",
     "output_type": "stream",
     "text": [
      "Epoch 50, val/rmse: 0.23313055267061975, val/mae: 0.16583912074565887\n"
     ]
    },
    {
     "name": "stderr",
     "output_type": "stream",
     "text": [
      "Epoch 51: 100%|██████████| 4/4 [00:02<00:00,  1.54it/s]\n",
      "Epoch 52: 100%|██████████| 4/4 [00:02<00:00,  1.57it/s]\n",
      "Epoch 53: 100%|██████████| 4/4 [00:02<00:00,  1.39it/s]\n",
      "Epoch 54: 100%|██████████| 4/4 [00:02<00:00,  1.52it/s]\n",
      "Epoch 55: 100%|██████████| 4/4 [00:02<00:00,  1.43it/s]\n",
      "Epoch 56: 100%|██████████| 4/4 [00:02<00:00,  1.55it/s]\n",
      "Epoch 57: 100%|██████████| 4/4 [00:02<00:00,  1.53it/s]\n",
      "Epoch 58: 100%|██████████| 4/4 [00:02<00:00,  1.61it/s]\n",
      "Epoch 59: 100%|██████████| 4/4 [00:02<00:00,  1.57it/s]\n",
      "Epoch 60: 100%|██████████| 4/4 [00:02<00:00,  1.61it/s]\n",
      "val: 100%|██████████| 128/128 [00:13<00:00,  9.33it/s]\n"
     ]
    },
    {
     "name": "stdout",
     "output_type": "stream",
     "text": [
      "Epoch 60, val/rmse: 0.17210070463965305, val/mae: 0.10614065080881119\n"
     ]
    },
    {
     "name": "stderr",
     "output_type": "stream",
     "text": [
      "Epoch 61: 100%|██████████| 4/4 [00:02<00:00,  1.55it/s]\n",
      "Epoch 62: 100%|██████████| 4/4 [00:02<00:00,  1.57it/s]\n",
      "Epoch 63: 100%|██████████| 4/4 [00:02<00:00,  1.56it/s]\n",
      "Epoch 64: 100%|██████████| 4/4 [00:02<00:00,  1.43it/s]\n",
      "Epoch 65: 100%|██████████| 4/4 [00:02<00:00,  1.53it/s]\n",
      "Epoch 66: 100%|██████████| 4/4 [00:02<00:00,  1.48it/s]\n",
      "Epoch 67: 100%|██████████| 4/4 [00:02<00:00,  1.53it/s]\n",
      "Epoch 68: 100%|██████████| 4/4 [00:02<00:00,  1.61it/s]\n",
      "Epoch 69: 100%|██████████| 4/4 [00:02<00:00,  1.59it/s]\n",
      "Epoch 70: 100%|██████████| 4/4 [00:02<00:00,  1.40it/s]\n",
      "val: 100%|██████████| 128/128 [00:14<00:00,  9.06it/s]\n"
     ]
    },
    {
     "name": "stdout",
     "output_type": "stream",
     "text": [
      "Epoch 70, val/rmse: 0.15997517048507287, val/mae: 0.09879083186388016\n"
     ]
    },
    {
     "name": "stderr",
     "output_type": "stream",
     "text": [
      "Epoch 71: 100%|██████████| 4/4 [00:02<00:00,  1.60it/s]\n",
      "Epoch 72: 100%|██████████| 4/4 [00:02<00:00,  1.52it/s]\n",
      "Epoch 73: 100%|██████████| 4/4 [00:02<00:00,  1.37it/s]\n",
      "Epoch 74: 100%|██████████| 4/4 [00:02<00:00,  1.52it/s]\n",
      "Epoch 75: 100%|██████████| 4/4 [00:02<00:00,  1.37it/s]\n",
      "Epoch 76: 100%|██████████| 4/4 [00:02<00:00,  1.52it/s]\n",
      "Epoch 77: 100%|██████████| 4/4 [00:02<00:00,  1.54it/s]\n",
      "Epoch 78: 100%|██████████| 4/4 [00:02<00:00,  1.54it/s]\n",
      "Epoch 79: 100%|██████████| 4/4 [00:02<00:00,  1.62it/s]\n",
      "Epoch 80: 100%|██████████| 4/4 [00:02<00:00,  1.62it/s]\n",
      "val: 100%|██████████| 128/128 [00:13<00:00,  9.21it/s]\n"
     ]
    },
    {
     "name": "stdout",
     "output_type": "stream",
     "text": [
      "Epoch 80, val/rmse: 0.1539320677194874, val/mae: 0.09569528698921204\n"
     ]
    },
    {
     "name": "stderr",
     "output_type": "stream",
     "text": [
      "Epoch 81: 100%|██████████| 4/4 [00:02<00:00,  1.41it/s]\n",
      "Epoch 82: 100%|██████████| 4/4 [00:02<00:00,  1.60it/s]\n",
      "Epoch 83: 100%|██████████| 4/4 [00:02<00:00,  1.62it/s]\n",
      "Epoch 84: 100%|██████████| 4/4 [00:02<00:00,  1.53it/s]\n",
      "Epoch 85: 100%|██████████| 4/4 [00:02<00:00,  1.58it/s]\n",
      "Epoch 86: 100%|██████████| 4/4 [00:02<00:00,  1.61it/s]\n",
      "Epoch 87: 100%|██████████| 4/4 [00:02<00:00,  1.54it/s]\n",
      "Epoch 88: 100%|██████████| 4/4 [00:02<00:00,  1.53it/s]\n",
      "Epoch 89: 100%|██████████| 4/4 [00:02<00:00,  1.61it/s]\n",
      "Epoch 90: 100%|██████████| 4/4 [00:02<00:00,  1.55it/s]\n",
      "val: 100%|██████████| 128/128 [00:14<00:00,  9.08it/s]\n"
     ]
    },
    {
     "name": "stdout",
     "output_type": "stream",
     "text": [
      "Epoch 90, val/rmse: 0.16881804551341276, val/mae: 0.11211240291595459\n"
     ]
    },
    {
     "name": "stderr",
     "output_type": "stream",
     "text": [
      "Epoch 91: 100%|██████████| 4/4 [00:02<00:00,  1.55it/s]\n",
      "Epoch 92: 100%|██████████| 4/4 [00:02<00:00,  1.59it/s]\n",
      "Epoch 93: 100%|██████████| 4/4 [00:02<00:00,  1.62it/s]\n",
      "Epoch 94: 100%|██████████| 4/4 [00:02<00:00,  1.62it/s]\n",
      "Epoch 95: 100%|██████████| 4/4 [00:02<00:00,  1.57it/s]\n",
      "Epoch 96: 100%|██████████| 4/4 [00:02<00:00,  1.62it/s]\n",
      "Epoch 97: 100%|██████████| 4/4 [00:02<00:00,  1.60it/s]\n",
      "Epoch 98: 100%|██████████| 4/4 [00:02<00:00,  1.44it/s]\n",
      "Epoch 99: 100%|██████████| 4/4 [00:02<00:00,  1.51it/s]\n"
     ]
    }
   ],
   "source": [
    "from tqdm import tqdm\n",
    "import wandb\n",
    "from torch_geometric_temporal import DCRNN\n",
    "\n",
    "gnn = GraphTransformer\n",
    "\n",
    "node_features = 1\n",
    "\n",
    "model = RecurrentGNN(gnn = gnn, node_features = node_features, num_heads=2, attn_variant='diff').to(device)\n",
    "\n",
    "if gnn.__name__ == 'GRU':\n",
    "    model_name = f'{gnn.__name__}'\n",
    "elif gnn.__name__ == 'DCRNN':\n",
    "    model_name = f'{gnn.__name__}_{corr_name}_{corr_scope}'\n",
    "elif gnn.__name__ == 'GraphTransformer':\n",
    "    model_name = f'{gnn.__name__}_{corr_name}_{corr_scope}{f\"_{model.recurrent.attn_variant}\"}'\n",
    "\n",
    "lr = 1e-2\n",
    "num_epochs = 100\n",
    "optimizer = torch.optim.Adam(model.parameters(), lr=lr)\n",
    "track_with_wandb = True\n",
    "\n",
    "if track_with_wandb:\n",
    "    wandb.init(project=\"cs224w-stock-market-prediction\", config={\n",
    "        \"dataset\": \"S&P500\",\n",
    "        \"corr_name\": corr_name,\n",
    "        \"corr_scope\": corr_scope,\n",
    "        \"learning_rate\": lr,\n",
    "        \"epochs\": num_epochs,\n",
    "        \"architecture\": gnn.__name__,\n",
    "    })\n",
    "\n",
    "best_val_rmse = float('inf')\n",
    "\n",
    "batch_size = 64\n",
    "eval_per_epoch = 10\n",
    "\n",
    "train_samples = list(train_dataset)\n",
    "val_samples = list(val_dataset)\n",
    "test_samples = list(test_dataset)\n",
    "\n",
    "for epoch in range(num_epochs):\n",
    "    model.train()\n",
    "    train_loss = 0\n",
    "    for step, snapshot in tqdm(enumerate(train_samples), total=len(train_samples), desc=f'Epoch {epoch}'):\n",
    "        X = snapshot.x.to(device)\n",
    "        if model.recurrent.__class__.__name__ in ['GRU', 'GraphTransformer']:\n",
    "            y_hats, _ = model(X.transpose(0, 1), snapshot.edge_index.to(device), snapshot.edge_attr.to(device), hidden=None)\n",
    "        else:\n",
    "            H = None\n",
    "            y_hats = []\n",
    "            for x in X:\n",
    "                y_hat, H = model(x, snapshot.edge_index.to(device), snapshot.edge_attr.to(device), hidden=H)\n",
    "                y_hats.append(y_hat.squeeze())\n",
    "            y_hats = torch.stack(y_hats, dim=1)\n",
    "        loss = F.mse_loss(y_hats.squeeze(), snapshot.y.to(device))\n",
    "        train_loss += loss.item()\n",
    "        loss.backward()\n",
    "        optimizer.step()\n",
    "        optimizer.zero_grad()\n",
    "        wandb.log({\"epoch\": epoch,\n",
    "                   \"step\": step,\n",
    "                    \"train/loss\": loss.item() })\n",
    "    train_loss /= len(train_samples)\n",
    "\n",
    "    if track_with_wandb and epoch % eval_per_epoch == 0:\n",
    "        val_rmse, val_mae = eval(epoch, model, val_samples, 'val')\n",
    "        if val_rmse < best_val_rmse:\n",
    "            best_rmse = val_rmse\n",
    "            torch.save(model.state_dict(), f'{model_name}.pth')\n"
   ]
  },
  {
   "cell_type": "code",
   "execution_count": 21,
   "metadata": {},
   "outputs": [
    {
     "name": "stdout",
     "output_type": "stream",
     "text": [
      "self.attn_variant diff\n"
     ]
    },
    {
     "name": "stderr",
     "output_type": "stream",
     "text": [
      "test: 100%|██████████| 128/128 [00:14<00:00,  9.09it/s]"
     ]
    },
    {
     "name": "stdout",
     "output_type": "stream",
     "text": [
      "Epoch 99, test/rmse: 0.48351771877055527, test/mae: 0.1476988047361374\n"
     ]
    },
    {
     "name": "stderr",
     "output_type": "stream",
     "text": [
      "\n"
     ]
    }
   ],
   "source": [
    "if track_with_wandb:\n",
    "    best_model = RecurrentGNN(gnn = gnn, node_features = node_features, num_heads=2, attn_variant='diff').to(device)\n",
    "    best_model.load_state_dict(torch.load(f'{model_name}.pth', weights_only=True))\n",
    "    test_rmse, test_mae = eval(epoch, best_model, test_samples, 'test')\n"
   ]
  }
 ],
 "metadata": {
  "kernelspec": {
   "display_name": "stock",
   "language": "python",
   "name": "python3"
  },
  "language_info": {
   "codemirror_mode": {
    "name": "ipython",
    "version": 3
   },
   "file_extension": ".py",
   "mimetype": "text/x-python",
   "name": "python",
   "nbconvert_exporter": "python",
   "pygments_lexer": "ipython3",
   "version": "3.12.7"
  }
 },
 "nbformat": 4,
 "nbformat_minor": 2
}
