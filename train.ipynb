{
 "cells": [
  {
   "cell_type": "markdown",
   "metadata": {},
   "source": [
    "# Dataset Construction"
   ]
  },
  {
   "cell_type": "code",
   "execution_count": 1,
   "metadata": {},
   "outputs": [],
   "source": [
    "import numpy as np\n",
    "import pandas as pd\n",
    "from torch_geometric_temporal.signal import StaticGraphTemporalSignal, DynamicGraphTemporalSignal\n",
    "import torch\n",
    "from typing import Union\n",
    "import glob\n",
    "from natsort import natsorted\n",
    "import random\n",
    "\n",
    "# Fix random seed for ease of reproduction\n",
    "seed = 42\n",
    "random.seed(seed)\n",
    "torch.manual_seed(seed)\n",
    "\n",
    "class SP500CorrelationsDatasetLoader(object):\n",
    "    def __init__(self, corr_name, corr_scope):\n",
    "        self._read_csv(corr_name, corr_scope)\n",
    "\n",
    "    def _load_global_corr(self, corr_name):\n",
    "        return np.loadtxt(f'{corr_name}/global_corr.csv', delimiter=',')\n",
    "\n",
    "    def _load_local_corrs(self, corr_name):\n",
    "        _correlation_matrices = []\n",
    "        corr_files = natsorted(glob.glob(f'{corr_name}/local_corr_*.csv'))\n",
    "        for corr_file in corr_files:\n",
    "            matrix = np.loadtxt(corr_file, delimiter=',')\n",
    "            _correlation_matrices.append(matrix)\n",
    "        return _correlation_matrices\n",
    "\n",
    "    def _read_csv(self, corr_name, corr_scope):\n",
    "        match corr_scope:\n",
    "            case 'global':\n",
    "                self._correlation_matrices = [self._load_global_corr(corr_name)]\n",
    "            case 'local':\n",
    "                self._correlation_matrices = self._load_local_corrs(corr_name)\n",
    "            case 'dual':\n",
    "                global_corr = self._load_global_corr(corr_name)\n",
    "                self._correlation_matrices = [np.stack((global_corr, local_corr), axis=-1) for local_corr in self._load_local_corrs(corr_name)]\n",
    "            case None:\n",
    "                # None uses identity matrix as correlation\n",
    "                # Infer dimension from a global correlation matrix\n",
    "                global_corr = self._load_global_corr('pcc')\n",
    "                self._correlation_matrices = [np.eye(global_corr.shape[0], global_corr.shape[1])]\n",
    "        \n",
    "        df = pd.read_csv('s&p500.csv')\n",
    "        df = df.set_index('Date')\n",
    "        data = torch.from_numpy(df.to_numpy()).to(torch.float32)\n",
    "\n",
    "        # Round data size to nearest multiple of batch_size\n",
    "        self.days_in_quarter = 64\n",
    "        num_quarters = data.size(0) // self.days_in_quarter\n",
    "        num_days = num_quarters * self.days_in_quarter\n",
    "        data = data[:num_days]\n",
    "        \n",
    "        # z-score normalization with training data following GERU\n",
    "        train_days = int(0.8 * num_quarters) * self.days_in_quarter\n",
    "        data = (data - data[:train_days].mean(dim=0)) / data[:train_days].std(dim=0)\n",
    "        data = data.numpy()\n",
    "\n",
    "        data = data[..., np.newaxis]\n",
    "\n",
    "        assert(not np.any(np.isnan(data)))\n",
    "        self._dataset = data\n",
    "\n",
    "    def _get_edges(self, times, overlap):\n",
    "        if len(self._correlation_matrices) == 1:\n",
    "            _edges = np.array(np.ones(self._correlation_matrices[0].shape[:2]).nonzero())\n",
    "        else:\n",
    "            _edges = []\n",
    "            for time in range(0, self._dataset.shape[0] - self.batch_size, overlap):\n",
    "                if not time in times:\n",
    "                    continue\n",
    "                corr_index = max(0, time // self.days_in_quarter - 1)\n",
    "                _edges.append(\n",
    "                    np.array(np.ones(self._correlation_matrices[corr_index].shape[:2]).nonzero())\n",
    "                )\n",
    "        return _edges\n",
    "\n",
    "    def _get_edge_weights(self, times, overlap):\n",
    "        if len(self._correlation_matrices) == 1:\n",
    "            # Flatten the first two dimensions\n",
    "            w = self._correlation_matrices[0]\n",
    "            _edge_weights = w.reshape((w.shape[0] * w.shape[1],) + w.shape[2:])\n",
    "        else:\n",
    "            _edge_weights = []\n",
    "            for time in range(0, self._dataset.shape[0] - self.batch_size, overlap):\n",
    "                if not time in times:\n",
    "                    continue\n",
    "                corr_index = max(0, time // self.days_in_quarter - 1)\n",
    "                # Flatten the first two dimensions\n",
    "                w = self._correlation_matrices[corr_index]\n",
    "                _edge_weights.append(\n",
    "                    np.array(w.reshape((w.shape[0] * w.shape[1],) + w.shape[2:]))\n",
    "                )\n",
    "        return _edge_weights\n",
    "\n",
    "    def _get_targets_and_features(self, times, overlap, predict_all):\n",
    "        features = [\n",
    "            self._dataset[i : i + self.batch_size, :]\n",
    "            for i in range(0, self._dataset.shape[0] - self.batch_size, overlap)\n",
    "            if i in times\n",
    "        ]\n",
    "        # predict next-day stock prices\n",
    "        targets = [\n",
    "            (self._dataset[i+1 : i + self.batch_size+1, :, 0]).T if predict_all else (self._dataset[i + self.batch_size, :, 0]).T\n",
    "            for i in range(0, self._dataset.shape[0] - self.batch_size, overlap)\n",
    "            if i in times\n",
    "        ]\n",
    "        return features, targets\n",
    "\n",
    "    def get_dataset(self, batch_size, split) -> Union[StaticGraphTemporalSignal, DynamicGraphTemporalSignal]:\n",
    "        \"\"\"Returning the data iterator.\n",
    "        \"\"\"\n",
    "        self.batch_size = batch_size\n",
    "\n",
    "        total_times = list(range(0, self._dataset.shape[0] - self.batch_size, self.batch_size))\n",
    "\n",
    "        if split == 'train':\n",
    "            times = list(range(total_times[int(len(total_times) * 0)], total_times[int(len(total_times) * 0.8)]))\n",
    "            overlap = self.batch_size\n",
    "            predict_all = True\n",
    "        elif split == 'val':\n",
    "            times = list(range(total_times[int(len(total_times) * 0.8)], total_times[int(len(total_times) * 0.9)]))\n",
    "            overlap = 1\n",
    "            predict_all = False\n",
    "        elif split == 'test':\n",
    "            times = list(range(total_times[int(len(total_times) * 0.9)], total_times[-1] + self.batch_size))\n",
    "            overlap = 1\n",
    "            predict_all = False\n",
    "        else:\n",
    "            raise ValueError(f'Invalid split name: {split}')\n",
    "\n",
    "        _edges = self._get_edges(times, overlap)\n",
    "        _edge_weights = self._get_edge_weights(times, overlap)\n",
    "        features, targets = self._get_targets_and_features(times, overlap, predict_all)\n",
    "        dataset = (DynamicGraphTemporalSignal if type(_edges) == list else StaticGraphTemporalSignal)(\n",
    "            _edges, _edge_weights, features, targets\n",
    "        )\n",
    "        return dataset"
   ]
  },
  {
   "cell_type": "code",
   "execution_count": 2,
   "metadata": {},
   "outputs": [],
   "source": [
    "def get_dataset(corr_name, corr_scope):\n",
    "    loader = SP500CorrelationsDatasetLoader(corr_name=corr_name, corr_scope=corr_scope)\n",
    "\n",
    "    lag_size = 64\n",
    "    train_dataset = loader.get_dataset(batch_size=lag_size * 2, split='train')\n",
    "    val_dataset = loader.get_dataset(batch_size=lag_size, split='val')\n",
    "    test_dataset = loader.get_dataset(batch_size=lag_size, split='test')\n",
    "\n",
    "    train_samples = list(train_dataset)\n",
    "    val_samples = list(val_dataset)\n",
    "    test_samples = list(test_dataset)\n",
    "\n",
    "    return {\n",
    "        'train_samples': train_samples,\n",
    "        'val_samples': val_samples,\n",
    "        'test_samples': test_samples,\n",
    "    }"
   ]
  },
  {
   "cell_type": "markdown",
   "metadata": {},
   "source": [
    "# Differential Graph Transformer"
   ]
  },
  {
   "cell_type": "code",
   "execution_count": 3,
   "metadata": {},
   "outputs": [],
   "source": [
    "import math\n",
    "import torch\n",
    "import torch.nn.functional as F\n",
    "from torch import nn\n",
    "\n",
    "\n",
    "class RMSNorm(nn.Module):\n",
    "    def __init__(self, dim: int, eps: float = 1e-6, elementwise_affine=True, memory_efficient=False):\n",
    "        super().__init__()\n",
    "        self.dim = dim\n",
    "        self.eps = eps\n",
    "        self.elementwise_affine = elementwise_affine\n",
    "        if self.elementwise_affine:\n",
    "            self.weight = nn.Parameter(torch.ones(dim))\n",
    "        else:\n",
    "            self.register_parameter('weight', None)\n",
    "\n",
    "    def _norm(self, x):\n",
    "        return x * torch.rsqrt(x.pow(2).mean(-1, keepdim=True) + self.eps)\n",
    "\n",
    "    def forward(self, x):\n",
    "        output = self._norm(x.float()).type_as(x)\n",
    "        if self.weight is not None:\n",
    "            output = output * self.weight\n",
    "        return output\n",
    "\n",
    "    def extra_repr(self) -> str:\n",
    "        return f'dim={self.dim}, eps={self.eps}, elementwise_affine={self.elementwise_affine}'\n",
    "\n",
    "\n",
    "def init_method(tensor, **kwargs):\n",
    "    nn.init.kaiming_uniform_(tensor, a=math.sqrt(5))\n",
    "\n",
    "def repeat_kv(x: torch.Tensor, n_rep: int) -> torch.Tensor:\n",
    "    \"\"\"torch.repeat_interleave(x, dim=1, repeats=n_rep)\"\"\"\n",
    "    bs, n_kv_heads, slen, head_dim = x.shape\n",
    "    if n_rep == 1:\n",
    "        return x\n",
    "    return (\n",
    "        x[:, :, None, :, :]\n",
    "        .expand(bs, n_kv_heads, n_rep, slen, head_dim)\n",
    "        .reshape(bs, n_kv_heads * n_rep, slen, head_dim)\n",
    "    )\n",
    "\n",
    "def lambda_init_fn(depth):\n",
    "    return 0.8 - 0.6 * math.exp(-0.3 * depth)\n",
    "\n",
    "\n",
    "class MultiheadDiffAttn(nn.Module):\n",
    "    def __init__(\n",
    "        self,\n",
    "        embed_dim,\n",
    "        depth,\n",
    "        num_heads,\n",
    "    ):\n",
    "        super().__init__()\n",
    "        self.embed_dim = embed_dim\n",
    "        # num_heads set to half of Transformer's #heads\n",
    "        self.num_heads = num_heads\n",
    "        self.num_kv_heads = num_heads\n",
    "        self.n_rep = self.num_heads // self.num_kv_heads\n",
    "        \n",
    "        self.head_dim = embed_dim // num_heads // 2\n",
    "        self.scaling = self.head_dim ** -0.5\n",
    "        \n",
    "        self.q_proj = nn.Linear(embed_dim, embed_dim, bias=False)\n",
    "        self.k_proj = nn.Linear(embed_dim, embed_dim // self.n_rep, bias=False)\n",
    "        self.v_proj = nn.Linear(embed_dim, embed_dim // self.n_rep, bias=False)\n",
    "\n",
    "        self.lambda_init = lambda_init_fn(depth)\n",
    "        self.lambda_q1 = nn.Parameter(torch.zeros(self.head_dim, dtype=torch.float32).normal_(mean=0,std=0.1))\n",
    "        self.lambda_k1 = nn.Parameter(torch.zeros(self.head_dim, dtype=torch.float32).normal_(mean=0,std=0.1))\n",
    "        self.lambda_q2 = nn.Parameter(torch.zeros(self.head_dim, dtype=torch.float32).normal_(mean=0,std=0.1))\n",
    "        self.lambda_k2 = nn.Parameter(torch.zeros(self.head_dim, dtype=torch.float32).normal_(mean=0,std=0.1))\n",
    "\n",
    "        self.subln = RMSNorm(2 * self.head_dim, eps=1e-5, elementwise_affine=True)\n",
    "    \n",
    "    def forward(\n",
    "        self,\n",
    "        x,\n",
    "        A=None,\n",
    "        attn_mask=None,\n",
    "    ):\n",
    "        bsz, tgt_len, embed_dim = x.size()\n",
    "        src_len = tgt_len\n",
    "\n",
    "        q = self.q_proj(x)\n",
    "        k = self.k_proj(x)\n",
    "        v = self.v_proj(x)\n",
    "\n",
    "        q = q.view(bsz, tgt_len, 2 * self.num_heads, self.head_dim)\n",
    "        k = k.view(bsz, src_len, 2 * self.num_kv_heads, self.head_dim)\n",
    "        v = v.view(bsz, src_len, self.num_kv_heads, 2 * self.head_dim)\n",
    "\n",
    "        q = q.transpose(1, 2)\n",
    "        k = repeat_kv(k.transpose(1, 2), self.n_rep)\n",
    "        v = repeat_kv(v.transpose(1, 2), self.n_rep)\n",
    "        q *= self.scaling\n",
    "        attn_weights = torch.matmul(q, k.transpose(-1, -2))\n",
    "        attn_weights = torch.nan_to_num(attn_weights)\n",
    "        if attn_mask is not None:\n",
    "            attn_weights += attn_mask\n",
    "        attn_weights = F.softmax(attn_weights, dim=-1, dtype=torch.float32).type_as(\n",
    "            attn_weights\n",
    "        )\n",
    "\n",
    "        lambda_1 = torch.exp(torch.sum(self.lambda_q1 * self.lambda_k1, dim=-1).float()).type_as(q)\n",
    "        lambda_2 = torch.exp(torch.sum(self.lambda_q2 * self.lambda_k2, dim=-1).float()).type_as(q)\n",
    "        lambda_full = lambda_1 - lambda_2 + self.lambda_init\n",
    "        attn_weights = attn_weights.view(bsz, self.num_heads, 2, tgt_len, src_len)\n",
    "        attn_weights = attn_weights[:, :, 0] * (1 if A is None else A) - lambda_full * attn_weights[:, :, 1]\n",
    "        \n",
    "        attn = torch.matmul(attn_weights, v)\n",
    "        attn = self.subln(attn)\n",
    "        attn = attn * (1 - self.lambda_init)\n",
    "        attn = attn.transpose(1, 2).reshape(bsz, tgt_len, self.num_heads * 2 * self.head_dim)\n",
    "        return (attn, attn_weights)\n"
   ]
  },
  {
   "cell_type": "code",
   "execution_count": 4,
   "metadata": {},
   "outputs": [],
   "source": [
    "import torch\n",
    "import torch.nn as nn\n",
    "from torch_geometric.utils import to_dense_adj\n",
    "\n",
    "class FeedForward(nn.Module):\n",
    "    def __init__(self, hidden_size, expand_ratio, dropout):\n",
    "        super(FeedForward, self).__init__()\n",
    "        self.linear = nn.Linear(hidden_size, hidden_size * expand_ratio)\n",
    "        self.linear2 = nn.Linear(hidden_size * expand_ratio, hidden_size)\n",
    "        self.relu = nn.ReLU()\n",
    "        self.dropout = nn.Dropout(p=dropout)\n",
    "    \n",
    "    def forward(self, x):\n",
    "        x = self.linear(x)\n",
    "        x = self.relu(x)\n",
    "        x = self.linear2(x)\n",
    "        x = self.dropout(x)\n",
    "        return x\n",
    "\n",
    "class Attention(nn.Module):\n",
    "    def __init__(self, d_model, num_heads, expand_ratio, dropout):\n",
    "        super().__init__()\n",
    "        self.mha = MultiheadDiffAttn(embed_dim=d_model, num_heads=num_heads, depth=0)\n",
    "        self.ln2 = nn.LayerNorm(d_model)\n",
    "        self.ffn = FeedForward(hidden_size=d_model, expand_ratio=expand_ratio, dropout=dropout)\n",
    "\n",
    "    def forward(self, x, A=None, attn_mask=None, need_weights=False):\n",
    "        x1, attn_weights = self.mha(x, A, attn_mask=attn_mask)\n",
    "        x = self.ln2(self.ffn(x1) + x1)\n",
    "        if need_weights:\n",
    "            return (x, attn_weights)\n",
    "        else:\n",
    "            return x\n",
    "\n",
    "\n",
    "class DGT(nn.Module):\n",
    "    def __init__(self, in_channels=1, out_channels=32, num_heads=2, expand_ratio=1, dropout=0.1, T = 128, N=472):\n",
    "        super().__init__()\n",
    "        self.T = T\n",
    "        self.N = N\n",
    "        self.d_model = out_channels\n",
    "        self.num_heads = num_heads\n",
    "        self.input_proj = nn.Linear(in_channels, out_channels)\n",
    "        self.time_embedding = nn.Embedding(T, out_channels)\n",
    "        self.stock_embedding = nn.Embedding(N, out_channels)\n",
    "        self.spatial_attn = Attention(out_channels, num_heads, expand_ratio, dropout)\n",
    "        self.temporal_attn = Attention(out_channels, num_heads, expand_ratio, dropout)\n",
    "    \n",
    "    def forward(self, x, edge_index, edge_weight, need_weights=False):\n",
    "        N, T, D = x.size()\n",
    "        assert(D == 1)\n",
    "        assert(T <= self.T and N == self.N)\n",
    "\n",
    "        x = x.reshape(T, N, D)\n",
    "        x = self.input_proj(x)\n",
    "        stock_embs = self.stock_embedding(torch.arange(N).unsqueeze(0).expand(T, N).to(x.device))\n",
    "        x += stock_embs\n",
    "        time_embs = self.time_embedding(torch.arange(T).unsqueeze(0).expand(N, T).to(x.device))\n",
    "        x += time_embs.view(T, N, self.d_model)\n",
    "\n",
    "        x = x.view(N, T, self.d_model)\n",
    "        temporal_causal_mask = torch.triu(\n",
    "            torch.zeros([T, T])\n",
    "                .float()\n",
    "                .fill_(float(\"-inf\")),\n",
    "                1,\n",
    "            ).expand(N, self.num_heads*2, T, T).to(x.device)\n",
    "        x = self.temporal_attn(x, attn_mask=temporal_causal_mask, need_weights=need_weights) + x\n",
    "\n",
    "        x = x.view(T, N, self.d_model)\n",
    "        A = to_dense_adj(edge_index, edge_attr=edge_weight)\n",
    "        # Encountered more than one adjacency matrices, e.g. dual correlations\n",
    "        if len(A.size()) == 4:\n",
    "            A = A.reshape(A.size(-1), A.size(1), A.size(2))\n",
    "        x = self.spatial_attn(x, A, need_weights=need_weights) + x\n",
    "        x = x.view(N, T, self.d_model)\n",
    "\n",
    "        return x"
   ]
  },
  {
   "cell_type": "markdown",
   "metadata": {},
   "source": [
    "# GRU Baseline"
   ]
  },
  {
   "cell_type": "code",
   "execution_count": 5,
   "metadata": {},
   "outputs": [],
   "source": [
    "class GRU(torch.nn.Module):\n",
    "    def __init__(self, in_channels: int, out_channels: int, num_layers: int):\n",
    "        super(GRU, self).__init__()\n",
    "        self.rnn = nn.GRU(input_size=in_channels, hidden_size=out_channels, num_layers=num_layers, batch_first=True)\n",
    "\n",
    "    def forward(\n",
    "        self,\n",
    "        X: torch.FloatTensor,\n",
    "        edge_index: torch.LongTensor,\n",
    "        edge_weight: torch.FloatTensor = None,\n",
    "        H: torch.FloatTensor = None,\n",
    "    ) -> torch.FloatTensor:\n",
    "        outputs, _ = self.rnn(X, H)\n",
    "        return outputs"
   ]
  },
  {
   "cell_type": "markdown",
   "metadata": {},
   "source": [
    "# Driver"
   ]
  },
  {
   "cell_type": "code",
   "execution_count": 6,
   "metadata": {},
   "outputs": [],
   "source": [
    "import torch\n",
    "import torch.nn.functional as F\n",
    "\n",
    "class Driver(torch.nn.Module):\n",
    "    def __init__(self, gnn, corr_name, corr_scope, node_features, hidden_size=64, **kwargs):\n",
    "        super(Driver, self).__init__()\n",
    "        self.recurrent = gnn(in_channels=node_features, out_channels=hidden_size, **kwargs)\n",
    "        self.linear = torch.nn.Linear(hidden_size, 1)\n",
    "        self.corr_name = corr_name\n",
    "        self.corr_scope = corr_scope\n",
    "\n",
    "    def forward(self, x, edge_index, edge_weight, hidden=None):\n",
    "        device = self.model_device()\n",
    "        if hidden is None:\n",
    "            outputs = self.recurrent(x.to(device), edge_index.to(device), edge_weight.to(device))\n",
    "        else:\n",
    "            outputs = self.recurrent(x.to(device), edge_index.to(device), edge_weight.to(device), hidden)\n",
    "        return self.linear(F.relu(outputs)), outputs\n",
    "\n",
    "    def model_name(self):\n",
    "        arch = self.model_arch()\n",
    "        if arch == 'GRU' or self.corr_scope == None:\n",
    "            return f'{arch}'\n",
    "        elif arch in ['DCRNN', 'DGT']:\n",
    "            return f'{arch}_{self.corr_name}_{self.corr_scope}'\n",
    "\n",
    "    def model_arch(self):\n",
    "        return self.recurrent.__class__.__name__\n",
    "\n",
    "    def model_device(self):\n",
    "        if self.model_arch() in ['DGT', 'GRU']:\n",
    "            return torch.device(\"cuda\" if torch.cuda.is_available() else \"mps\" if torch.backends.mps.is_available() else \"cpu\")\n",
    "        else:\n",
    "            return 'cpu'"
   ]
  },
  {
   "cell_type": "markdown",
   "metadata": {},
   "source": [
    "# Evaluation"
   ]
  },
  {
   "cell_type": "code",
   "execution_count": 7,
   "metadata": {},
   "outputs": [],
   "source": [
    "import math\n",
    "\n",
    "def rmse(y_hat, y):\n",
    "    return math.sqrt(F.mse_loss(y_hat, y).item())\n",
    "\n",
    "def mae(y_hat, y):\n",
    "    return F.l1_loss(y_hat, y).item()"
   ]
  },
  {
   "cell_type": "code",
   "execution_count": 8,
   "metadata": {},
   "outputs": [],
   "source": [
    "import wandb\n",
    "import concurrent.futures\n",
    "\n",
    "def infer(model, snapshot):\n",
    "    X = snapshot.x\n",
    "    if model.model_arch() in ['GRU', 'DGT']:\n",
    "        batch_y_hats, _ = model(X.transpose(0, 1), snapshot.edge_index, snapshot.edge_attr)\n",
    "        return batch_y_hats[:, -1]\n",
    "    else:\n",
    "        H = None\n",
    "        for x in X:\n",
    "            y_hat, H = model(x, snapshot.edge_index, snapshot.edge_attr, hidden=H)\n",
    "        return y_hat\n",
    "\n",
    "def eval(epoch, model, eval_dataset, eval_name):\n",
    "    model.eval()\n",
    "    with torch.no_grad():\n",
    "        if model.model_arch() == 'DCRNN':\n",
    "            with concurrent.futures.ThreadPoolExecutor(max_workers=4) as executor:\n",
    "                y_hats = list(executor.map(lambda snapshot: infer(model, snapshot).cpu(), eval_dataset))\n",
    "        else:\n",
    "            y_hats = list(map(lambda snapshot: infer(model, snapshot), eval_dataset))\n",
    "        ys = [snapshot.y for snapshot in eval_dataset]\n",
    "        y_hats, ys = torch.cat(y_hats, dim=0).squeeze().to(model.model_device()), torch.cat(ys, dim=0).to(model.model_device())\n",
    "        eval_rmse = rmse(y_hats, ys)\n",
    "        eval_mae = mae(y_hats, ys)\n",
    "        wandb.log({\"epoch\": epoch,\n",
    "                f\"{eval_name}/rmse\": eval_rmse,\n",
    "                f\"{eval_name}/mae\": eval_mae })\n",
    "        print(f'{model.model_name()} epoch {epoch}, {eval_name}/rmse: {eval_rmse}, {eval_name}/mae: {eval_mae}')\n",
    "        return (eval_rmse, eval_mae)"
   ]
  },
  {
   "cell_type": "code",
   "execution_count": 9,
   "metadata": {},
   "outputs": [],
   "source": [
    "from torch_geometric_temporal import DCRNN\n",
    "\n",
    "def get_model(gnn, corr_name, corr_scope, load_weights=False):\n",
    "    node_features = 1\n",
    "    if gnn == DGT:\n",
    "        model = Driver(gnn, corr_name, corr_scope, node_features, num_heads=2)\n",
    "    elif gnn == DCRNN:\n",
    "        # DCRNN does not support dual correlations\n",
    "        if corr_scope == 'dual':\n",
    "            return None\n",
    "        model = Driver(gnn, corr_name, corr_scope, node_features, K=1)\n",
    "    elif gnn == GRU:\n",
    "        # GRU does not support any correlation\n",
    "        if corr_name != None or corr_scope != None:\n",
    "            return None\n",
    "        model = Driver(gnn, None, None, node_features, num_layers=1)\n",
    "    if load_weights:\n",
    "        model.load_state_dict(torch.load(f'models/{model.model_name()}.pth', weights_only=True))\n",
    "    return model.to(model.model_device())\n"
   ]
  },
  {
   "cell_type": "markdown",
   "metadata": {},
   "source": [
    "# Training"
   ]
  },
  {
   "cell_type": "code",
   "execution_count": 10,
   "metadata": {},
   "outputs": [
    {
     "name": "stderr",
     "output_type": "stream",
     "text": [
      "\u001b[34m\u001b[1mwandb\u001b[0m: Using wandb-core as the SDK backend. Please refer to https://wandb.me/wandb-core for more information.\n",
      "\u001b[34m\u001b[1mwandb\u001b[0m: Currently logged in as: \u001b[33mkevinxli\u001b[0m. Use \u001b[1m`wandb login --relogin`\u001b[0m to force relogin\n"
     ]
    },
    {
     "data": {
      "text/html": [
       "Tracking run with wandb version 0.18.5"
      ],
      "text/plain": [
       "<IPython.core.display.HTML object>"
      ]
     },
     "metadata": {},
     "output_type": "display_data"
    },
    {
     "data": {
      "text/html": [
       "Run data is saved locally in <code>/Volumes/crucialx9/classes/fall2024/cs224w/stock/wandb/run-20241209_193815-gux4l50h</code>"
      ],
      "text/plain": [
       "<IPython.core.display.HTML object>"
      ]
     },
     "metadata": {},
     "output_type": "display_data"
    },
    {
     "data": {
      "text/html": [
       "Syncing run <strong><a href='https://wandb.ai/kevinxli/cs224w-stock-market-prediction/runs/gux4l50h' target=\"_blank\">GRU</a></strong> to <a href='https://wandb.ai/kevinxli/cs224w-stock-market-prediction' target=\"_blank\">Weights & Biases</a> (<a href='https://wandb.me/run' target=\"_blank\">docs</a>)<br/>"
      ],
      "text/plain": [
       "<IPython.core.display.HTML object>"
      ]
     },
     "metadata": {},
     "output_type": "display_data"
    },
    {
     "data": {
      "text/html": [
       " View project at <a href='https://wandb.ai/kevinxli/cs224w-stock-market-prediction' target=\"_blank\">https://wandb.ai/kevinxli/cs224w-stock-market-prediction</a>"
      ],
      "text/plain": [
       "<IPython.core.display.HTML object>"
      ]
     },
     "metadata": {},
     "output_type": "display_data"
    },
    {
     "data": {
      "text/html": [
       " View run at <a href='https://wandb.ai/kevinxli/cs224w-stock-market-prediction/runs/gux4l50h' target=\"_blank\">https://wandb.ai/kevinxli/cs224w-stock-market-prediction/runs/gux4l50h</a>"
      ],
      "text/plain": [
       "<IPython.core.display.HTML object>"
      ]
     },
     "metadata": {},
     "output_type": "display_data"
    },
    {
     "name": "stdout",
     "output_type": "stream",
     "text": [
      "GRU epoch 0, val/rmse: 1.8214854116680248, val/mae: 1.427488088607788\n",
      "GRU epoch 10, val/rmse: 0.8513910313431163, val/mae: 0.31805142760276794\n",
      "GRU epoch 20, val/rmse: 0.7775638977852608, val/mae: 0.21430788934230804\n",
      "GRU epoch 30, val/rmse: 0.7505994229243088, val/mae: 0.19010742008686066\n",
      "GRU epoch 40, val/rmse: 0.7316953183417325, val/mae: 0.17497794330120087\n",
      "GRU epoch 50, val/rmse: 0.716916606996043, val/mae: 0.1641889363527298\n",
      "GRU epoch 60, val/rmse: 0.7046575586424478, val/mae: 0.15566159784793854\n",
      "GRU epoch 70, val/rmse: 0.6939134130385212, val/mae: 0.1479778289794922\n",
      "GRU epoch 80, val/rmse: 0.6845203114749943, val/mae: 0.14163100719451904\n",
      "GRU epoch 90, val/rmse: 0.676195844360959, val/mae: 0.1362411379814148\n",
      "GRU epoch 99, val/rmse: 0.6693417676054519, val/mae: 0.13204096257686615\n",
      "GRU epoch 100, test/rmse: 3.1936768166953073, test/mae: 0.519430935382843\n"
     ]
    },
    {
     "data": {
      "text/html": [
       "Finishing last run (ID:gux4l50h) before initializing another..."
      ],
      "text/plain": [
       "<IPython.core.display.HTML object>"
      ]
     },
     "metadata": {},
     "output_type": "display_data"
    },
    {
     "data": {
      "text/html": [
       "<style>\n",
       "    table.wandb td:nth-child(1) { padding: 0 10px; text-align: left ; width: auto;} td:nth-child(2) {text-align: left ; width: 100%}\n",
       "    .wandb-row { display: flex; flex-direction: row; flex-wrap: wrap; justify-content: flex-start; width: 100% }\n",
       "    .wandb-col { display: flex; flex-direction: column; flex-basis: 100%; flex: 1; padding: 10px; }\n",
       "    </style>\n",
       "<div class=\"wandb-row\"><div class=\"wandb-col\"><h3>Run history:</h3><br/><table class=\"wandb\"><tr><td>epoch</td><td>▁▁▁▁▂▂▂▂▂▃▃▃▃▃▃▄▄▄▄▄▅▅▆▆▆▆▇▇▇▇▇▇▇▇▇█████</td></tr><tr><td>step</td><td>▇▂▇▂▃▃▅▃▁▃▃█▅▄▅▆█▁▆▇▇▇▃▂▇▇▅▂▅█▁▁▃▅▃▅▆▁▁▆</td></tr><tr><td>test/mae</td><td>▁</td></tr><tr><td>test/rmse</td><td>▁</td></tr><tr><td>train/loss</td><td>█▅▅▄▂▁▁▁▂▁▂▂▁▁▂▁▁▁▂▁▁▁▁▁▂▂▁▁▁▁▁▁▁▁▁▁▁▁▁▁</td></tr><tr><td>val/mae</td><td>█▂▁▁▁▁▁▁▁▁▁</td></tr><tr><td>val/rmse</td><td>█▂▂▁▁▁▁▁▁▁▁</td></tr></table><br/></div><div class=\"wandb-col\"><h3>Run summary:</h3><br/><table class=\"wandb\"><tr><td>epoch</td><td>100</td></tr><tr><td>step</td><td>14</td></tr><tr><td>test/mae</td><td>0.51943</td></tr><tr><td>test/rmse</td><td>3.19368</td></tr><tr><td>train/loss</td><td>0.02025</td></tr><tr><td>val/mae</td><td>0.13204</td></tr><tr><td>val/rmse</td><td>0.66934</td></tr></table><br/></div></div>"
      ],
      "text/plain": [
       "<IPython.core.display.HTML object>"
      ]
     },
     "metadata": {},
     "output_type": "display_data"
    },
    {
     "data": {
      "text/html": [
       " View run <strong style=\"color:#cdcd00\">GRU</strong> at: <a href='https://wandb.ai/kevinxli/cs224w-stock-market-prediction/runs/gux4l50h' target=\"_blank\">https://wandb.ai/kevinxli/cs224w-stock-market-prediction/runs/gux4l50h</a><br/> View project at: <a href='https://wandb.ai/kevinxli/cs224w-stock-market-prediction' target=\"_blank\">https://wandb.ai/kevinxli/cs224w-stock-market-prediction</a><br/>Synced 5 W&B file(s), 0 media file(s), 0 artifact file(s) and 0 other file(s)"
      ],
      "text/plain": [
       "<IPython.core.display.HTML object>"
      ]
     },
     "metadata": {},
     "output_type": "display_data"
    },
    {
     "data": {
      "text/html": [
       "Find logs at: <code>./wandb/run-20241209_193815-gux4l50h/logs</code>"
      ],
      "text/plain": [
       "<IPython.core.display.HTML object>"
      ]
     },
     "metadata": {},
     "output_type": "display_data"
    },
    {
     "data": {
      "text/html": [
       "Successfully finished last run (ID:gux4l50h). Initializing new run:<br/>"
      ],
      "text/plain": [
       "<IPython.core.display.HTML object>"
      ]
     },
     "metadata": {},
     "output_type": "display_data"
    },
    {
     "data": {
      "text/html": [
       "Tracking run with wandb version 0.18.5"
      ],
      "text/plain": [
       "<IPython.core.display.HTML object>"
      ]
     },
     "metadata": {},
     "output_type": "display_data"
    },
    {
     "data": {
      "text/html": [
       "Run data is saved locally in <code>/Volumes/crucialx9/classes/fall2024/cs224w/stock/wandb/run-20241209_194435-icm1jk8a</code>"
      ],
      "text/plain": [
       "<IPython.core.display.HTML object>"
      ]
     },
     "metadata": {},
     "output_type": "display_data"
    },
    {
     "data": {
      "text/html": [
       "Syncing run <strong><a href='https://wandb.ai/kevinxli/cs224w-stock-market-prediction/runs/icm1jk8a' target=\"_blank\">DGT</a></strong> to <a href='https://wandb.ai/kevinxli/cs224w-stock-market-prediction' target=\"_blank\">Weights & Biases</a> (<a href='https://wandb.me/run' target=\"_blank\">docs</a>)<br/>"
      ],
      "text/plain": [
       "<IPython.core.display.HTML object>"
      ]
     },
     "metadata": {},
     "output_type": "display_data"
    },
    {
     "data": {
      "text/html": [
       " View project at <a href='https://wandb.ai/kevinxli/cs224w-stock-market-prediction' target=\"_blank\">https://wandb.ai/kevinxli/cs224w-stock-market-prediction</a>"
      ],
      "text/plain": [
       "<IPython.core.display.HTML object>"
      ]
     },
     "metadata": {},
     "output_type": "display_data"
    },
    {
     "data": {
      "text/html": [
       " View run at <a href='https://wandb.ai/kevinxli/cs224w-stock-market-prediction/runs/icm1jk8a' target=\"_blank\">https://wandb.ai/kevinxli/cs224w-stock-market-prediction/runs/icm1jk8a</a>"
      ],
      "text/plain": [
       "<IPython.core.display.HTML object>"
      ]
     },
     "metadata": {},
     "output_type": "display_data"
    },
    {
     "name": "stdout",
     "output_type": "stream",
     "text": [
      "DGT epoch 0, val/rmse: 0.8637029731082746, val/mae: 0.4868713915348053\n",
      "DGT epoch 10, val/rmse: 0.5920189418807033, val/mae: 0.24785465002059937\n",
      "DGT epoch 20, val/rmse: 0.5183889407915767, val/mae: 0.20278018712997437\n",
      "DGT epoch 30, val/rmse: 0.458768022557406, val/mae: 0.1770782172679901\n",
      "DGT epoch 40, val/rmse: 0.40750891687431456, val/mae: 0.15305529534816742\n",
      "DGT epoch 50, val/rmse: 0.371128943932746, val/mae: 0.14769738912582397\n",
      "DGT epoch 60, val/rmse: 0.3436525813690257, val/mae: 0.1273079514503479\n",
      "DGT epoch 70, val/rmse: 0.3257390308238611, val/mae: 0.11995289474725723\n",
      "DGT epoch 80, val/rmse: 0.3067803277239537, val/mae: 0.11551449447870255\n",
      "DGT epoch 90, val/rmse: 0.2994782973014265, val/mae: 0.10889730602502823\n",
      "DGT epoch 99, val/rmse: 0.28700733317749394, val/mae: 0.10788266360759735\n",
      "DGT epoch 100, test/rmse: 1.2310831624967882, test/mae: 0.24940532445907593\n"
     ]
    },
    {
     "data": {
      "text/html": [
       "Finishing last run (ID:icm1jk8a) before initializing another..."
      ],
      "text/plain": [
       "<IPython.core.display.HTML object>"
      ]
     },
     "metadata": {},
     "output_type": "display_data"
    },
    {
     "data": {
      "text/html": [
       "<style>\n",
       "    table.wandb td:nth-child(1) { padding: 0 10px; text-align: left ; width: auto;} td:nth-child(2) {text-align: left ; width: 100%}\n",
       "    .wandb-row { display: flex; flex-direction: row; flex-wrap: wrap; justify-content: flex-start; width: 100% }\n",
       "    .wandb-col { display: flex; flex-direction: column; flex-basis: 100%; flex: 1; padding: 10px; }\n",
       "    </style>\n",
       "<div class=\"wandb-row\"><div class=\"wandb-col\"><h3>Run history:</h3><br/><table class=\"wandb\"><tr><td>epoch</td><td>▁▁▁▁▁▁▂▂▂▂▂▃▃▃▃▃▃▄▄▄▄▄▄▄▄▅▅▅▅▅▆▆▆▆▆▇▇▇██</td></tr><tr><td>step</td><td>▁▇▃▅▂▃▇▄▇▃▅▁▇▄▅▇▇▅▅▁▇▃▅▅▃▅▃▃▇▃▅▇▇▃█▂▁▁▅▃</td></tr><tr><td>test/mae</td><td>▁</td></tr><tr><td>test/rmse</td><td>▁</td></tr><tr><td>train/loss</td><td>█▃▃▂▃▂▂▂▂▂▁▁▁▁▁▁▁▁▁▁▁▁▁▁▁▁▁▁▁▁▁▁▁▁▁▁▁▁▁▁</td></tr><tr><td>val/mae</td><td>█▄▃▂▂▂▁▁▁▁▁</td></tr><tr><td>val/rmse</td><td>█▅▄▃▂▂▂▁▁▁▁</td></tr></table><br/></div><div class=\"wandb-col\"><h3>Run summary:</h3><br/><table class=\"wandb\"><tr><td>epoch</td><td>100</td></tr><tr><td>step</td><td>14</td></tr><tr><td>test/mae</td><td>0.24941</td></tr><tr><td>test/rmse</td><td>1.23108</td></tr><tr><td>train/loss</td><td>0.0201</td></tr><tr><td>val/mae</td><td>0.10788</td></tr><tr><td>val/rmse</td><td>0.28701</td></tr></table><br/></div></div>"
      ],
      "text/plain": [
       "<IPython.core.display.HTML object>"
      ]
     },
     "metadata": {},
     "output_type": "display_data"
    },
    {
     "data": {
      "text/html": [
       " View run <strong style=\"color:#cdcd00\">DGT</strong> at: <a href='https://wandb.ai/kevinxli/cs224w-stock-market-prediction/runs/icm1jk8a' target=\"_blank\">https://wandb.ai/kevinxli/cs224w-stock-market-prediction/runs/icm1jk8a</a><br/> View project at: <a href='https://wandb.ai/kevinxli/cs224w-stock-market-prediction' target=\"_blank\">https://wandb.ai/kevinxli/cs224w-stock-market-prediction</a><br/>Synced 5 W&B file(s), 0 media file(s), 0 artifact file(s) and 0 other file(s)"
      ],
      "text/plain": [
       "<IPython.core.display.HTML object>"
      ]
     },
     "metadata": {},
     "output_type": "display_data"
    },
    {
     "data": {
      "text/html": [
       "Find logs at: <code>./wandb/run-20241209_194435-icm1jk8a/logs</code>"
      ],
      "text/plain": [
       "<IPython.core.display.HTML object>"
      ]
     },
     "metadata": {},
     "output_type": "display_data"
    },
    {
     "data": {
      "text/html": [
       "Successfully finished last run (ID:icm1jk8a). Initializing new run:<br/>"
      ],
      "text/plain": [
       "<IPython.core.display.HTML object>"
      ]
     },
     "metadata": {},
     "output_type": "display_data"
    },
    {
     "data": {
      "text/html": [
       "Tracking run with wandb version 0.18.5"
      ],
      "text/plain": [
       "<IPython.core.display.HTML object>"
      ]
     },
     "metadata": {},
     "output_type": "display_data"
    },
    {
     "data": {
      "text/html": [
       "Run data is saved locally in <code>/Volumes/crucialx9/classes/fall2024/cs224w/stock/wandb/run-20241209_195056-0dfgohei</code>"
      ],
      "text/plain": [
       "<IPython.core.display.HTML object>"
      ]
     },
     "metadata": {},
     "output_type": "display_data"
    },
    {
     "data": {
      "text/html": [
       "Syncing run <strong><a href='https://wandb.ai/kevinxli/cs224w-stock-market-prediction/runs/0dfgohei' target=\"_blank\">DGT_pcc_global</a></strong> to <a href='https://wandb.ai/kevinxli/cs224w-stock-market-prediction' target=\"_blank\">Weights & Biases</a> (<a href='https://wandb.me/run' target=\"_blank\">docs</a>)<br/>"
      ],
      "text/plain": [
       "<IPython.core.display.HTML object>"
      ]
     },
     "metadata": {},
     "output_type": "display_data"
    },
    {
     "data": {
      "text/html": [
       " View project at <a href='https://wandb.ai/kevinxli/cs224w-stock-market-prediction' target=\"_blank\">https://wandb.ai/kevinxli/cs224w-stock-market-prediction</a>"
      ],
      "text/plain": [
       "<IPython.core.display.HTML object>"
      ]
     },
     "metadata": {},
     "output_type": "display_data"
    },
    {
     "data": {
      "text/html": [
       " View run at <a href='https://wandb.ai/kevinxli/cs224w-stock-market-prediction/runs/0dfgohei' target=\"_blank\">https://wandb.ai/kevinxli/cs224w-stock-market-prediction/runs/0dfgohei</a>"
      ],
      "text/plain": [
       "<IPython.core.display.HTML object>"
      ]
     },
     "metadata": {},
     "output_type": "display_data"
    },
    {
     "name": "stdout",
     "output_type": "stream",
     "text": [
      "DGT_pcc_global epoch 0, val/rmse: 1.5889615697324684, val/mae: 0.9652223587036133\n",
      "DGT_pcc_global epoch 10, val/rmse: 0.908884264749108, val/mae: 0.4215903878211975\n",
      "DGT_pcc_global epoch 20, val/rmse: 0.7664412215378213, val/mae: 0.34395721554756165\n",
      "DGT_pcc_global epoch 30, val/rmse: 0.6608856054544211, val/mae: 0.2702379524707794\n",
      "DGT_pcc_global epoch 40, val/rmse: 0.5621408534563909, val/mae: 0.2199164628982544\n",
      "DGT_pcc_global epoch 50, val/rmse: 0.5063566025005244, val/mae: 0.19789163768291473\n",
      "DGT_pcc_global epoch 60, val/rmse: 0.44965450878947494, val/mae: 0.16548454761505127\n",
      "DGT_pcc_global epoch 70, val/rmse: 0.4022512607376892, val/mae: 0.15661361813545227\n",
      "DGT_pcc_global epoch 80, val/rmse: 0.3768670176456215, val/mae: 0.1403568983078003\n",
      "DGT_pcc_global epoch 90, val/rmse: 0.3576535792353126, val/mae: 0.13366830348968506\n",
      "DGT_pcc_global epoch 99, val/rmse: 0.35441363596672426, val/mae: 0.1377250850200653\n",
      "DGT_pcc_global epoch 100, test/rmse: 1.4895066550555294, test/mae: 0.336875319480896\n"
     ]
    },
    {
     "data": {
      "text/html": [
       "Finishing last run (ID:0dfgohei) before initializing another..."
      ],
      "text/plain": [
       "<IPython.core.display.HTML object>"
      ]
     },
     "metadata": {},
     "output_type": "display_data"
    },
    {
     "data": {
      "text/html": [
       "<style>\n",
       "    table.wandb td:nth-child(1) { padding: 0 10px; text-align: left ; width: auto;} td:nth-child(2) {text-align: left ; width: 100%}\n",
       "    .wandb-row { display: flex; flex-direction: row; flex-wrap: wrap; justify-content: flex-start; width: 100% }\n",
       "    .wandb-col { display: flex; flex-direction: column; flex-basis: 100%; flex: 1; padding: 10px; }\n",
       "    </style>\n",
       "<div class=\"wandb-row\"><div class=\"wandb-col\"><h3>Run history:</h3><br/><table class=\"wandb\"><tr><td>epoch</td><td>▁▁▁▁▁▂▂▂▂▂▃▃▃▃▃▄▄▄▄▄▅▅▅▅▅▅▆▆▆▆▆▆▇▇▇▇████</td></tr><tr><td>step</td><td>▄▅▁▄▅▇▅▇▆▃▅▇▇▃▇▇▁▁▂▃▇▇▇▁▃▁▅▇▃▁█▇▃▅▇█▇▆▇▆</td></tr><tr><td>test/mae</td><td>▁</td></tr><tr><td>test/rmse</td><td>▁</td></tr><tr><td>train/loss</td><td>█▅▂▂▃▂▂▂▁▁▂▂▁▁▁▁▁▁▁▁▁▁▁▁▁▁▁▁▁▁▁▁▁▁▁▁▁▁▁▁</td></tr><tr><td>val/mae</td><td>█▃▃▂▂▂▁▁▁▁▁</td></tr><tr><td>val/rmse</td><td>█▄▃▃▂▂▂▁▁▁▁</td></tr></table><br/></div><div class=\"wandb-col\"><h3>Run summary:</h3><br/><table class=\"wandb\"><tr><td>epoch</td><td>100</td></tr><tr><td>step</td><td>14</td></tr><tr><td>test/mae</td><td>0.33688</td></tr><tr><td>test/rmse</td><td>1.48951</td></tr><tr><td>train/loss</td><td>0.02883</td></tr><tr><td>val/mae</td><td>0.13773</td></tr><tr><td>val/rmse</td><td>0.35441</td></tr></table><br/></div></div>"
      ],
      "text/plain": [
       "<IPython.core.display.HTML object>"
      ]
     },
     "metadata": {},
     "output_type": "display_data"
    },
    {
     "data": {
      "text/html": [
       " View run <strong style=\"color:#cdcd00\">DGT_pcc_global</strong> at: <a href='https://wandb.ai/kevinxli/cs224w-stock-market-prediction/runs/0dfgohei' target=\"_blank\">https://wandb.ai/kevinxli/cs224w-stock-market-prediction/runs/0dfgohei</a><br/> View project at: <a href='https://wandb.ai/kevinxli/cs224w-stock-market-prediction' target=\"_blank\">https://wandb.ai/kevinxli/cs224w-stock-market-prediction</a><br/>Synced 5 W&B file(s), 0 media file(s), 0 artifact file(s) and 0 other file(s)"
      ],
      "text/plain": [
       "<IPython.core.display.HTML object>"
      ]
     },
     "metadata": {},
     "output_type": "display_data"
    },
    {
     "data": {
      "text/html": [
       "Find logs at: <code>./wandb/run-20241209_195056-0dfgohei/logs</code>"
      ],
      "text/plain": [
       "<IPython.core.display.HTML object>"
      ]
     },
     "metadata": {},
     "output_type": "display_data"
    },
    {
     "data": {
      "text/html": [
       "Successfully finished last run (ID:0dfgohei). Initializing new run:<br/>"
      ],
      "text/plain": [
       "<IPython.core.display.HTML object>"
      ]
     },
     "metadata": {},
     "output_type": "display_data"
    },
    {
     "data": {
      "text/html": [
       "Tracking run with wandb version 0.18.5"
      ],
      "text/plain": [
       "<IPython.core.display.HTML object>"
      ]
     },
     "metadata": {},
     "output_type": "display_data"
    },
    {
     "data": {
      "text/html": [
       "Run data is saved locally in <code>/Volumes/crucialx9/classes/fall2024/cs224w/stock/wandb/run-20241209_195705-vsog75sz</code>"
      ],
      "text/plain": [
       "<IPython.core.display.HTML object>"
      ]
     },
     "metadata": {},
     "output_type": "display_data"
    },
    {
     "data": {
      "text/html": [
       "Syncing run <strong><a href='https://wandb.ai/kevinxli/cs224w-stock-market-prediction/runs/vsog75sz' target=\"_blank\">DGT_pcc_local</a></strong> to <a href='https://wandb.ai/kevinxli/cs224w-stock-market-prediction' target=\"_blank\">Weights & Biases</a> (<a href='https://wandb.me/run' target=\"_blank\">docs</a>)<br/>"
      ],
      "text/plain": [
       "<IPython.core.display.HTML object>"
      ]
     },
     "metadata": {},
     "output_type": "display_data"
    },
    {
     "data": {
      "text/html": [
       " View project at <a href='https://wandb.ai/kevinxli/cs224w-stock-market-prediction' target=\"_blank\">https://wandb.ai/kevinxli/cs224w-stock-market-prediction</a>"
      ],
      "text/plain": [
       "<IPython.core.display.HTML object>"
      ]
     },
     "metadata": {},
     "output_type": "display_data"
    },
    {
     "data": {
      "text/html": [
       " View run at <a href='https://wandb.ai/kevinxli/cs224w-stock-market-prediction/runs/vsog75sz' target=\"_blank\">https://wandb.ai/kevinxli/cs224w-stock-market-prediction/runs/vsog75sz</a>"
      ],
      "text/plain": [
       "<IPython.core.display.HTML object>"
      ]
     },
     "metadata": {},
     "output_type": "display_data"
    },
    {
     "name": "stdout",
     "output_type": "stream",
     "text": [
      "DGT_pcc_local epoch 0, val/rmse: 1.1188969904486228, val/mae: 0.5959765911102295\n",
      "DGT_pcc_local epoch 10, val/rmse: 0.752319286420091, val/mae: 0.33743569254875183\n",
      "DGT_pcc_local epoch 20, val/rmse: 0.6150233073198744, val/mae: 0.25380364060401917\n",
      "DGT_pcc_local epoch 30, val/rmse: 0.5133711946549342, val/mae: 0.23453472554683685\n",
      "DGT_pcc_local epoch 40, val/rmse: 0.4372252214476462, val/mae: 0.17715103924274445\n",
      "DGT_pcc_local epoch 50, val/rmse: 0.3818855741195012, val/mae: 0.15637145936489105\n",
      "DGT_pcc_local epoch 60, val/rmse: 0.334601618275859, val/mae: 0.12911143898963928\n",
      "DGT_pcc_local epoch 70, val/rmse: 0.30446648529002923, val/mae: 0.11820342391729355\n",
      "DGT_pcc_local epoch 80, val/rmse: 0.3026179674364279, val/mae: 0.11561538279056549\n",
      "DGT_pcc_local epoch 90, val/rmse: 0.29772217238320936, val/mae: 0.11231393367052078\n",
      "DGT_pcc_local epoch 99, val/rmse: 0.27572683008143317, val/mae: 0.11536508053541183\n",
      "DGT_pcc_local epoch 100, test/rmse: 1.1634005514216055, test/mae: 0.24662639200687408\n"
     ]
    },
    {
     "data": {
      "text/html": [
       "Finishing last run (ID:vsog75sz) before initializing another..."
      ],
      "text/plain": [
       "<IPython.core.display.HTML object>"
      ]
     },
     "metadata": {},
     "output_type": "display_data"
    },
    {
     "data": {
      "text/html": [
       "<style>\n",
       "    table.wandb td:nth-child(1) { padding: 0 10px; text-align: left ; width: auto;} td:nth-child(2) {text-align: left ; width: 100%}\n",
       "    .wandb-row { display: flex; flex-direction: row; flex-wrap: wrap; justify-content: flex-start; width: 100% }\n",
       "    .wandb-col { display: flex; flex-direction: column; flex-basis: 100%; flex: 1; padding: 10px; }\n",
       "    </style>\n",
       "<div class=\"wandb-row\"><div class=\"wandb-col\"><h3>Run history:</h3><br/><table class=\"wandb\"><tr><td>epoch</td><td>▁▁▁▁▁▂▂▂▂▃▃▃▃▄▄▄▄▄▄▄▅▅▅▅▅▅▅▆▆▆▆▇▇▇▇▇▇███</td></tr><tr><td>step</td><td>▇▃▅▆▁▇▆▅▅▂▃▅▁▂▄▃▆▃▁▅▁▃█▁▆█▄▇▁█▅▃▃▃▅▇▃▅▁▄</td></tr><tr><td>test/mae</td><td>▁</td></tr><tr><td>test/rmse</td><td>▁</td></tr><tr><td>train/loss</td><td>█▅▄▂▃▂▂▂▂▁▂▁▁▁▁▁▁▂▁▁▁▁▁▁▁▁▂▁▁▁▁▁▁▁▁▁▁▁▁▁</td></tr><tr><td>val/mae</td><td>█▄▃▃▂▂▁▁▁▁▁</td></tr><tr><td>val/rmse</td><td>█▅▄▃▂▂▁▁▁▁▁</td></tr></table><br/></div><div class=\"wandb-col\"><h3>Run summary:</h3><br/><table class=\"wandb\"><tr><td>epoch</td><td>100</td></tr><tr><td>step</td><td>14</td></tr><tr><td>test/mae</td><td>0.24663</td></tr><tr><td>test/rmse</td><td>1.1634</td></tr><tr><td>train/loss</td><td>0.02586</td></tr><tr><td>val/mae</td><td>0.11537</td></tr><tr><td>val/rmse</td><td>0.27573</td></tr></table><br/></div></div>"
      ],
      "text/plain": [
       "<IPython.core.display.HTML object>"
      ]
     },
     "metadata": {},
     "output_type": "display_data"
    },
    {
     "data": {
      "text/html": [
       " View run <strong style=\"color:#cdcd00\">DGT_pcc_local</strong> at: <a href='https://wandb.ai/kevinxli/cs224w-stock-market-prediction/runs/vsog75sz' target=\"_blank\">https://wandb.ai/kevinxli/cs224w-stock-market-prediction/runs/vsog75sz</a><br/> View project at: <a href='https://wandb.ai/kevinxli/cs224w-stock-market-prediction' target=\"_blank\">https://wandb.ai/kevinxli/cs224w-stock-market-prediction</a><br/>Synced 5 W&B file(s), 0 media file(s), 0 artifact file(s) and 0 other file(s)"
      ],
      "text/plain": [
       "<IPython.core.display.HTML object>"
      ]
     },
     "metadata": {},
     "output_type": "display_data"
    },
    {
     "data": {
      "text/html": [
       "Find logs at: <code>./wandb/run-20241209_195705-vsog75sz/logs</code>"
      ],
      "text/plain": [
       "<IPython.core.display.HTML object>"
      ]
     },
     "metadata": {},
     "output_type": "display_data"
    },
    {
     "data": {
      "text/html": [
       "Successfully finished last run (ID:vsog75sz). Initializing new run:<br/>"
      ],
      "text/plain": [
       "<IPython.core.display.HTML object>"
      ]
     },
     "metadata": {},
     "output_type": "display_data"
    },
    {
     "data": {
      "text/html": [
       "Tracking run with wandb version 0.18.5"
      ],
      "text/plain": [
       "<IPython.core.display.HTML object>"
      ]
     },
     "metadata": {},
     "output_type": "display_data"
    },
    {
     "data": {
      "text/html": [
       "Run data is saved locally in <code>/Volumes/crucialx9/classes/fall2024/cs224w/stock/wandb/run-20241209_200318-9mgqcv9d</code>"
      ],
      "text/plain": [
       "<IPython.core.display.HTML object>"
      ]
     },
     "metadata": {},
     "output_type": "display_data"
    },
    {
     "data": {
      "text/html": [
       "Syncing run <strong><a href='https://wandb.ai/kevinxli/cs224w-stock-market-prediction/runs/9mgqcv9d' target=\"_blank\">DGT_pcc_dual</a></strong> to <a href='https://wandb.ai/kevinxli/cs224w-stock-market-prediction' target=\"_blank\">Weights & Biases</a> (<a href='https://wandb.me/run' target=\"_blank\">docs</a>)<br/>"
      ],
      "text/plain": [
       "<IPython.core.display.HTML object>"
      ]
     },
     "metadata": {},
     "output_type": "display_data"
    },
    {
     "data": {
      "text/html": [
       " View project at <a href='https://wandb.ai/kevinxli/cs224w-stock-market-prediction' target=\"_blank\">https://wandb.ai/kevinxli/cs224w-stock-market-prediction</a>"
      ],
      "text/plain": [
       "<IPython.core.display.HTML object>"
      ]
     },
     "metadata": {},
     "output_type": "display_data"
    },
    {
     "data": {
      "text/html": [
       " View run at <a href='https://wandb.ai/kevinxli/cs224w-stock-market-prediction/runs/9mgqcv9d' target=\"_blank\">https://wandb.ai/kevinxli/cs224w-stock-market-prediction/runs/9mgqcv9d</a>"
      ],
      "text/plain": [
       "<IPython.core.display.HTML object>"
      ]
     },
     "metadata": {},
     "output_type": "display_data"
    },
    {
     "name": "stdout",
     "output_type": "stream",
     "text": [
      "DGT_pcc_dual epoch 0, val/rmse: 1.1496581253566946, val/mae: 0.6641859412193298\n",
      "DGT_pcc_dual epoch 10, val/rmse: 0.7384391494713182, val/mae: 0.3394033908843994\n",
      "DGT_pcc_dual epoch 20, val/rmse: 0.5946532205793874, val/mae: 0.2797536551952362\n",
      "DGT_pcc_dual epoch 30, val/rmse: 0.49737185941377166, val/mae: 0.21355238556861877\n",
      "DGT_pcc_dual epoch 40, val/rmse: 0.4441854033296546, val/mae: 0.19703470170497894\n",
      "DGT_pcc_dual epoch 50, val/rmse: 0.40797355803889324, val/mae: 0.1867418736219406\n",
      "DGT_pcc_dual epoch 60, val/rmse: 0.3612473268641003, val/mae: 0.1562851071357727\n",
      "DGT_pcc_dual epoch 70, val/rmse: 0.35563626377121066, val/mae: 0.1624217927455902\n",
      "DGT_pcc_dual epoch 80, val/rmse: 0.3265442464372148, val/mae: 0.14031432569026947\n",
      "DGT_pcc_dual epoch 90, val/rmse: 0.3200663923702132, val/mae: 0.13890440762043\n",
      "DGT_pcc_dual epoch 99, val/rmse: 0.2901756016610735, val/mae: 0.12552650272846222\n",
      "DGT_pcc_dual epoch 100, test/rmse: 1.1418421274014596, test/mae: 0.2696003317832947\n"
     ]
    },
    {
     "data": {
      "text/html": [
       "Finishing last run (ID:9mgqcv9d) before initializing another..."
      ],
      "text/plain": [
       "<IPython.core.display.HTML object>"
      ]
     },
     "metadata": {},
     "output_type": "display_data"
    },
    {
     "data": {
      "text/html": [
       "<style>\n",
       "    table.wandb td:nth-child(1) { padding: 0 10px; text-align: left ; width: auto;} td:nth-child(2) {text-align: left ; width: 100%}\n",
       "    .wandb-row { display: flex; flex-direction: row; flex-wrap: wrap; justify-content: flex-start; width: 100% }\n",
       "    .wandb-col { display: flex; flex-direction: column; flex-basis: 100%; flex: 1; padding: 10px; }\n",
       "    </style>\n",
       "<div class=\"wandb-row\"><div class=\"wandb-col\"><h3>Run history:</h3><br/><table class=\"wandb\"><tr><td>epoch</td><td>▁▁▁▁▂▂▂▂▃▃▃▃▃▄▄▄▄▄▄▄▅▅▅▅▅▅▆▆▆▆▆▆▇▇▇▇▇▇██</td></tr><tr><td>step</td><td>▆█▄▅▄▇█▃█▅▄▅▆▅▅▁▁▃▅▂▃▅▃▅▄▁▅▁▁▅▆▅▆▃▄▄▃▄▅▅</td></tr><tr><td>test/mae</td><td>▁</td></tr><tr><td>test/rmse</td><td>▁</td></tr><tr><td>train/loss</td><td>█▆▇▃▄▃▂▂▂▂▂▂▂▁▂▂▂▁▂▁▁▁▁▂▁▂▁▁▁▁▁▁▁▁▁▁▁▁▁▁</td></tr><tr><td>val/mae</td><td>█▄▃▂▂▂▁▁▁▁▁</td></tr><tr><td>val/rmse</td><td>█▅▃▃▂▂▂▂▁▁▁</td></tr></table><br/></div><div class=\"wandb-col\"><h3>Run summary:</h3><br/><table class=\"wandb\"><tr><td>epoch</td><td>100</td></tr><tr><td>step</td><td>14</td></tr><tr><td>test/mae</td><td>0.2696</td></tr><tr><td>test/rmse</td><td>1.14184</td></tr><tr><td>train/loss</td><td>0.02252</td></tr><tr><td>val/mae</td><td>0.12553</td></tr><tr><td>val/rmse</td><td>0.29018</td></tr></table><br/></div></div>"
      ],
      "text/plain": [
       "<IPython.core.display.HTML object>"
      ]
     },
     "metadata": {},
     "output_type": "display_data"
    },
    {
     "data": {
      "text/html": [
       " View run <strong style=\"color:#cdcd00\">DGT_pcc_dual</strong> at: <a href='https://wandb.ai/kevinxli/cs224w-stock-market-prediction/runs/9mgqcv9d' target=\"_blank\">https://wandb.ai/kevinxli/cs224w-stock-market-prediction/runs/9mgqcv9d</a><br/> View project at: <a href='https://wandb.ai/kevinxli/cs224w-stock-market-prediction' target=\"_blank\">https://wandb.ai/kevinxli/cs224w-stock-market-prediction</a><br/>Synced 5 W&B file(s), 0 media file(s), 0 artifact file(s) and 0 other file(s)"
      ],
      "text/plain": [
       "<IPython.core.display.HTML object>"
      ]
     },
     "metadata": {},
     "output_type": "display_data"
    },
    {
     "data": {
      "text/html": [
       "Find logs at: <code>./wandb/run-20241209_200318-9mgqcv9d/logs</code>"
      ],
      "text/plain": [
       "<IPython.core.display.HTML object>"
      ]
     },
     "metadata": {},
     "output_type": "display_data"
    },
    {
     "data": {
      "text/html": [
       "Successfully finished last run (ID:9mgqcv9d). Initializing new run:<br/>"
      ],
      "text/plain": [
       "<IPython.core.display.HTML object>"
      ]
     },
     "metadata": {},
     "output_type": "display_data"
    },
    {
     "data": {
      "text/html": [
       "Tracking run with wandb version 0.18.5"
      ],
      "text/plain": [
       "<IPython.core.display.HTML object>"
      ]
     },
     "metadata": {},
     "output_type": "display_data"
    },
    {
     "data": {
      "text/html": [
       "Run data is saved locally in <code>/Volumes/crucialx9/classes/fall2024/cs224w/stock/wandb/run-20241209_200923-a3r24jhz</code>"
      ],
      "text/plain": [
       "<IPython.core.display.HTML object>"
      ]
     },
     "metadata": {},
     "output_type": "display_data"
    },
    {
     "data": {
      "text/html": [
       "Syncing run <strong><a href='https://wandb.ai/kevinxli/cs224w-stock-market-prediction/runs/a3r24jhz' target=\"_blank\">DGT_mi_global</a></strong> to <a href='https://wandb.ai/kevinxli/cs224w-stock-market-prediction' target=\"_blank\">Weights & Biases</a> (<a href='https://wandb.me/run' target=\"_blank\">docs</a>)<br/>"
      ],
      "text/plain": [
       "<IPython.core.display.HTML object>"
      ]
     },
     "metadata": {},
     "output_type": "display_data"
    },
    {
     "data": {
      "text/html": [
       " View project at <a href='https://wandb.ai/kevinxli/cs224w-stock-market-prediction' target=\"_blank\">https://wandb.ai/kevinxli/cs224w-stock-market-prediction</a>"
      ],
      "text/plain": [
       "<IPython.core.display.HTML object>"
      ]
     },
     "metadata": {},
     "output_type": "display_data"
    },
    {
     "data": {
      "text/html": [
       " View run at <a href='https://wandb.ai/kevinxli/cs224w-stock-market-prediction/runs/a3r24jhz' target=\"_blank\">https://wandb.ai/kevinxli/cs224w-stock-market-prediction/runs/a3r24jhz</a>"
      ],
      "text/plain": [
       "<IPython.core.display.HTML object>"
      ]
     },
     "metadata": {},
     "output_type": "display_data"
    },
    {
     "name": "stdout",
     "output_type": "stream",
     "text": [
      "DGT_mi_global epoch 0, val/rmse: 0.6917069637861868, val/mae: 0.43967968225479126\n",
      "DGT_mi_global epoch 10, val/rmse: 0.4867622092792102, val/mae: 0.2509520351886749\n",
      "DGT_mi_global epoch 20, val/rmse: 0.4260683229341448, val/mae: 0.2136218249797821\n",
      "DGT_mi_global epoch 30, val/rmse: 0.36891815505636966, val/mae: 0.16037219762802124\n",
      "DGT_mi_global epoch 40, val/rmse: 0.3516403959655355, val/mae: 0.1418619155883789\n",
      "DGT_mi_global epoch 50, val/rmse: 0.3393697831681993, val/mae: 0.12994332611560822\n",
      "DGT_mi_global epoch 60, val/rmse: 0.33203721882560105, val/mae: 0.12249909341335297\n",
      "DGT_mi_global epoch 70, val/rmse: 0.3232744206610148, val/mae: 0.1157432347536087\n",
      "DGT_mi_global epoch 80, val/rmse: 0.3187117001954173, val/mae: 0.11156484484672546\n",
      "DGT_mi_global epoch 90, val/rmse: 0.31494454079184436, val/mae: 0.10862833261489868\n",
      "DGT_mi_global epoch 99, val/rmse: 0.3093414784583224, val/mae: 0.10504913330078125\n",
      "DGT_mi_global epoch 100, test/rmse: 1.3637284034676322, test/mae: 0.2739582657814026\n"
     ]
    },
    {
     "data": {
      "text/html": [
       "Finishing last run (ID:a3r24jhz) before initializing another..."
      ],
      "text/plain": [
       "<IPython.core.display.HTML object>"
      ]
     },
     "metadata": {},
     "output_type": "display_data"
    },
    {
     "data": {
      "text/html": [
       "<style>\n",
       "    table.wandb td:nth-child(1) { padding: 0 10px; text-align: left ; width: auto;} td:nth-child(2) {text-align: left ; width: 100%}\n",
       "    .wandb-row { display: flex; flex-direction: row; flex-wrap: wrap; justify-content: flex-start; width: 100% }\n",
       "    .wandb-col { display: flex; flex-direction: column; flex-basis: 100%; flex: 1; padding: 10px; }\n",
       "    </style>\n",
       "<div class=\"wandb-row\"><div class=\"wandb-col\"><h3>Run history:</h3><br/><table class=\"wandb\"><tr><td>epoch</td><td>▁▁▁▁▂▂▂▂▂▂▃▃▃▃▃▄▄▄▄▄▄▄▄▄▅▅▅▅▅▆▆▆▆▆▆▇▇▇▇█</td></tr><tr><td>step</td><td>▅▇▂▁▃▃▇█▄▅█▁▅▄▅▃▆▃▁▇█▅▇▅▅▃▆▅▅▁▁▃▇▇▃▅▆▃▄▅</td></tr><tr><td>test/mae</td><td>▁</td></tr><tr><td>test/rmse</td><td>▁</td></tr><tr><td>train/loss</td><td>█▄▂▂▂▂▁▂▁▂▁▁▁▁▁▁▁▁▁▁▁▁▁▁▁▁▁▁▁▁▁▁▁▁▁▁▁▁▁▁</td></tr><tr><td>val/mae</td><td>█▄▃▂▂▂▁▁▁▁▁</td></tr><tr><td>val/rmse</td><td>█▄▃▂▂▂▁▁▁▁▁</td></tr></table><br/></div><div class=\"wandb-col\"><h3>Run summary:</h3><br/><table class=\"wandb\"><tr><td>epoch</td><td>100</td></tr><tr><td>step</td><td>14</td></tr><tr><td>test/mae</td><td>0.27396</td></tr><tr><td>test/rmse</td><td>1.36373</td></tr><tr><td>train/loss</td><td>0.01671</td></tr><tr><td>val/mae</td><td>0.10505</td></tr><tr><td>val/rmse</td><td>0.30934</td></tr></table><br/></div></div>"
      ],
      "text/plain": [
       "<IPython.core.display.HTML object>"
      ]
     },
     "metadata": {},
     "output_type": "display_data"
    },
    {
     "data": {
      "text/html": [
       " View run <strong style=\"color:#cdcd00\">DGT_mi_global</strong> at: <a href='https://wandb.ai/kevinxli/cs224w-stock-market-prediction/runs/a3r24jhz' target=\"_blank\">https://wandb.ai/kevinxli/cs224w-stock-market-prediction/runs/a3r24jhz</a><br/> View project at: <a href='https://wandb.ai/kevinxli/cs224w-stock-market-prediction' target=\"_blank\">https://wandb.ai/kevinxli/cs224w-stock-market-prediction</a><br/>Synced 5 W&B file(s), 0 media file(s), 0 artifact file(s) and 0 other file(s)"
      ],
      "text/plain": [
       "<IPython.core.display.HTML object>"
      ]
     },
     "metadata": {},
     "output_type": "display_data"
    },
    {
     "data": {
      "text/html": [
       "Find logs at: <code>./wandb/run-20241209_200923-a3r24jhz/logs</code>"
      ],
      "text/plain": [
       "<IPython.core.display.HTML object>"
      ]
     },
     "metadata": {},
     "output_type": "display_data"
    },
    {
     "data": {
      "text/html": [
       "Successfully finished last run (ID:a3r24jhz). Initializing new run:<br/>"
      ],
      "text/plain": [
       "<IPython.core.display.HTML object>"
      ]
     },
     "metadata": {},
     "output_type": "display_data"
    },
    {
     "data": {
      "text/html": [
       "Tracking run with wandb version 0.18.5"
      ],
      "text/plain": [
       "<IPython.core.display.HTML object>"
      ]
     },
     "metadata": {},
     "output_type": "display_data"
    },
    {
     "data": {
      "text/html": [
       "Run data is saved locally in <code>/Volumes/crucialx9/classes/fall2024/cs224w/stock/wandb/run-20241209_201532-ufl62ncp</code>"
      ],
      "text/plain": [
       "<IPython.core.display.HTML object>"
      ]
     },
     "metadata": {},
     "output_type": "display_data"
    },
    {
     "data": {
      "text/html": [
       "Syncing run <strong><a href='https://wandb.ai/kevinxli/cs224w-stock-market-prediction/runs/ufl62ncp' target=\"_blank\">DGT_mi_local</a></strong> to <a href='https://wandb.ai/kevinxli/cs224w-stock-market-prediction' target=\"_blank\">Weights & Biases</a> (<a href='https://wandb.me/run' target=\"_blank\">docs</a>)<br/>"
      ],
      "text/plain": [
       "<IPython.core.display.HTML object>"
      ]
     },
     "metadata": {},
     "output_type": "display_data"
    },
    {
     "data": {
      "text/html": [
       " View project at <a href='https://wandb.ai/kevinxli/cs224w-stock-market-prediction' target=\"_blank\">https://wandb.ai/kevinxli/cs224w-stock-market-prediction</a>"
      ],
      "text/plain": [
       "<IPython.core.display.HTML object>"
      ]
     },
     "metadata": {},
     "output_type": "display_data"
    },
    {
     "data": {
      "text/html": [
       " View run at <a href='https://wandb.ai/kevinxli/cs224w-stock-market-prediction/runs/ufl62ncp' target=\"_blank\">https://wandb.ai/kevinxli/cs224w-stock-market-prediction/runs/ufl62ncp</a>"
      ],
      "text/plain": [
       "<IPython.core.display.HTML object>"
      ]
     },
     "metadata": {},
     "output_type": "display_data"
    },
    {
     "name": "stdout",
     "output_type": "stream",
     "text": [
      "DGT_mi_local epoch 0, val/rmse: 1.1854196194219213, val/mae: 0.7126679420471191\n",
      "DGT_mi_local epoch 10, val/rmse: 0.6982840572154786, val/mae: 0.33540844917297363\n",
      "DGT_mi_local epoch 20, val/rmse: 0.6240711462561356, val/mae: 0.2714327573776245\n",
      "DGT_mi_local epoch 30, val/rmse: 0.5405231809929618, val/mae: 0.23242074251174927\n",
      "DGT_mi_local epoch 40, val/rmse: 0.4553321816845, val/mae: 0.18493397533893585\n",
      "DGT_mi_local epoch 50, val/rmse: 0.4026256795698019, val/mae: 0.1565701812505722\n",
      "DGT_mi_local epoch 60, val/rmse: 0.36570311877391853, val/mae: 0.14108829200267792\n",
      "DGT_mi_local epoch 70, val/rmse: 0.33610364221036865, val/mae: 0.1269409954547882\n",
      "DGT_mi_local epoch 80, val/rmse: 0.3134253391709797, val/mae: 0.12341457605361938\n",
      "DGT_mi_local epoch 90, val/rmse: 0.3046607959489148, val/mae: 0.1177234798669815\n",
      "DGT_mi_local epoch 99, val/rmse: 0.2962883498523367, val/mae: 0.11102217435836792\n",
      "DGT_mi_local epoch 100, test/rmse: 1.3026313798215756, test/mae: 0.28441381454467773\n"
     ]
    },
    {
     "data": {
      "text/html": [
       "Finishing last run (ID:ufl62ncp) before initializing another..."
      ],
      "text/plain": [
       "<IPython.core.display.HTML object>"
      ]
     },
     "metadata": {},
     "output_type": "display_data"
    },
    {
     "data": {
      "text/html": [
       "<style>\n",
       "    table.wandb td:nth-child(1) { padding: 0 10px; text-align: left ; width: auto;} td:nth-child(2) {text-align: left ; width: 100%}\n",
       "    .wandb-row { display: flex; flex-direction: row; flex-wrap: wrap; justify-content: flex-start; width: 100% }\n",
       "    .wandb-col { display: flex; flex-direction: column; flex-basis: 100%; flex: 1; padding: 10px; }\n",
       "    </style>\n",
       "<div class=\"wandb-row\"><div class=\"wandb-col\"><h3>Run history:</h3><br/><table class=\"wandb\"><tr><td>epoch</td><td>▁▁▁▁▁▁▂▂▂▂▃▃▄▄▄▄▄▄▄▅▅▅▅▅▅▅▅▅▆▆▆▆▆▆▆▆▇▇▇█</td></tr><tr><td>step</td><td>▄▇▅▇▂▇▅▂▇▇▇▅▄▅▂▁▇▃▂▇▃▅▁▃▇▆█▂▆▂▇█▁▁█▇▁▃▂▅</td></tr><tr><td>test/mae</td><td>▁</td></tr><tr><td>test/rmse</td><td>▁</td></tr><tr><td>train/loss</td><td>█▅▇▆▆▃▄▃▂▃▃▃▃▂▂▂▂▂▁▂▂▁▁▁▁▁▁▁▂▂▂▂▁▁▂▁▁▂▁▁</td></tr><tr><td>val/mae</td><td>█▄▃▂▂▂▁▁▁▁▁</td></tr><tr><td>val/rmse</td><td>█▄▄▃▂▂▂▁▁▁▁</td></tr></table><br/></div><div class=\"wandb-col\"><h3>Run summary:</h3><br/><table class=\"wandb\"><tr><td>epoch</td><td>100</td></tr><tr><td>step</td><td>14</td></tr><tr><td>test/mae</td><td>0.28441</td></tr><tr><td>test/rmse</td><td>1.30263</td></tr><tr><td>train/loss</td><td>0.02018</td></tr><tr><td>val/mae</td><td>0.11102</td></tr><tr><td>val/rmse</td><td>0.29629</td></tr></table><br/></div></div>"
      ],
      "text/plain": [
       "<IPython.core.display.HTML object>"
      ]
     },
     "metadata": {},
     "output_type": "display_data"
    },
    {
     "data": {
      "text/html": [
       " View run <strong style=\"color:#cdcd00\">DGT_mi_local</strong> at: <a href='https://wandb.ai/kevinxli/cs224w-stock-market-prediction/runs/ufl62ncp' target=\"_blank\">https://wandb.ai/kevinxli/cs224w-stock-market-prediction/runs/ufl62ncp</a><br/> View project at: <a href='https://wandb.ai/kevinxli/cs224w-stock-market-prediction' target=\"_blank\">https://wandb.ai/kevinxli/cs224w-stock-market-prediction</a><br/>Synced 5 W&B file(s), 0 media file(s), 0 artifact file(s) and 0 other file(s)"
      ],
      "text/plain": [
       "<IPython.core.display.HTML object>"
      ]
     },
     "metadata": {},
     "output_type": "display_data"
    },
    {
     "data": {
      "text/html": [
       "Find logs at: <code>./wandb/run-20241209_201532-ufl62ncp/logs</code>"
      ],
      "text/plain": [
       "<IPython.core.display.HTML object>"
      ]
     },
     "metadata": {},
     "output_type": "display_data"
    },
    {
     "data": {
      "text/html": [
       "Successfully finished last run (ID:ufl62ncp). Initializing new run:<br/>"
      ],
      "text/plain": [
       "<IPython.core.display.HTML object>"
      ]
     },
     "metadata": {},
     "output_type": "display_data"
    },
    {
     "data": {
      "text/html": [
       "Tracking run with wandb version 0.18.5"
      ],
      "text/plain": [
       "<IPython.core.display.HTML object>"
      ]
     },
     "metadata": {},
     "output_type": "display_data"
    },
    {
     "data": {
      "text/html": [
       "Run data is saved locally in <code>/Volumes/crucialx9/classes/fall2024/cs224w/stock/wandb/run-20241209_202137-ucez5wsl</code>"
      ],
      "text/plain": [
       "<IPython.core.display.HTML object>"
      ]
     },
     "metadata": {},
     "output_type": "display_data"
    },
    {
     "data": {
      "text/html": [
       "Syncing run <strong><a href='https://wandb.ai/kevinxli/cs224w-stock-market-prediction/runs/ucez5wsl' target=\"_blank\">DGT_mi_dual</a></strong> to <a href='https://wandb.ai/kevinxli/cs224w-stock-market-prediction' target=\"_blank\">Weights & Biases</a> (<a href='https://wandb.me/run' target=\"_blank\">docs</a>)<br/>"
      ],
      "text/plain": [
       "<IPython.core.display.HTML object>"
      ]
     },
     "metadata": {},
     "output_type": "display_data"
    },
    {
     "data": {
      "text/html": [
       " View project at <a href='https://wandb.ai/kevinxli/cs224w-stock-market-prediction' target=\"_blank\">https://wandb.ai/kevinxli/cs224w-stock-market-prediction</a>"
      ],
      "text/plain": [
       "<IPython.core.display.HTML object>"
      ]
     },
     "metadata": {},
     "output_type": "display_data"
    },
    {
     "data": {
      "text/html": [
       " View run at <a href='https://wandb.ai/kevinxli/cs224w-stock-market-prediction/runs/ucez5wsl' target=\"_blank\">https://wandb.ai/kevinxli/cs224w-stock-market-prediction/runs/ucez5wsl</a>"
      ],
      "text/plain": [
       "<IPython.core.display.HTML object>"
      ]
     },
     "metadata": {},
     "output_type": "display_data"
    },
    {
     "name": "stdout",
     "output_type": "stream",
     "text": [
      "DGT_mi_dual epoch 0, val/rmse: 0.8194481428425694, val/mae: 0.4991283416748047\n",
      "DGT_mi_dual epoch 10, val/rmse: 0.5107128360986858, val/mae: 0.2336481660604477\n",
      "DGT_mi_dual epoch 20, val/rmse: 0.4066299165896952, val/mae: 0.17650637030601501\n",
      "DGT_mi_dual epoch 30, val/rmse: 0.35723350856028385, val/mae: 0.14074262976646423\n",
      "DGT_mi_dual epoch 40, val/rmse: 0.3148688890818977, val/mae: 0.13451631367206573\n",
      "DGT_mi_dual epoch 50, val/rmse: 0.2942687754713814, val/mae: 0.12407919019460678\n",
      "DGT_mi_dual epoch 60, val/rmse: 0.27185317587678626, val/mae: 0.12379532307386398\n",
      "DGT_mi_dual epoch 70, val/rmse: 0.2644325727311618, val/mae: 0.11806471645832062\n",
      "DGT_mi_dual epoch 80, val/rmse: 0.2542224968632339, val/mae: 0.11761271208524704\n",
      "DGT_mi_dual epoch 90, val/rmse: 0.2535307528503727, val/mae: 0.11452193558216095\n",
      "DGT_mi_dual epoch 99, val/rmse: 0.2819990144942358, val/mae: 0.1221356987953186\n",
      "DGT_mi_dual epoch 100, test/rmse: 1.0292984964260237, test/mae: 0.23720777034759521\n"
     ]
    },
    {
     "data": {
      "text/html": [
       "Finishing last run (ID:ucez5wsl) before initializing another..."
      ],
      "text/plain": [
       "<IPython.core.display.HTML object>"
      ]
     },
     "metadata": {},
     "output_type": "display_data"
    },
    {
     "data": {
      "text/html": [
       "<style>\n",
       "    table.wandb td:nth-child(1) { padding: 0 10px; text-align: left ; width: auto;} td:nth-child(2) {text-align: left ; width: 100%}\n",
       "    .wandb-row { display: flex; flex-direction: row; flex-wrap: wrap; justify-content: flex-start; width: 100% }\n",
       "    .wandb-col { display: flex; flex-direction: column; flex-basis: 100%; flex: 1; padding: 10px; }\n",
       "    </style>\n",
       "<div class=\"wandb-row\"><div class=\"wandb-col\"><h3>Run history:</h3><br/><table class=\"wandb\"><tr><td>epoch</td><td>▁▁▁▁▁▂▂▂▂▃▃▃▃▃▃▄▄▄▄▄▄▄▆▆▆▆▆▆▆▆▇▇▇▇▇▇████</td></tr><tr><td>step</td><td>▃▆▃▃▃▅▆▃▁▆▁▅▇▂▃▁▅▅▇▃▁▂▂▆▇▁▅▃█▅▃▃▅▅▃▁▂▁▇▁</td></tr><tr><td>test/mae</td><td>▁</td></tr><tr><td>test/rmse</td><td>▁</td></tr><tr><td>train/loss</td><td>█▄▂▅▂▂▁▂▂▂▁▂▁▁▁▁▁▁▁▁▁▁▁▁▁▁▁▁▁▁▁▁▁▁▁▁▁▁▁▁</td></tr><tr><td>val/mae</td><td>█▃▂▁▁▁▁▁▁▁▁</td></tr><tr><td>val/rmse</td><td>█▄▃▂▂▂▁▁▁▁▁</td></tr></table><br/></div><div class=\"wandb-col\"><h3>Run summary:</h3><br/><table class=\"wandb\"><tr><td>epoch</td><td>100</td></tr><tr><td>step</td><td>14</td></tr><tr><td>test/mae</td><td>0.23721</td></tr><tr><td>test/rmse</td><td>1.0293</td></tr><tr><td>train/loss</td><td>0.02348</td></tr><tr><td>val/mae</td><td>0.12214</td></tr><tr><td>val/rmse</td><td>0.282</td></tr></table><br/></div></div>"
      ],
      "text/plain": [
       "<IPython.core.display.HTML object>"
      ]
     },
     "metadata": {},
     "output_type": "display_data"
    },
    {
     "data": {
      "text/html": [
       " View run <strong style=\"color:#cdcd00\">DGT_mi_dual</strong> at: <a href='https://wandb.ai/kevinxli/cs224w-stock-market-prediction/runs/ucez5wsl' target=\"_blank\">https://wandb.ai/kevinxli/cs224w-stock-market-prediction/runs/ucez5wsl</a><br/> View project at: <a href='https://wandb.ai/kevinxli/cs224w-stock-market-prediction' target=\"_blank\">https://wandb.ai/kevinxli/cs224w-stock-market-prediction</a><br/>Synced 5 W&B file(s), 0 media file(s), 0 artifact file(s) and 0 other file(s)"
      ],
      "text/plain": [
       "<IPython.core.display.HTML object>"
      ]
     },
     "metadata": {},
     "output_type": "display_data"
    },
    {
     "data": {
      "text/html": [
       "Find logs at: <code>./wandb/run-20241209_202137-ucez5wsl/logs</code>"
      ],
      "text/plain": [
       "<IPython.core.display.HTML object>"
      ]
     },
     "metadata": {},
     "output_type": "display_data"
    },
    {
     "data": {
      "text/html": [
       "Successfully finished last run (ID:ucez5wsl). Initializing new run:<br/>"
      ],
      "text/plain": [
       "<IPython.core.display.HTML object>"
      ]
     },
     "metadata": {},
     "output_type": "display_data"
    },
    {
     "data": {
      "text/html": [
       "Tracking run with wandb version 0.18.5"
      ],
      "text/plain": [
       "<IPython.core.display.HTML object>"
      ]
     },
     "metadata": {},
     "output_type": "display_data"
    },
    {
     "data": {
      "text/html": [
       "Run data is saved locally in <code>/Volumes/crucialx9/classes/fall2024/cs224w/stock/wandb/run-20241209_202812-l7c9dyla</code>"
      ],
      "text/plain": [
       "<IPython.core.display.HTML object>"
      ]
     },
     "metadata": {},
     "output_type": "display_data"
    },
    {
     "data": {
      "text/html": [
       "Syncing run <strong><a href='https://wandb.ai/kevinxli/cs224w-stock-market-prediction/runs/l7c9dyla' target=\"_blank\">DCRNN_pcc_global</a></strong> to <a href='https://wandb.ai/kevinxli/cs224w-stock-market-prediction' target=\"_blank\">Weights & Biases</a> (<a href='https://wandb.me/run' target=\"_blank\">docs</a>)<br/>"
      ],
      "text/plain": [
       "<IPython.core.display.HTML object>"
      ]
     },
     "metadata": {},
     "output_type": "display_data"
    },
    {
     "data": {
      "text/html": [
       " View project at <a href='https://wandb.ai/kevinxli/cs224w-stock-market-prediction' target=\"_blank\">https://wandb.ai/kevinxli/cs224w-stock-market-prediction</a>"
      ],
      "text/plain": [
       "<IPython.core.display.HTML object>"
      ]
     },
     "metadata": {},
     "output_type": "display_data"
    },
    {
     "data": {
      "text/html": [
       " View run at <a href='https://wandb.ai/kevinxli/cs224w-stock-market-prediction/runs/l7c9dyla' target=\"_blank\">https://wandb.ai/kevinxli/cs224w-stock-market-prediction/runs/l7c9dyla</a>"
      ],
      "text/plain": [
       "<IPython.core.display.HTML object>"
      ]
     },
     "metadata": {},
     "output_type": "display_data"
    },
    {
     "name": "stdout",
     "output_type": "stream",
     "text": [
      "DCRNN_pcc_global epoch 0, val/rmse: 1.6542748964329175, val/mae: 1.26675546169281\n",
      "DCRNN_pcc_global epoch 10, val/rmse: 0.7444299250660822, val/mae: 0.23791028559207916\n"
     ]
    }
   ],
   "source": [
    "from tqdm import tqdm\n",
    "import wandb\n",
    "from torch_geometric_temporal import DCRNN\n",
    "import os\n",
    "\n",
    "def train(gnn, corr_name, corr_scope, train_samples, val_samples, num_epochs):\n",
    "    os.makedirs('models', exist_ok=True)\n",
    "\n",
    "    model = get_model(gnn, corr_name, corr_scope, load_weights=False)\n",
    "\n",
    "    lr = 1e-3\n",
    "    optimizer = torch.optim.Adam(model.parameters(), lr=lr)\n",
    "    track_with_wandb = True\n",
    "    best_val_rmse = float('inf')\n",
    "    eval_per_epoch = 10\n",
    "\n",
    "    if track_with_wandb:\n",
    "        wandb.init(project=\"cs224w-stock-market-prediction\",\n",
    "                   name=model.model_name(),\n",
    "                   config={\n",
    "                       \"corr_name\": corr_name,\n",
    "                       \"corr_scope\": corr_scope,\n",
    "                       \"learning_rate\": lr,\n",
    "                       \"epochs\": num_epochs,\n",
    "                       \"architecture\": gnn.__name__,\n",
    "                   })\n",
    "\n",
    "    for epoch in range(num_epochs):\n",
    "        model.train()\n",
    "        train_loss = 0\n",
    "        for step, snapshot in enumerate(train_samples):\n",
    "            X = snapshot.x\n",
    "            if model.recurrent.__class__.__name__ in ['GRU', 'DGT']:\n",
    "                y_hats, _ = model(X.transpose(0, 1), snapshot.edge_index, snapshot.edge_attr, hidden=None)\n",
    "            else:\n",
    "                H = None\n",
    "                y_hats = []\n",
    "                for x in X:\n",
    "                    y_hat, H = model(x, snapshot.edge_index, snapshot.edge_attr, hidden=H)\n",
    "                    y_hats.append(y_hat.squeeze())\n",
    "                y_hats = torch.stack(y_hats, dim=1)\n",
    "            loss = F.mse_loss(y_hats.squeeze(), snapshot.y.to(model.model_device()))\n",
    "            train_loss += loss.item()\n",
    "            loss.backward()\n",
    "            optimizer.step()\n",
    "            optimizer.zero_grad()\n",
    "            if track_with_wandb:\n",
    "                wandb.log({\"epoch\": epoch,\n",
    "                        \"step\": step,\n",
    "                            \"train/loss\": loss.item() })\n",
    "        train_loss /= len(train_samples)\n",
    "\n",
    "        if track_with_wandb and (epoch % eval_per_epoch == 0 or epoch == num_epochs - 1):\n",
    "            val_rmse, val_mae = eval(epoch, model, val_samples, 'val')\n",
    "            if val_rmse < best_val_rmse:\n",
    "                best_val_rmse = val_rmse\n",
    "                torch.save(model.state_dict(), f'models/{model.model_name()}.pth')\n",
    "\n",
    "model_configs = [(GRU, None, None),\n",
    "                 (DGT, None, None),\n",
    "                 (DGT, 'pcc', 'global'),\n",
    "                 (DGT, 'pcc', 'local'),\n",
    "                 (DGT, 'pcc', 'dual'),\n",
    "                 (DGT, 'mi', 'global'),\n",
    "                 (DGT, 'mi', 'local'),\n",
    "                 (DGT, 'mi', 'dual'),\n",
    "                 (DCRNN, 'pcc', 'global'),\n",
    "                 (DCRNN, 'pcc', 'local'),\n",
    "                 (DCRNN, 'mi', 'global'),\n",
    "                 (DCRNN, 'mi', 'local'),\n",
    "                 ]\n",
    "num_epochs = 100\n",
    "for gnn, corr_name, corr_scope in model_configs:\n",
    "    dataset = get_dataset(corr_name, corr_scope)\n",
    "    train(gnn, corr_name, corr_scope, dataset['train_samples'], dataset['val_samples'], num_epochs)\n",
    "    # Test\n",
    "    best_model = get_model(gnn, corr_name, corr_scope, load_weights=True)\n",
    "    eval(num_epochs, best_model, dataset['test_samples'], 'test')"
   ]
  },
  {
   "cell_type": "markdown",
   "metadata": {},
   "source": [
    "# Result Visualization"
   ]
  },
  {
   "cell_type": "code",
   "execution_count": 97,
   "metadata": {},
   "outputs": [],
   "source": [
    "stock_names = \"A,AAL,AAPL,ABBV,ABT,ACGL,ACN,ADBE,ADI,ADM,ADP,ADSK,AEE,AEP,AES,AFL,AIG,AIZ,AJG,AKAM,ALB,ALGN,ALL,ALLE,AMAT,AMCR,AMD,AME,AMGN,AMP,AMT,AMZN,ANET,ANSS,AON,AOS,APA,APD,APH,APTV,ARE,ATO,AVB,AVGO,AVY,AWK,AXON,AXP,AZO,BA,BAC,BALL,BAX,BBWI,BBY,BDX,BEN,BF-B,BG,BIIB,BIO,BK,BKNG,BKR,BLDR,BLK,BMY,BR,BRK-B,BRO,BSX,BWA,BX,BXP,C,CAG,CAH,CAT,CB,CBOE,CBRE,CCI,CCL,CDNS,CDW,CE,CF,CFG,CHD,CHRW,CHTR,CI,CINF,CL,CLX,CMCSA,CME,CMG,CMI,CMS,CNC,CNP,COF,COO,COP,COR,COST,CPAY,CPB,CPRT,CPT,CRL,CRM,CSCO,CSGP,CSX,CTAS,CTLT,CTRA,CTSH,CVS,CVX,CZR,D,DAL,DD,DE,DECK,DFS,DG,DGX,DHI,DHR,DIS,DLR,DLTR,DOC,DOV,DPZ,DRI,DTE,DUK,DVA,DVN,DXCM,EA,EBAY,ECL,ED,EFX,EG,EIX,EL,ELV,EMN,EMR,ENPH,EOG,EPAM,EQIX,EQR,EQT,ES,ESS,ETN,ETR,EVRG,EW,EXC,EXPD,EXPE,EXR,F,FANG,FAST,FCX,FDS,FDX,FE,FFIV,FI,FICO,FIS,FITB,FMC,FRT,FSLR,FTNT,GD,GE,GEN,GILD,GIS,GL,GLW,GM,GNRC,GOOG,GOOGL,GPC,GPN,GRMN,GS,GWW,HAL,HAS,HBAN,HCA,HD,HES,HIG,HII,HLT,HOLX,HON,HPQ,HRL,HSIC,HST,HSY,HUBB,HUM,IBM,ICE,IDXX,IEX,IFF,INCY,INTC,INTU,IP,IPG,IQV,IRM,ISRG,IT,ITW,IVZ,J,JBHT,JBL,JCI,JKHY,JNJ,JNPR,JPM,K,KDP,KEY,KEYS,KIM,KKR,KLAC,KMB,KMI,KMX,KO,KR,L,LDOS,LEN,LH,LHX,LIN,LKQ,LLY,LMT,LNT,LOW,LRCX,LULU,LUV,LVS,LYB,LYV,MA,MAA,MAR,MAS,MCD,MCHP,MCK,MCO,MDLZ,MDT,MET,META,MGM,MHK,MKC,MKTX,MLM,MMC,MMM,MNST,MO,MOH,MOS,MPC,MPWR,MRK,MRO,MS,MSCI,MSFT,MSI,MTB,MTCH,MTD,MU,NCLH,NDAQ,NDSN,NEE,NEM,NFLX,NI,NKE,NOC,NOW,NRG,NSC,NTAP,NTRS,NUE,NVDA,NVR,NWS,NWSA,NXPI,O,ODFL,OKE,OMC,ON,ORCL,ORLY,OXY,PANW,PARA,PAYC,PAYX,PCAR,PCG,PEG,PEP,PFE,PFG,PG,PGR,PH,PHM,PKG,PLD,PM,PNC,PNR,PNW,PODD,POOL,PPG,PPL,PRU,PSA,PSX,PTC,PWR,QCOM,RCL,REG,REGN,RF,RJF,RL,RMD,ROK,ROL,ROP,ROST,RSG,RTX,RVTY,SBAC,SBUX,SCHW,SHW,SJM,SLB,SMCI,SNA,SNPS,SO,SPG,SPGI,SRE,STE,STLD,STT,STX,STZ,SWK,SWKS,SYF,SYK,SYY,T,TAP,TDG,TDY,TECH,TEL,TER,TFC,TFX,TGT,TJX,TMO,TMUS,TPR,TRGP,TRMB,TROW,TRV,TSCO,TSLA,TSN,TT,TTWO,TXN,TXT,TYL,UAL,UDR,UHS,ULTA,UNH,UNP,UPS,URI,USB,V,VLO,VMC,VRSK,VRSN,VRTX,VTR,VTRS,VZ,WAB,WAT,WBA,WBD,WDC,WEC,WELL,WFC,WM,WMB,WMT,WRB,WST,WTW,WY,WYNN,XEL,XOM,XYL,YUM,ZBH,ZBRA,ZTS\"\n",
    "stock_names = stock_names.split(',')\n",
    "stock_lookup = {name: i for i, name in enumerate(stock_names)}"
   ]
  },
  {
   "cell_type": "code",
   "execution_count": 107,
   "metadata": {},
   "outputs": [
    {
     "name": "stderr",
     "output_type": "stream",
     "text": [
      "Inference on GraphTransformer_pearsons_global_diff: 100%|██████████| 256/256 [00:07<00:00, 35.17it/s]\n"
     ]
    },
    {
     "name": "stdout",
     "output_type": "stream",
     "text": [
      "Global Pearson with DGT Overall MAE: 0.21085125207901\n",
      "Global Pearson with DGT Stock 325 MAE: 1.406772255897522\n"
     ]
    },
    {
     "name": "stderr",
     "output_type": "stream",
     "text": [
      "Inference on GraphTransformer_pearsons_local_diff: 100%|██████████| 256/256 [00:07<00:00, 34.55it/s]\n"
     ]
    },
    {
     "name": "stdout",
     "output_type": "stream",
     "text": [
      "Local Pearson with DGT Overall MAE: 0.20001909136772156\n",
      "Local Pearson with DGT Stock 325 MAE: 2.107595682144165\n"
     ]
    },
    {
     "name": "stderr",
     "output_type": "stream",
     "text": [
      "Inference on GraphTransformer_pearsons_dual_diff: 100%|██████████| 256/256 [00:07<00:00, 34.61it/s]\n"
     ]
    },
    {
     "name": "stdout",
     "output_type": "stream",
     "text": [
      "Dual Pearson with DGT Overall MAE: 0.22910775244235992\n",
      "Dual Pearson with DGT Stock 325 MAE: 2.4437673091888428\n",
      "Global Pearson with DGT Overall MAE: 0.21085125207901\n",
      "Global Pearson with DGT Stock 243 MAE: 0.17959560453891754\n",
      "Local Pearson with DGT Overall MAE: 0.20001909136772156\n",
      "Local Pearson with DGT Stock 243 MAE: 0.042724743485450745\n",
      "Dual Pearson with DGT Overall MAE: 0.22910775244235992\n",
      "Dual Pearson with DGT Stock 243 MAE: 0.06379595398902893\n"
     ]
    },
    {
     "data": {
      "text/plain": [
       "<Figure size 640x480 with 0 Axes>"
      ]
     },
     "metadata": {},
     "output_type": "display_data"
    },
    {
     "data": {
      "text/plain": [
       "<Figure size 1000x600 with 0 Axes>"
      ]
     },
     "metadata": {},
     "output_type": "display_data"
    },
    {
     "data": {
      "image/png": "[encoded data removed]",
      "text/plain": [
       "<Figure size 1000x600 with 1 Axes>"
      ]
     },
     "metadata": {},
     "output_type": "display_data"
    }
   ],
   "source": [
    "import matplotlib.pyplot as plt\n",
    "import numpy as np\n",
    "import concurrent.futures\n",
    "from cycler import cycler\n",
    "\n",
    "# Plot regression results on test set\n",
    "def plot_regression(configs, labels, fig_name, stock_name, preds): # 235 is for Nvidia\n",
    "    stock_index = stock_lookup[stock_name]\n",
    "    plt.clf()\n",
    "    plt.figure(figsize=(10, 6))\n",
    "    colors = [(0.650, 0.120, 0.240, 0.6),  # red\n",
    "              (0.122, 0.467, 0.706, 0.6), # blue\n",
    "              (1.000, 0.498, 0.055), # orange\n",
    "              (0.580, 0.403, 0.741, 0.6), # purple\n",
    "              ]\n",
    "    plt.rc('axes', prop_cycle=cycler('color', colors))\n",
    "\n",
    "    for (corr_name, corr_scope, gnn), label in zip(configs, labels):\n",
    "        eval_dataset = get_dataset(corr_name, corr_scope)['test_samples']\n",
    "        model = get_model(gnn, corr_name, corr_scope, load_weights=True)\n",
    "        if model is None:\n",
    "            continue\n",
    "        model.eval()\n",
    "        with torch.no_grad():\n",
    "            if label not in preds:\n",
    "                if gnn == DCRNN:\n",
    "                    with concurrent.futures.ThreadPoolExecutor(max_workers=4) as executor:\n",
    "                        y_hats = list(executor.map(lambda snapshot: infer(model, snapshot).cpu(), eval_dataset))\n",
    "                else:\n",
    "                    y_hats = list(map(lambda snapshot: infer(model, snapshot).squeeze().cpu(), eval_dataset))\n",
    "                preds[label] = y_hats\n",
    "            else:\n",
    "                y_hats = preds[label]\n",
    "            ys = [snapshot.y.cpu() for snapshot in eval_dataset]\n",
    "            targets = ys\n",
    "            assert(len(y_hats) == len(ys))\n",
    "            x = np.array(range(len(ys)))\n",
    "            print(f'{label} Overall MAE: {mae(torch.stack(y_hats, dim=1), torch.stack(ys, dim=1))}')\n",
    "            ys = np.array([y[stock_index] for y in ys])\n",
    "            y_hats = np.array([y_hat[stock_index] for y_hat in y_hats])\n",
    "            print(f'{label} Stock {stock_index} MAE: {mae(torch.tensor(y_hats), torch.tensor(ys))}')\n",
    "            plt.plot(x, y_hats, label=label, linewidth=1)\n",
    "\n",
    "    plt.plot(x, ys, label=\"Real\", color='green')\n",
    "    plt.legend(fontsize=14)\n",
    "    plt.title(f'Predicted vs Real {stock_name} Stock Price', fontsize=20)\n",
    "    plt.xlabel('Days', fontsize=16)\n",
    "    plt.ylabel('Normalized Price', fontsize=16)\n",
    "    plt.tick_params(axis='x', labelsize=16)\n",
    "    plt.tick_params(axis='y', labelsize=16)\n",
    "    plt.savefig(fig_name)\n",
    "    return preds, targets\n",
    "\n",
    "preds = {}\n",
    "preds, targets = plot_regression([('pcc', 'global', DGT),\n",
    "                            ('pcc', 'local', DGT),\n",
    "                           ('pcc', 'dual', DGT)],\n",
    "                           ['Global Pearson with DGT', 'Local Pearson with DGT', 'Dual Pearson with DGT'], stock_name='NVDA', fig_name='sp500_regression_NVDA.png', preds=preds)\n",
    "preds, targets = plot_regression([('pcc', 'global', DGT),\n",
    "                            ('pcc', 'local', DGT),\n",
    "                           ('pcc', 'dual', DGT)],\n",
    "                           ['Global Pearson with DGT', 'Local Pearson with DGT', 'Dual Pearson with DGT'], stock_name='JNJ', fig_name='sp500_regression_JNJ.png', preds=preds)"
   ]
  },
  {
   "cell_type": "code",
   "execution_count": 105,
   "metadata": {},
   "outputs": [
    {
     "name": "stdout",
     "output_type": "stream",
     "text": [
      "torch.Size([472, 256])\n"
     ]
    }
   ],
   "source": [
    "targets = torch.stack(targets, dim=1)\n",
    "print(targets.shape)"
   ]
  },
  {
   "cell_type": "code",
   "execution_count": 106,
   "metadata": {},
   "outputs": [
    {
     "name": "stdout",
     "output_type": "stream",
     "text": [
      "dict_keys(['Global Pearson', 'Local Pearson', 'Dual Pearson'])\n",
      "Global < Local < Dual MAE is true for 78, Global wins 114, Local wins 223, Dual wins 135\n",
      "Stocks when Global < Local < Dual MAE\n",
      "['ACGL', 'AFL', 'AIG', 'AMAT', 'ANET', 'APH', 'AVGO', 'AXON', 'AZO', 'BKNG', 'BLDR', 'BRK-B', 'CAH', 'CDNS', 'CI', 'CL', 'CMG', 'COR', 'COST', 'CTAS', 'DECK', 'DHI', 'EG', 'EIX', 'ETN', 'FANG', 'FICO', 'FSLR', 'GWW', 'HBAN', 'HES', 'HIG', 'HLT', 'HUBB', 'IBM', 'IRM', 'JBL', 'JNPR', 'JPM', 'K', 'KLAC', 'LEN', 'LLY', 'LRCX', 'MCK', 'MPC', 'MRK', 'MSFT', 'NRG', 'NVDA', 'NXPI', 'OMC', 'ORCL', 'PANW', 'PCAR', 'PFG', 'PH', 'PHM', 'PKG', 'PSX', 'PWR', 'REGN', 'SBUX', 'SMCI', 'SNA', 'STLD', 'TDG', 'TJX', 'TRGP', 'TRV', 'TT', 'UHS', 'URI', 'VLO', 'VRTX', 'WAB', 'WELL', 'XOM']\n",
      "Stocks when Global wins\n",
      "['ABBV', 'ACGL', 'AFL', 'AIG', 'AJG', 'AMAT', 'AMGN', 'AMP', 'ANET', 'APH', 'AVGO', 'AXON', 'AXP', 'AZO', 'BK', 'BKNG', 'BLDR', 'BRK-B', 'BRO', 'BSX', 'CAH', 'CAT', 'CB', 'CBOE', 'CDNS', 'CI', 'CL', 'CMG', 'COP', 'COR', 'COST', 'CTAS', 'DECK', 'DHI', 'EG', 'EIX', 'ETN', 'FANG', 'FICO', 'FSLR', 'GD', 'GS', 'GWW', 'HBAN', 'HCA', 'HES', 'HIG', 'HLT', 'HUBB', 'IBM', 'IRM', 'IT', 'J', 'JBL', 'JNPR', 'JPM', 'K', 'KKR', 'KLAC', 'LEN', 'LIN', 'LLY', 'LRCX', 'MAR', 'MCK', 'META', 'MLM', 'MOS', 'MPC', 'MPWR', 'MRK', 'MSFT', 'MSI', 'NRG', 'NUE', 'NVDA', 'NVR', 'NXPI', 'OMC', 'ON', 'ORCL', 'ORLY', 'PANW', 'PCAR', 'PFG', 'PGR', 'PH', 'PHM', 'PKG', 'PNR', 'PSX', 'PWR', 'REGN', 'RSG', 'SBUX', 'SHW', 'SMCI', 'SNA', 'SNPS', 'STLD', 'TDG', 'TJX', 'TRGP', 'TRV', 'TT', 'UHS', 'URI', 'VLO', 'VMC', 'VRTX', 'WAB', 'WELL', 'WRB', 'XOM']\n",
      "Stocks when Local wins\n",
      "['A', 'AAL', 'ABT', 'ACN', 'ADBE', 'ADI', 'ADM', 'ADSK', 'AEE', 'AES', 'AIZ', 'AKAM', 'ALB', 'ALL', 'ALLE', 'AMCR', 'AMD', 'AMT', 'AMZN', 'ANSS', 'AON', 'APA', 'ATO', 'AVB', 'AWK', 'BA', 'BAC', 'BBY', 'BEN', 'BF-B', 'BIIB', 'BKR', 'BLK', 'BMY', 'BR', 'BXP', 'C', 'CBRE', 'CCI', 'CE', 'CFG', 'CHD', 'CHRW', 'CHTR', 'CLX', 'CMI', 'CMS', 'CNC', 'CNP', 'CRM', 'CSCO', 'CSGP', 'CTRA', 'D', 'DAL', 'DD', 'DE', 'DGX', 'DHR', 'DLR', 'DLTR', 'DOC', 'DOV', 'DPZ', 'DRI', 'DUK', 'DVA', 'DVN', 'DXCM', 'EBAY', 'ECL', 'EL', 'EMN', 'EMR', 'ENPH', 'EQIX', 'EQR', 'ES', 'ETR', 'EXC', 'EXR', 'F', 'FCX', 'FDS', 'FDX', 'FFIV', 'FIS', 'FITB', 'FRT', 'GE', 'GILD', 'GIS', 'GL', 'GLW', 'GM', 'GOOGL', 'GPC', 'GPN', 'GRMN', 'HAL', 'HAS', 'HII', 'HOLX', 'HON', 'HPQ', 'HSIC', 'HST', 'HSY', 'HUM', 'ICE', 'IDXX', 'INTC', 'INTU', 'IP', 'IPG', 'IQV', 'ISRG', 'ITW', 'JBHT', 'JCI', 'JKHY', 'JNJ', 'KDP', 'KIM', 'KMB', 'KMI', 'KMX', 'KO', 'KR', 'L', 'LDOS', 'LH', 'LHX', 'LKQ', 'LNT', 'LOW', 'LULU', 'LUV', 'LVS', 'MAA', 'MCO', 'MDLZ', 'MKTX', 'MO', 'MRO', 'MSCI', 'MU', 'NDAQ', 'NDSN', 'NEE', 'NEM', 'NFLX', 'NI', 'NKE', 'NOC', 'NOW', 'NSC', 'NTRS', 'NWS', 'O', 'OKE', 'OXY', 'PAYC', 'PAYX', 'PEP', 'PG', 'PLD', 'PM', 'PODD', 'PPG', 'PRU', 'PSA', 'RCL', 'RF', 'RMD', 'ROK', 'ROP', 'ROST', 'RTX', 'RVTY', 'SBAC', 'SCHW', 'SLB', 'SO', 'SRE', 'STE', 'SWKS', 'SYK', 'SYY', 'T', 'TDY', 'TECH', 'TER', 'TFX', 'TMO', 'TPR', 'TRMB', 'TROW', 'TSLA', 'TTWO', 'TXN', 'TXT', 'TYL', 'UAL', 'UDR', 'ULTA', 'UNH', 'UNP', 'UPS', 'USB', 'VRSN', 'VZ', 'WBA', 'WBD', 'WEC', 'WFC', 'WMT', 'WY', 'XEL', 'YUM', 'ZBH', 'ZBRA', 'ZTS']\n",
      "Stocks when Dual wins\n",
      "['AAPL', 'ADP', 'AEP', 'ALGN', 'AME', 'AOS', 'APD', 'APTV', 'ARE', 'AVY', 'BALL', 'BAX', 'BBWI', 'BDX', 'BG', 'BIO', 'BWA', 'BX', 'CAG', 'CCL', 'CDW', 'CF', 'CINF', 'CMCSA', 'CME', 'COF', 'COO', 'CPAY', 'CPB', 'CPRT', 'CPT', 'CRL', 'CSX', 'CTLT', 'CTSH', 'CVS', 'CVX', 'CZR', 'DFS', 'DG', 'DIS', 'DTE', 'EA', 'ED', 'EFX', 'ELV', 'EOG', 'EPAM', 'EQT', 'ESS', 'EVRG', 'EW', 'EXPD', 'EXPE', 'FAST', 'FE', 'FI', 'FMC', 'FTNT', 'GEN', 'GNRC', 'GOOG', 'HD', 'HRL', 'IEX', 'IFF', 'INCY', 'IVZ', 'KEY', 'KEYS', 'LMT', 'LYB', 'LYV', 'MA', 'MAS', 'MCD', 'MCHP', 'MDT', 'MET', 'MGM', 'MHK', 'MKC', 'MMC', 'MMM', 'MNST', 'MOH', 'MS', 'MTB', 'MTCH', 'MTD', 'NCLH', 'NTAP', 'NWSA', 'ODFL', 'PARA', 'PCG', 'PEG', 'PFE', 'PNC', 'PNW', 'POOL', 'PPL', 'PTC', 'QCOM', 'REG', 'RJF', 'RL', 'ROL', 'SJM', 'SPG', 'SPGI', 'STT', 'STX', 'STZ', 'SWK', 'SYF', 'TAP', 'TEL', 'TFC', 'TGT', 'TMUS', 'TSCO', 'TSN', 'V', 'VRSK', 'VTR', 'VTRS', 'WAT', 'WDC', 'WM', 'WMB', 'WST', 'WTW', 'WYNN', 'XYL']\n"
     ]
    }
   ],
   "source": [
    "maes = {}\n",
    "for key, results in preds.items():\n",
    "    results = torch.stack(results, dim=1)\n",
    "    maes[key] = [mae(res, y) for res, y in zip(results, targets)]\n",
    "\n",
    "print(maes.keys())\n",
    "\n",
    "g_count = []\n",
    "l_count = []\n",
    "d_count = []\n",
    "\n",
    "desired_count = []\n",
    "\n",
    "for i, (g, l, d) in enumerate(zip(*maes.values())):\n",
    "    if g < l and g < d and l < d:\n",
    "        desired_count.append(i)\n",
    "    if g < l and g < d:\n",
    "        g_count.append(i)\n",
    "    elif l < g and l < d:\n",
    "        l_count.append(i)\n",
    "    elif d < g and d < l:\n",
    "        d_count.append(i)\n",
    "\n",
    "\n",
    "print(f'Global < Local < Dual MAE is true for {len(desired_count)}, Global wins {len(g_count)}, Local wins {len(l_count)}, Dual wins {len(d_count)}')\n",
    "\n",
    "print(\"Stocks when Global < Local < Dual MAE\")\n",
    "print([(stock_names[i]) for i in desired_count])\n",
    "print(\"Stocks when Global wins\")\n",
    "print([(stock_names[i]) for i in g_count])\n",
    "print(\"Stocks when Local wins\")\n",
    "print([(stock_names[i]) for i in l_count])\n",
    "print(\"Stocks when Dual wins\")\n",
    "print([(stock_names[i]) for i in d_count])"
   ]
  }
 ],
 "metadata": {
  "kernelspec": {
   "display_name": "stock",
   "language": "python",
   "name": "python3"
  },
  "language_info": {
   "codemirror_mode": {
    "name": "ipython",
    "version": 3
   },
   "file_extension": ".py",
   "mimetype": "text/x-python",
   "name": "python",
   "nbconvert_exporter": "python",
   "pygments_lexer": "ipython3",
   "version": "3.12.7"
  }
 },
 "nbformat": 4,
 "nbformat_minor": 2
}
