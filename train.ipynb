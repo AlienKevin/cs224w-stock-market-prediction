{
 "cells": [
  {
   "cell_type": "markdown",
   "metadata": {},
   "source": [
    "# Dataset Construction"
   ]
  },
  {
   "cell_type": "code",
   "execution_count": 10,
   "metadata": {},
   "outputs": [],
   "source": [
    "import numpy as np\n",
    "import pandas as pd\n",
    "from torch_geometric_temporal.signal import StaticGraphTemporalSignal, DynamicGraphTemporalSignal\n",
    "import torch\n",
    "from typing import Union\n",
    "import glob\n",
    "from natsort import natsorted\n",
    "import random\n",
    "\n",
    "random.seed(42)\n",
    "\n",
    "class SP500CorrelationsDatasetLoader(object):\n",
    "    def __init__(self, corr_name, corr_scope):\n",
    "        self._read_csv(corr_name, corr_scope)\n",
    "\n",
    "    def _read_csv(self, corr_name, corr_scope):\n",
    "        match corr_scope:\n",
    "            case 'global':\n",
    "                self._correlation_matrices = [np.loadtxt(f'{corr_name}/{corr_scope}_corr.csv', delimiter=',')]\n",
    "            case 'local':\n",
    "                self._correlation_matrices = []\n",
    "                corr_files = natsorted(glob.glob(f'{corr_name}/local_corr_*.csv'))\n",
    "                for corr_file in corr_files:\n",
    "                    matrix = np.loadtxt(corr_file, delimiter=',')\n",
    "                    self._correlation_matrices.append(matrix)\n",
    "        \n",
    "        df = pd.read_csv('s&p500.csv')\n",
    "        df = df.set_index('Date')\n",
    "        data = torch.from_numpy(df.to_numpy()).to(torch.float32)\n",
    "\n",
    "        # Round data size to nearest multiple of batch_size\n",
    "        self.days_in_quarter = 64\n",
    "        num_quarters = data.size(0) // self.days_in_quarter\n",
    "        num_days = num_quarters * self.days_in_quarter\n",
    "        data = data[:num_days]\n",
    "        \n",
    "        # z-score normalization with training data following GERU\n",
    "        train_days = int(0.8 * num_quarters) * self.days_in_quarter\n",
    "        data = (data - data[:train_days].mean(dim=0)) / data[:train_days].std(dim=0)\n",
    "        data = data.numpy()\n",
    "\n",
    "        data = data[..., np.newaxis]\n",
    "\n",
    "        # # Add percent change features\n",
    "        # p_chg = data / np.roll(data, 1, axis=0) - 1\n",
    "        # p_chg[0] = 0.0\n",
    "        # p_chg_3 = data / np.roll(data, 3, axis=0) - 1\n",
    "        # p_chg_3[0:3] = 0.0\n",
    "        # p_chg_6 = data / np.roll(data, 6, axis=0) - 1\n",
    "        # p_chg_6[0:6] = 0.0\n",
    "\n",
    "        # data = np.stack([data, p_chg, p_chg_3, p_chg_6], axis=-1)\n",
    "        # print('data.shape', data.shape)\n",
    "\n",
    "        assert(not np.any(np.isnan(data)))\n",
    "        self._dataset = data\n",
    "\n",
    "    def _get_edges(self, times, overlap):\n",
    "        if len(self._correlation_matrices) == 1:\n",
    "            _edges = np.array(np.ones_like(self._correlation_matrices[0]).nonzero())\n",
    "        else:\n",
    "            _edges = []\n",
    "            for time in range(0, self._dataset.shape[0] - self.batch_size, overlap):\n",
    "                if not time in times:\n",
    "                    continue\n",
    "                corr_index = max(0, time // self.days_in_quarter - 1)\n",
    "                _edges.append(\n",
    "                    np.array(np.ones_like(self._correlation_matrices[corr_index]).nonzero())\n",
    "                )\n",
    "        return _edges\n",
    "\n",
    "    def _get_edge_weights(self, times, overlap):\n",
    "        if len(self._correlation_matrices) == 1:\n",
    "            _edge_weights = self._correlation_matrices[0].flatten()\n",
    "        else:\n",
    "            _edge_weights = []\n",
    "            for time in range(0, self._dataset.shape[0] - self.batch_size, overlap):\n",
    "                if not time in times:\n",
    "                    continue\n",
    "                corr_index = max(0, time // self.days_in_quarter - 1)\n",
    "                _edge_weights.append(\n",
    "                    np.array(self._correlation_matrices[corr_index]).flatten()\n",
    "                )\n",
    "        return _edge_weights\n",
    "\n",
    "    def _get_targets_and_features(self, times, overlap, predict_all):\n",
    "        features = [\n",
    "            self._dataset[i : i + self.batch_size, :]\n",
    "            for i in range(0, self._dataset.shape[0] - self.batch_size, overlap)\n",
    "            if i in times\n",
    "        ]\n",
    "        # predict next-day stock prices\n",
    "        targets = [\n",
    "            (self._dataset[i+1 : i + self.batch_size+1, :, 0]).T if predict_all else (self._dataset[i + self.batch_size, :, 0]).T\n",
    "            for i in range(0, self._dataset.shape[0] - self.batch_size, overlap)\n",
    "            if i in times\n",
    "        ]\n",
    "        return features, targets\n",
    "\n",
    "    def get_dataset(self, batch_size, split) -> Union[StaticGraphTemporalSignal, DynamicGraphTemporalSignal]:\n",
    "        \"\"\"Returning the data iterator.\n",
    "        \"\"\"\n",
    "        self.batch_size = batch_size\n",
    "\n",
    "        total_times = list(range(0, self._dataset.shape[0] - self.batch_size, self.batch_size))\n",
    "\n",
    "        if split == 'train':\n",
    "            times = list(range(0, total_times[int(len(total_times) * 0.8)]))\n",
    "            overlap = self.batch_size\n",
    "            predict_all = True\n",
    "        elif split == 'val':\n",
    "            times = list(range(total_times[int(len(total_times) * 0.8)], total_times[int(len(total_times) * 0.9)]))\n",
    "            overlap = 1\n",
    "            predict_all = False\n",
    "        elif split == 'test':\n",
    "            times = list(range(total_times[int(len(total_times) * 0.9)], total_times[-1] + self.batch_size))\n",
    "            overlap = 1\n",
    "            predict_all = False\n",
    "        else:\n",
    "            raise ValueError(f'Invalid split name: {split}')\n",
    "\n",
    "        _edges = self._get_edges(times, overlap)\n",
    "        _edge_weights = self._get_edge_weights(times, overlap)\n",
    "        features, targets = self._get_targets_and_features(times, overlap, predict_all)\n",
    "        dataset = (DynamicGraphTemporalSignal if type(_edges) == list else StaticGraphTemporalSignal)(\n",
    "            _edges, _edge_weights, features, targets\n",
    "        )\n",
    "        return dataset"
   ]
  },
  {
   "cell_type": "code",
   "execution_count": 11,
   "metadata": {},
   "outputs": [
    {
     "name": "stdout",
     "output_type": "stream",
     "text": [
      "data.shape (2496, 472, 1)\n"
     ]
    }
   ],
   "source": [
    "# device = torch.device(\"cuda\" if torch.cuda.is_available() else \"mps\" if torch.backends.mps.is_available() else \"cpu\")\n",
    "device = 'cpu'\n",
    "\n",
    "corr_name = 'mi'\n",
    "corr_scope = 'global'\n",
    "loader = SP500CorrelationsDatasetLoader(corr_name=corr_name, corr_scope=corr_scope)\n",
    "\n",
    "lag_size = 64\n",
    "train_dataset = loader.get_dataset(batch_size=lag_size * 2, split='train')\n",
    "val_dataset = loader.get_dataset(batch_size=lag_size, split='val')\n",
    "test_dataset = loader.get_dataset(batch_size=lag_size, split='test')"
   ]
  },
  {
   "cell_type": "code",
   "execution_count": 12,
   "metadata": {},
   "outputs": [
    {
     "name": "stdout",
     "output_type": "stream",
     "text": [
      "15\n",
      "15\n",
      "256\n",
      "256\n",
      "256\n",
      "256\n"
     ]
    }
   ],
   "source": [
    "print(len(train_dataset.features))\n",
    "print(len(train_dataset.targets))\n",
    "print(len(val_dataset.features))\n",
    "print(len(val_dataset.targets))\n",
    "print(len(test_dataset.features))\n",
    "print(len(test_dataset.targets))"
   ]
  },
  {
   "cell_type": "markdown",
   "metadata": {},
   "source": [
    "# Differential Graph Transformer"
   ]
  },
  {
   "cell_type": "code",
   "execution_count": 13,
   "metadata": {},
   "outputs": [],
   "source": [
    "import torch\n",
    "from torch_geometric.utils import to_dense_adj\n",
    "from torch_geometric.nn.conv import MessagePassing\n",
    "import torch.nn as nn\n",
    "import torch.nn.functional as F\n",
    "\n",
    "\n",
    "class DGAttn(MessagePassing):\n",
    "    r\"\"\"An implementation of the Diffusion Convolution Layer.\n",
    "    For details see: `\"Diffusion Convolutional Recurrent Neural Network:\n",
    "    Data-Driven Traffic Forecasting\" <https://arxiv.org/abs/1707.01926>`_\n",
    "\n",
    "    Args:\n",
    "        in_channels (int): Number of input features.\n",
    "        out_channels (int): Number of output features.\n",
    "        K (int): Filter size :math:`K`.\n",
    "        bias (bool, optional): If set to :obj:`False`, the layer\n",
    "            will not learn an additive bias (default :obj:`True`).\n",
    "\n",
    "    \"\"\"\n",
    "\n",
    "    def __init__(self, in_channels, out_channels, num_heads=1, diff_attn=True):\n",
    "        super(DGAttn, self).__init__(aggr=\"add\", flow=\"source_to_target\")\n",
    "        self.in_channels = in_channels\n",
    "        self.out_channels = out_channels\n",
    "        self.num_heads = num_heads\n",
    "        self.head_dim = out_channels // self.num_heads\n",
    "        self.diff_attn = diff_attn\n",
    "        if self.diff_attn:\n",
    "            self.Q = nn.Linear(in_channels, out_channels)\n",
    "            self.K = nn.Linear(in_channels, out_channels)\n",
    "        self.V = nn.Linear(in_channels, out_channels)\n",
    "        self.ffn = nn.Linear(out_channels, out_channels)\n",
    "        self.ln = nn.RMSNorm(self.head_dim, eps=1e-5, elementwise_affine=True)\n",
    "\n",
    "        if self.diff_attn:\n",
    "            self.lambda_init = 0.2\n",
    "            self.lambda_q1 = nn.Parameter(torch.zeros(self.head_dim, dtype=torch.float32).normal_(mean=0,std=0.1))\n",
    "            self.lambda_k1 = nn.Parameter(torch.zeros(self.head_dim, dtype=torch.float32).normal_(mean=0,std=0.1))\n",
    "            self.lambda_q2 = nn.Parameter(torch.zeros(self.head_dim, dtype=torch.float32).normal_(mean=0,std=0.1))\n",
    "            self.lambda_k2 = nn.Parameter(torch.zeros(self.head_dim, dtype=torch.float32).normal_(mean=0,std=0.1))\n",
    "\n",
    "        # self.__reset_parameters()\n",
    "\n",
    "    # def __reset_parameters(self):\n",
    "        # torch.nn.init.xavier_uniform_(self.V)\n",
    "\n",
    "    def message(self, x_j, norm):\n",
    "        return norm.view(-1, 1) * x_j\n",
    "\n",
    "    def forward(\n",
    "        self,\n",
    "        X: torch.FloatTensor,\n",
    "        edge_index: torch.LongTensor,\n",
    "        edge_weight: torch.FloatTensor,\n",
    "    ) -> torch.FloatTensor:\n",
    "        r\"\"\"Making a forward pass. If edge weights are not present the forward pass\n",
    "        defaults to an unweighted graph.\n",
    "\n",
    "        Arg types:\n",
    "            * **X** (PyTorch Float Tensor) - Node features.\n",
    "            * **edge_index** (PyTorch Long Tensor) - Graph edge indices.\n",
    "            * **edge_weight** (PyTorch Long Tensor, optional) - Edge weight vector.\n",
    "\n",
    "        Return types:\n",
    "            * **H** (PyTorch Float Tensor) - Hidden state matrix for all nodes.\n",
    "        \"\"\"\n",
    "        A = to_dense_adj(edge_index, edge_attr=edge_weight).squeeze()\n",
    "        a1 = F.softmax(A, dim=-1)\n",
    "        if self.diff_attn:\n",
    "            q = self.Q(X)\n",
    "            k = self.K(X)\n",
    "            a2 = F.softmax(torch.matmul(q, k.transpose(-1, -2)) * (self.head_dim ** -0.5), dim=-1)\n",
    "            lambda_1 = torch.exp(torch.sum(self.lambda_q1 * self.lambda_k1, dim=-1).float()).type_as(q)\n",
    "            lambda_2 = torch.exp(torch.sum(self.lambda_q2 * self.lambda_k2, dim=-1).float()).type_as(q)\n",
    "            lambda_full = lambda_1 - lambda_2 + self.lambda_init\n",
    "            a = a1 - lambda_full * a2\n",
    "        else:\n",
    "            a = a1\n",
    "        v = self.V(X)\n",
    "        attn = torch.matmul(a, v)\n",
    "        attn = self.ln(attn)\n",
    "        if self.diff_attn:\n",
    "            attn = attn * (1 - self.lambda_init)\n",
    "        attn = self.ffn(attn)\n",
    "        return attn\n",
    "\n",
    "\n",
    "class DGRNN(torch.nn.Module):\n",
    "    r\"\"\"An implementation of the Diffusion Convolutional Gated Recurrent Unit.\n",
    "    For details see: `\"Diffusion Convolutional Recurrent Neural Network:\n",
    "    Data-Driven Traffic Forecasting\" <https://arxiv.org/abs/1707.01926>`_\n",
    "\n",
    "    Args:\n",
    "        in_channels (int): Number of input features.\n",
    "        out_channels (int): Number of output features.\n",
    "        num_heads (int): Number of attention heads.\n",
    "    \"\"\"\n",
    "\n",
    "    def __init__(self, in_channels: int, out_channels: int, num_heads: int, diff_attn: bool):\n",
    "        super(DGRNN, self).__init__()\n",
    "\n",
    "        self.in_channels = in_channels\n",
    "        self.out_channels = out_channels\n",
    "        self.num_heads = num_heads\n",
    "        self.diff_attn = diff_attn,\n",
    "\n",
    "        self._create_parameters_and_layers()\n",
    "\n",
    "    def _create_update_gate_parameters_and_layers(self):\n",
    "        self.conv_x_z = DGAttn(\n",
    "            in_channels=self.in_channels + self.out_channels,\n",
    "            out_channels=self.out_channels,\n",
    "            num_heads=self.num_heads,\n",
    "            diff_attn=self.diff_attn,\n",
    "        )\n",
    "\n",
    "    def _create_reset_gate_parameters_and_layers(self):\n",
    "        self.conv_x_r = DGAttn(\n",
    "            in_channels=self.in_channels + self.out_channels,\n",
    "            out_channels=self.out_channels,\n",
    "            num_heads=self.num_heads,\n",
    "            diff_attn=self.diff_attn,\n",
    "        )\n",
    "\n",
    "    def _create_candidate_state_parameters_and_layers(self):\n",
    "        self.conv_x_h = DGAttn(\n",
    "            in_channels=self.in_channels + self.out_channels,\n",
    "            out_channels=self.out_channels,\n",
    "            num_heads=self.num_heads,\n",
    "            diff_attn=self.diff_attn,\n",
    "        )\n",
    "\n",
    "    def _create_parameters_and_layers(self):\n",
    "        self._create_update_gate_parameters_and_layers()\n",
    "        self._create_reset_gate_parameters_and_layers()\n",
    "        self._create_candidate_state_parameters_and_layers()\n",
    "\n",
    "    def _set_hidden_state(self, X, H):\n",
    "        if H is None:\n",
    "            H = torch.zeros(X.shape[0], self.out_channels).to(X.device)\n",
    "        return H\n",
    "\n",
    "    def _calculate_update_gate(self, X, edge_index, edge_weight, H):\n",
    "        Z = torch.cat([X, H], dim=1)\n",
    "        Z = self.conv_x_z(Z, edge_index, edge_weight)\n",
    "        Z = torch.sigmoid(Z)\n",
    "        return Z\n",
    "\n",
    "    def _calculate_reset_gate(self, X, edge_index, edge_weight, H):\n",
    "        R = torch.cat([X, H], dim=1)\n",
    "        R = self.conv_x_r(R, edge_index, edge_weight)\n",
    "        R = torch.sigmoid(R)\n",
    "        return R\n",
    "\n",
    "    def _calculate_candidate_state(self, X, edge_index, edge_weight, H, R):\n",
    "        H_tilde = torch.cat([X, H * R], dim=1)\n",
    "        H_tilde = self.conv_x_h(H_tilde, edge_index, edge_weight)\n",
    "        H_tilde = torch.tanh(H_tilde)\n",
    "        return H_tilde\n",
    "\n",
    "    def _calculate_hidden_state(self, Z, H, H_tilde):\n",
    "        H = Z * H + (1 - Z) * H_tilde\n",
    "        return H\n",
    "\n",
    "    def forward(\n",
    "        self,\n",
    "        X: torch.FloatTensor,\n",
    "        edge_index: torch.LongTensor,\n",
    "        edge_weight: torch.FloatTensor = None,\n",
    "        H: torch.FloatTensor = None,\n",
    "    ) -> torch.FloatTensor:\n",
    "        r\"\"\"Making a forward pass. If edge weights are not present the forward pass\n",
    "        defaults to an unweighted graph. If the hidden state matrix is not present\n",
    "        when the forward pass is called it is initialized with zeros.\n",
    "\n",
    "        Arg types:\n",
    "            * **X** (PyTorch Float Tensor) - Node features.\n",
    "            * **edge_index** (PyTorch Long Tensor) - Graph edge indices.\n",
    "            * **edge_weight** (PyTorch Long Tensor, optional) - Edge weight vector.\n",
    "            * **H** (PyTorch Float Tensor, optional) - Hidden state matrix for all nodes.\n",
    "\n",
    "        Return types:\n",
    "            * **H** (PyTorch Float Tensor) - Hidden state matrix for all nodes.\n",
    "        \"\"\"\n",
    "        H = self._set_hidden_state(X, H)\n",
    "        # print('X.shape', X.shape)\n",
    "        # print('H.shape', H.shape)\n",
    "        Z = self._calculate_update_gate(X, edge_index, edge_weight, H)\n",
    "        R = self._calculate_reset_gate(X, edge_index, edge_weight, H)\n",
    "        H_tilde = self._calculate_candidate_state(X, edge_index, edge_weight, H, R)\n",
    "        H = self._calculate_hidden_state(Z, H, H_tilde)\n",
    "        return H\n"
   ]
  },
  {
   "cell_type": "markdown",
   "metadata": {},
   "source": [
    "# Plain RNN"
   ]
  },
  {
   "cell_type": "code",
   "execution_count": 14,
   "metadata": {},
   "outputs": [],
   "source": [
    "class GRU(torch.nn.Module):\n",
    "    def __init__(self, in_channels: int, out_channels: int):\n",
    "        super(GRU, self).__init__()\n",
    "        self.rnn = nn.GRU(input_size=in_channels, hidden_size=out_channels, num_layers=2, batch_first=True)\n",
    "\n",
    "    def forward(\n",
    "        self,\n",
    "        X: torch.FloatTensor,\n",
    "        edge_index: torch.LongTensor,\n",
    "        edge_weight: torch.FloatTensor = None,\n",
    "        H: torch.FloatTensor = None,\n",
    "    ) -> torch.FloatTensor:\n",
    "        outputs, _ = self.rnn(X, H)\n",
    "        return outputs"
   ]
  },
  {
   "cell_type": "markdown",
   "metadata": {},
   "source": [
    "# RGCN"
   ]
  },
  {
   "cell_type": "code",
   "execution_count": 15,
   "metadata": {},
   "outputs": [],
   "source": [
    "import torch\n",
    "import torch.nn.functional as F\n",
    "\n",
    "class RecurrentGNN(torch.nn.Module):\n",
    "    def __init__(self, gnn, node_features, hidden_size=32, **kwargs):\n",
    "        super(RecurrentGNN, self).__init__()\n",
    "        if gnn.__name__ == \"DCRNN\":\n",
    "            self.recurrent = gnn(in_channels=node_features, out_channels=hidden_size, **kwargs)\n",
    "        elif gnn.__name__ == \"DGRNN\":\n",
    "            self.recurrent = gnn(in_channels=node_features, out_channels=hidden_size, **kwargs)\n",
    "        elif gnn.__name__ == \"GRU\":\n",
    "            self.recurrent = gnn(in_channels=node_features, out_channels=hidden_size, **kwargs)\n",
    "        else:\n",
    "            raise ValueError(f\"Invalid GNN type {gnn.__name__}\")\n",
    "        self.linear = torch.nn.Linear(hidden_size, 1)\n",
    "\n",
    "    def forward(self, x, edge_index, edge_weight, hidden):\n",
    "        outputs = self.recurrent(x, edge_index, edge_weight, hidden)\n",
    "        return self.linear(F.relu(outputs))"
   ]
  },
  {
   "cell_type": "code",
   "execution_count": 16,
   "metadata": {},
   "outputs": [],
   "source": [
    "import math\n",
    "\n",
    "def rmse(y_hat, y):\n",
    "    return math.sqrt(F.mse_loss(y_hat, y).item())\n",
    "\n",
    "def mae(y_hat, y):\n",
    "    return F.l1_loss(y_hat, y).item()"
   ]
  },
  {
   "cell_type": "code",
   "execution_count": 17,
   "metadata": {},
   "outputs": [],
   "source": [
    "import wandb\n",
    "\n",
    "def eval(epoch, model, eval_dataset, eval_name):\n",
    "    model.eval()\n",
    "    with torch.no_grad():\n",
    "        y_hats = []\n",
    "        ys = []\n",
    "        for snapshot in eval_dataset:\n",
    "            X = snapshot.x.to(device)\n",
    "            batch_y_hats = model(X.transpose(0, 1), snapshot.edge_index.to(device), snapshot.edge_attr.to(device), hidden=None)\n",
    "            y_hats.append(batch_y_hats[:, -1])\n",
    "            ys.append(snapshot.y.to(device))\n",
    "        y_hats, ys = torch.cat(y_hats, dim=0).squeeze().to(device), torch.cat(ys, dim=0).to(device)\n",
    "        eval_rmse = rmse(y_hats, ys)\n",
    "        eval_mae = mae(y_hats, ys)\n",
    "        wandb.log({\"epoch\": epoch,\n",
    "                f\"{eval_name}/rmse\": eval_rmse,\n",
    "                f\"{eval_name}/mae\": eval_mae })\n",
    "        print(f'Epoch {epoch}, {eval_name}/rmse: {eval_rmse}, {eval_name}/mae: {eval_mae}')\n",
    "        return (eval_rmse, eval_mae)"
   ]
  },
  {
   "cell_type": "code",
   "execution_count": 18,
   "metadata": {},
   "outputs": [
    {
     "data": {
      "text/html": [
       "Finishing last run (ID:is4xflvp) before initializing another..."
      ],
      "text/plain": [
       "<IPython.core.display.HTML object>"
      ]
     },
     "metadata": {},
     "output_type": "display_data"
    },
    {
     "data": {
      "text/html": [
       "<style>\n",
       "    table.wandb td:nth-child(1) { padding: 0 10px; text-align: left ; width: auto;} td:nth-child(2) {text-align: left ; width: 100%}\n",
       "    .wandb-row { display: flex; flex-direction: row; flex-wrap: wrap; justify-content: flex-start; width: 100% }\n",
       "    .wandb-col { display: flex; flex-direction: column; flex-basis: 100%; flex: 1; padding: 10px; }\n",
       "    </style>\n",
       "<div class=\"wandb-row\"><div class=\"wandb-col\"><h3>Run history:</h3><br/><table class=\"wandb\"><tr><td>epoch</td><td>▁▁▂▂▂▂▃▃▃▃▄▄▅▅▅▅▆▆▆▆▇▇▇▇█</td></tr><tr><td>step</td><td>▁▂▂▃▃▄▅▅▆▆▇▇█</td></tr><tr><td>train/loss</td><td>█▇▇▆▆▅▅▄▃▃▂▂▁</td></tr><tr><td>val/mae</td><td>█▇▇▆▆▅▅▄▃▃▂▁</td></tr><tr><td>val/rmse</td><td>█▇▇▆▆▅▅▄▃▂▂▁</td></tr></table><br/></div><div class=\"wandb-col\"><h3>Run summary:</h3><br/><table class=\"wandb\"><tr><td>epoch</td><td>12</td></tr><tr><td>step</td><td>180</td></tr><tr><td>train/loss</td><td>0.74188</td></tr><tr><td>val/mae</td><td>1.33227</td></tr><tr><td>val/rmse</td><td>1.72539</td></tr></table><br/></div></div>"
      ],
      "text/plain": [
       "<IPython.core.display.HTML object>"
      ]
     },
     "metadata": {},
     "output_type": "display_data"
    },
    {
     "data": {
      "text/html": [
       " View run <strong style=\"color:#cdcd00\">fancy-dragon-192</strong> at: <a href='https://wandb.ai/kevinxli/cs224w-stock-market-prediction/runs/is4xflvp' target=\"_blank\">https://wandb.ai/kevinxli/cs224w-stock-market-prediction/runs/is4xflvp</a><br/> View project at: <a href='https://wandb.ai/kevinxli/cs224w-stock-market-prediction' target=\"_blank\">https://wandb.ai/kevinxli/cs224w-stock-market-prediction</a><br/>Synced 5 W&B file(s), 0 media file(s), 2 artifact file(s) and 0 other file(s)"
      ],
      "text/plain": [
       "<IPython.core.display.HTML object>"
      ]
     },
     "metadata": {},
     "output_type": "display_data"
    },
    {
     "data": {
      "text/html": [
       "Find logs at: <code>./wandb/run-20241208_153503-is4xflvp/logs</code>"
      ],
      "text/plain": [
       "<IPython.core.display.HTML object>"
      ]
     },
     "metadata": {},
     "output_type": "display_data"
    },
    {
     "data": {
      "text/html": [
       "Successfully finished last run (ID:is4xflvp). Initializing new run:<br/>"
      ],
      "text/plain": [
       "<IPython.core.display.HTML object>"
      ]
     },
     "metadata": {},
     "output_type": "display_data"
    },
    {
     "data": {
      "text/html": [
       "Tracking run with wandb version 0.18.5"
      ],
      "text/plain": [
       "<IPython.core.display.HTML object>"
      ]
     },
     "metadata": {},
     "output_type": "display_data"
    },
    {
     "data": {
      "text/html": [
       "Run data is saved locally in <code>/Volumes/crucialx9/classes/fall2024/cs224w/stock/wandb/run-20241208_153749-maxsau57</code>"
      ],
      "text/plain": [
       "<IPython.core.display.HTML object>"
      ]
     },
     "metadata": {},
     "output_type": "display_data"
    },
    {
     "data": {
      "text/html": [
       "Syncing run <strong><a href='https://wandb.ai/kevinxli/cs224w-stock-market-prediction/runs/maxsau57' target=\"_blank\">mild-salad-193</a></strong> to <a href='https://wandb.ai/kevinxli/cs224w-stock-market-prediction' target=\"_blank\">Weights & Biases</a> (<a href='https://wandb.me/run' target=\"_blank\">docs</a>)<br/>"
      ],
      "text/plain": [
       "<IPython.core.display.HTML object>"
      ]
     },
     "metadata": {},
     "output_type": "display_data"
    },
    {
     "data": {
      "text/html": [
       " View project at <a href='https://wandb.ai/kevinxli/cs224w-stock-market-prediction' target=\"_blank\">https://wandb.ai/kevinxli/cs224w-stock-market-prediction</a>"
      ],
      "text/plain": [
       "<IPython.core.display.HTML object>"
      ]
     },
     "metadata": {},
     "output_type": "display_data"
    },
    {
     "data": {
      "text/html": [
       " View run at <a href='https://wandb.ai/kevinxli/cs224w-stock-market-prediction/runs/maxsau57' target=\"_blank\">https://wandb.ai/kevinxli/cs224w-stock-market-prediction/runs/maxsau57</a>"
      ],
      "text/plain": [
       "<IPython.core.display.HTML object>"
      ]
     },
     "metadata": {},
     "output_type": "display_data"
    },
    {
     "name": "stderr",
     "output_type": "stream",
     "text": [
      "Epoch 0: 100%|██████████| 1/1 [00:02<00:00,  2.66s/it]\n"
     ]
    },
    {
     "name": "stdout",
     "output_type": "stream",
     "text": [
      "Epoch 0, val/rmse: 1.6795894150595054, val/mae: 1.280681848526001\n"
     ]
    },
    {
     "name": "stderr",
     "output_type": "stream",
     "text": [
      "Epoch 1: 100%|██████████| 1/1 [00:02<00:00,  2.40s/it]\n"
     ]
    },
    {
     "name": "stdout",
     "output_type": "stream",
     "text": [
      "Epoch 1, val/rmse: 1.5167575812426184, val/mae: 1.110804796218872\n"
     ]
    },
    {
     "name": "stderr",
     "output_type": "stream",
     "text": [
      "Epoch 2: 100%|██████████| 1/1 [00:02<00:00,  2.52s/it]\n"
     ]
    },
    {
     "name": "stdout",
     "output_type": "stream",
     "text": [
      "Epoch 2, val/rmse: 1.3325668108510638, val/mae: 0.8893771171569824\n"
     ]
    },
    {
     "name": "stderr",
     "output_type": "stream",
     "text": [
      "Epoch 3: 100%|██████████| 1/1 [00:02<00:00,  2.74s/it]\n"
     ]
    },
    {
     "name": "stdout",
     "output_type": "stream",
     "text": [
      "Epoch 3, val/rmse: 1.1632873207072225, val/mae: 0.6498034596443176\n"
     ]
    },
    {
     "name": "stderr",
     "output_type": "stream",
     "text": [
      "Epoch 4: 100%|██████████| 1/1 [00:02<00:00,  2.36s/it]\n"
     ]
    },
    {
     "name": "stdout",
     "output_type": "stream",
     "text": [
      "Epoch 4, val/rmse: 1.0708684660693413, val/mae: 0.5682592391967773\n"
     ]
    },
    {
     "name": "stderr",
     "output_type": "stream",
     "text": [
      "Epoch 5: 100%|██████████| 1/1 [00:02<00:00,  2.31s/it]\n"
     ]
    },
    {
     "name": "stdout",
     "output_type": "stream",
     "text": [
      "Epoch 5, val/rmse: 1.0522616144084467, val/mae: 0.5928544998168945\n"
     ]
    },
    {
     "name": "stderr",
     "output_type": "stream",
     "text": [
      "Epoch 6: 100%|██████████| 1/1 [00:02<00:00,  2.40s/it]\n"
     ]
    },
    {
     "name": "stdout",
     "output_type": "stream",
     "text": [
      "Epoch 6, val/rmse: 1.0368840606827032, val/mae: 0.5831014513969421\n"
     ]
    },
    {
     "name": "stderr",
     "output_type": "stream",
     "text": [
      "Epoch 7: 100%|██████████| 1/1 [00:02<00:00,  2.46s/it]\n"
     ]
    },
    {
     "name": "stdout",
     "output_type": "stream",
     "text": [
      "Epoch 7, val/rmse: 1.008340682378633, val/mae: 0.5220925807952881\n"
     ]
    },
    {
     "name": "stderr",
     "output_type": "stream",
     "text": [
      "Epoch 8: 100%|██████████| 1/1 [00:02<00:00,  2.33s/it]\n"
     ]
    },
    {
     "name": "stdout",
     "output_type": "stream",
     "text": [
      "Epoch 8, val/rmse: 1.0041229370430311, val/mae: 0.4656895697116852\n"
     ]
    },
    {
     "name": "stderr",
     "output_type": "stream",
     "text": [
      "Epoch 9: 100%|██████████| 1/1 [00:02<00:00,  2.56s/it]\n"
     ]
    },
    {
     "name": "stdout",
     "output_type": "stream",
     "text": [
      "Epoch 9, val/rmse: 1.057571818751484, val/mae: 0.5597987771034241\n"
     ]
    },
    {
     "name": "stderr",
     "output_type": "stream",
     "text": [
      "Epoch 10: 100%|██████████| 1/1 [00:02<00:00,  2.60s/it]\n"
     ]
    },
    {
     "name": "stdout",
     "output_type": "stream",
     "text": [
      "Epoch 10, val/rmse: 1.0699336920005909, val/mae: 0.5941886305809021\n"
     ]
    },
    {
     "name": "stderr",
     "output_type": "stream",
     "text": [
      "Epoch 11: 100%|██████████| 1/1 [00:02<00:00,  2.80s/it]\n"
     ]
    },
    {
     "name": "stdout",
     "output_type": "stream",
     "text": [
      "Epoch 11, val/rmse: 1.037263388252418, val/mae: 0.5478986501693726\n"
     ]
    },
    {
     "name": "stderr",
     "output_type": "stream",
     "text": [
      "Epoch 12: 100%|██████████| 1/1 [00:02<00:00,  2.41s/it]\n"
     ]
    },
    {
     "name": "stdout",
     "output_type": "stream",
     "text": [
      "Epoch 12, val/rmse: 0.9907424195312691, val/mae: 0.4631049633026123\n"
     ]
    },
    {
     "name": "stderr",
     "output_type": "stream",
     "text": [
      "Epoch 13: 100%|██████████| 1/1 [00:02<00:00,  2.36s/it]\n"
     ]
    },
    {
     "name": "stdout",
     "output_type": "stream",
     "text": [
      "Epoch 13, val/rmse: 0.9523008566906509, val/mae: 0.3920777440071106\n"
     ]
    },
    {
     "name": "stderr",
     "output_type": "stream",
     "text": [
      "Epoch 14: 100%|██████████| 1/1 [00:02<00:00,  2.22s/it]\n"
     ]
    },
    {
     "name": "stdout",
     "output_type": "stream",
     "text": [
      "Epoch 14, val/rmse: 0.928930663741676, val/mae: 0.38553139567375183\n"
     ]
    },
    {
     "name": "stderr",
     "output_type": "stream",
     "text": [
      "Epoch 15: 100%|██████████| 1/1 [00:02<00:00,  2.38s/it]\n"
     ]
    },
    {
     "name": "stdout",
     "output_type": "stream",
     "text": [
      "Epoch 15, val/rmse: 0.9180417944883049, val/mae: 0.4042925536632538\n"
     ]
    },
    {
     "name": "stderr",
     "output_type": "stream",
     "text": [
      "Epoch 16: 100%|██████████| 1/1 [00:02<00:00,  2.36s/it]\n"
     ]
    },
    {
     "name": "stdout",
     "output_type": "stream",
     "text": [
      "Epoch 16, val/rmse: 0.9118568675360794, val/mae: 0.41678929328918457\n"
     ]
    },
    {
     "name": "stderr",
     "output_type": "stream",
     "text": [
      "Epoch 17: 100%|██████████| 1/1 [00:02<00:00,  2.80s/it]\n"
     ]
    },
    {
     "name": "stdout",
     "output_type": "stream",
     "text": [
      "Epoch 17, val/rmse: 0.9033035854131193, val/mae: 0.40836870670318604\n"
     ]
    },
    {
     "name": "stderr",
     "output_type": "stream",
     "text": [
      "Epoch 18: 100%|██████████| 1/1 [00:02<00:00,  2.47s/it]\n"
     ]
    },
    {
     "name": "stdout",
     "output_type": "stream",
     "text": [
      "Epoch 18, val/rmse: 0.8915361127615478, val/mae: 0.37841200828552246\n"
     ]
    },
    {
     "name": "stderr",
     "output_type": "stream",
     "text": [
      "Epoch 19: 100%|██████████| 1/1 [00:02<00:00,  2.33s/it]\n"
     ]
    },
    {
     "name": "stdout",
     "output_type": "stream",
     "text": [
      "Epoch 19, val/rmse: 0.8819530320604667, val/mae: 0.33890652656555176\n"
     ]
    },
    {
     "name": "stderr",
     "output_type": "stream",
     "text": [
      "Epoch 20: 100%|██████████| 1/1 [00:02<00:00,  2.46s/it]\n"
     ]
    },
    {
     "name": "stdout",
     "output_type": "stream",
     "text": [
      "Epoch 20, val/rmse: 0.8798338001076795, val/mae: 0.31494179368019104\n"
     ]
    },
    {
     "name": "stderr",
     "output_type": "stream",
     "text": [
      "Epoch 21: 100%|██████████| 1/1 [00:02<00:00,  2.43s/it]\n"
     ]
    },
    {
     "name": "stdout",
     "output_type": "stream",
     "text": [
      "Epoch 21, val/rmse: 0.8828511525022311, val/mae: 0.33097848296165466\n"
     ]
    },
    {
     "name": "stderr",
     "output_type": "stream",
     "text": [
      "Epoch 22: 100%|██████████| 1/1 [00:02<00:00,  2.49s/it]\n"
     ]
    },
    {
     "name": "stdout",
     "output_type": "stream",
     "text": [
      "Epoch 22, val/rmse: 0.8827222592303682, val/mae: 0.3464357554912567\n"
     ]
    },
    {
     "name": "stderr",
     "output_type": "stream",
     "text": [
      "Epoch 23: 100%|██████████| 1/1 [00:02<00:00,  2.43s/it]\n"
     ]
    },
    {
     "name": "stdout",
     "output_type": "stream",
     "text": [
      "Epoch 23, val/rmse: 0.8745979679755754, val/mae: 0.3363317847251892\n"
     ]
    },
    {
     "name": "stderr",
     "output_type": "stream",
     "text": [
      "Epoch 24: 100%|██████████| 1/1 [00:02<00:00,  2.47s/it]\n"
     ]
    },
    {
     "name": "stdout",
     "output_type": "stream",
     "text": [
      "Epoch 24, val/rmse: 0.8601787969560145, val/mae: 0.306037575006485\n"
     ]
    },
    {
     "name": "stderr",
     "output_type": "stream",
     "text": [
      "Epoch 25: 100%|██████████| 1/1 [00:02<00:00,  2.53s/it]\n"
     ]
    },
    {
     "name": "stdout",
     "output_type": "stream",
     "text": [
      "Epoch 25, val/rmse: 0.8446017310897789, val/mae: 0.2750967741012573\n"
     ]
    },
    {
     "name": "stderr",
     "output_type": "stream",
     "text": [
      "Epoch 26: 100%|██████████| 1/1 [00:02<00:00,  2.84s/it]\n"
     ]
    },
    {
     "name": "stdout",
     "output_type": "stream",
     "text": [
      "Epoch 26, val/rmse: 0.8326544778138907, val/mae: 0.2696090042591095\n"
     ]
    },
    {
     "name": "stderr",
     "output_type": "stream",
     "text": [
      "Epoch 27: 100%|██████████| 1/1 [00:02<00:00,  2.63s/it]\n"
     ]
    },
    {
     "name": "stdout",
     "output_type": "stream",
     "text": [
      "Epoch 27, val/rmse: 0.8256928337929169, val/mae: 0.28244391083717346\n"
     ]
    },
    {
     "name": "stderr",
     "output_type": "stream",
     "text": [
      "Epoch 28: 100%|██████████| 1/1 [00:02<00:00,  2.42s/it]\n"
     ]
    },
    {
     "name": "stdout",
     "output_type": "stream",
     "text": [
      "Epoch 28, val/rmse: 0.8207451179143069, val/mae: 0.2888505458831787\n"
     ]
    },
    {
     "name": "stderr",
     "output_type": "stream",
     "text": [
      "Epoch 29: 100%|██████████| 1/1 [00:02<00:00,  2.38s/it]\n"
     ]
    },
    {
     "name": "stdout",
     "output_type": "stream",
     "text": [
      "Epoch 29, val/rmse: 0.8144058469959654, val/mae: 0.2750096619129181\n"
     ]
    },
    {
     "name": "stderr",
     "output_type": "stream",
     "text": [
      "Epoch 30: 100%|██████████| 1/1 [00:02<00:00,  2.31s/it]\n"
     ]
    },
    {
     "name": "stdout",
     "output_type": "stream",
     "text": [
      "Epoch 30, val/rmse: 0.8083946240840458, val/mae: 0.24567601084709167\n"
     ]
    },
    {
     "name": "stderr",
     "output_type": "stream",
     "text": [
      "Epoch 31: 100%|██████████| 1/1 [00:02<00:00,  2.32s/it]\n"
     ]
    },
    {
     "name": "stdout",
     "output_type": "stream",
     "text": [
      "Epoch 31, val/rmse: 0.8078614387961733, val/mae: 0.23908236622810364\n"
     ]
    },
    {
     "name": "stderr",
     "output_type": "stream",
     "text": [
      "Epoch 32: 100%|██████████| 1/1 [00:02<00:00,  2.38s/it]\n"
     ]
    },
    {
     "name": "stdout",
     "output_type": "stream",
     "text": [
      "Epoch 32, val/rmse: 0.8117799869822254, val/mae: 0.2669588625431061\n"
     ]
    },
    {
     "name": "stderr",
     "output_type": "stream",
     "text": [
      "Epoch 33: 100%|██████████| 1/1 [00:02<00:00,  2.34s/it]\n"
     ]
    },
    {
     "name": "stdout",
     "output_type": "stream",
     "text": [
      "Epoch 33, val/rmse: 0.8114559728533421, val/mae: 0.27984708547592163\n"
     ]
    },
    {
     "name": "stderr",
     "output_type": "stream",
     "text": [
      "Epoch 34: 100%|██████████| 1/1 [00:02<00:00,  2.22s/it]\n"
     ]
    },
    {
     "name": "stdout",
     "output_type": "stream",
     "text": [
      "Epoch 34, val/rmse: 0.8025035294190749, val/mae: 0.2612822651863098\n"
     ]
    },
    {
     "name": "stderr",
     "output_type": "stream",
     "text": [
      "Epoch 35: 100%|██████████| 1/1 [00:02<00:00,  2.30s/it]\n"
     ]
    },
    {
     "name": "stdout",
     "output_type": "stream",
     "text": [
      "Epoch 35, val/rmse: 0.7898565772398811, val/mae: 0.22599904239177704\n"
     ]
    },
    {
     "name": "stderr",
     "output_type": "stream",
     "text": [
      "Epoch 36: 100%|██████████| 1/1 [00:02<00:00,  2.26s/it]\n"
     ]
    },
    {
     "name": "stdout",
     "output_type": "stream",
     "text": [
      "Epoch 36, val/rmse: 0.7805379292755611, val/mae: 0.20857276022434235\n"
     ]
    },
    {
     "name": "stderr",
     "output_type": "stream",
     "text": [
      "Epoch 37: 100%|██████████| 1/1 [00:02<00:00,  2.23s/it]\n"
     ]
    },
    {
     "name": "stdout",
     "output_type": "stream",
     "text": [
      "Epoch 37, val/rmse: 0.7760859909883217, val/mae: 0.21711918711662292\n"
     ]
    },
    {
     "name": "stderr",
     "output_type": "stream",
     "text": [
      "Epoch 38: 100%|██████████| 1/1 [00:02<00:00,  2.61s/it]\n"
     ]
    },
    {
     "name": "stdout",
     "output_type": "stream",
     "text": [
      "Epoch 38, val/rmse: 0.7731994108319197, val/mae: 0.22195829451084137\n"
     ]
    },
    {
     "name": "stderr",
     "output_type": "stream",
     "text": [
      "Epoch 39: 100%|██████████| 1/1 [00:02<00:00,  2.46s/it]\n"
     ]
    },
    {
     "name": "stdout",
     "output_type": "stream",
     "text": [
      "Epoch 39, val/rmse: 0.7696108317010462, val/mae: 0.2113344818353653\n"
     ]
    },
    {
     "name": "stderr",
     "output_type": "stream",
     "text": [
      "Epoch 40: 100%|██████████| 1/1 [00:02<00:00,  2.61s/it]\n"
     ]
    },
    {
     "name": "stdout",
     "output_type": "stream",
     "text": [
      "Epoch 40, val/rmse: 0.7668387465235835, val/mae: 0.1962495595216751\n"
     ]
    },
    {
     "name": "stderr",
     "output_type": "stream",
     "text": [
      "Epoch 41: 100%|██████████| 1/1 [00:02<00:00,  2.67s/it]\n"
     ]
    },
    {
     "name": "stdout",
     "output_type": "stream",
     "text": [
      "Epoch 41, val/rmse: 0.7669222215758508, val/mae: 0.20001812279224396\n"
     ]
    },
    {
     "name": "stderr",
     "output_type": "stream",
     "text": [
      "Epoch 42: 100%|██████████| 1/1 [00:02<00:00,  2.39s/it]\n"
     ]
    },
    {
     "name": "stdout",
     "output_type": "stream",
     "text": [
      "Epoch 42, val/rmse: 0.7677518536375445, val/mae: 0.21381458640098572\n"
     ]
    },
    {
     "name": "stderr",
     "output_type": "stream",
     "text": [
      "Epoch 43: 100%|██████████| 1/1 [00:02<00:00,  2.59s/it]\n"
     ]
    },
    {
     "name": "stdout",
     "output_type": "stream",
     "text": [
      "Epoch 43, val/rmse: 0.7652028535403832, val/mae: 0.21137748658657074\n"
     ]
    },
    {
     "name": "stderr",
     "output_type": "stream",
     "text": [
      "Epoch 44: 100%|██████████| 1/1 [00:02<00:00,  2.88s/it]\n"
     ]
    },
    {
     "name": "stdout",
     "output_type": "stream",
     "text": [
      "Epoch 44, val/rmse: 0.7596069405577626, val/mae: 0.1939026266336441\n"
     ]
    },
    {
     "name": "stderr",
     "output_type": "stream",
     "text": [
      "Epoch 45: 100%|██████████| 1/1 [00:02<00:00,  2.26s/it]\n"
     ]
    },
    {
     "name": "stdout",
     "output_type": "stream",
     "text": [
      "Epoch 45, val/rmse: 0.7550498313753569, val/mae: 0.18592965602874756\n"
     ]
    },
    {
     "name": "stderr",
     "output_type": "stream",
     "text": [
      "Epoch 46: 100%|██████████| 1/1 [00:02<00:00,  2.52s/it]\n"
     ]
    },
    {
     "name": "stdout",
     "output_type": "stream",
     "text": [
      "Epoch 46, val/rmse: 0.7529273125874509, val/mae: 0.19222520291805267\n"
     ]
    },
    {
     "name": "stderr",
     "output_type": "stream",
     "text": [
      "Epoch 47: 100%|██████████| 1/1 [00:02<00:00,  2.30s/it]\n"
     ]
    },
    {
     "name": "stdout",
     "output_type": "stream",
     "text": [
      "Epoch 47, val/rmse: 0.7512469257666323, val/mae: 0.19338050484657288\n"
     ]
    },
    {
     "name": "stderr",
     "output_type": "stream",
     "text": [
      "Epoch 48: 100%|██████████| 1/1 [00:02<00:00,  2.23s/it]\n"
     ]
    },
    {
     "name": "stdout",
     "output_type": "stream",
     "text": [
      "Epoch 48, val/rmse: 0.7492608958493568, val/mae: 0.18483421206474304\n"
     ]
    },
    {
     "name": "stderr",
     "output_type": "stream",
     "text": [
      "Epoch 49: 100%|██████████| 1/1 [00:02<00:00,  2.36s/it]\n"
     ]
    },
    {
     "name": "stdout",
     "output_type": "stream",
     "text": [
      "Epoch 49, val/rmse: 0.7483655683956294, val/mae: 0.17858277261257172\n"
     ]
    }
   ],
   "source": [
    "from tqdm import tqdm\n",
    "import wandb\n",
    "from torch_geometric_temporal.nn.recurrent import DCRNN\n",
    "\n",
    "gnn = GRU\n",
    "\n",
    "node_features = 1\n",
    "\n",
    "model = RecurrentGNN(gnn = gnn, node_features = node_features).to(device)\n",
    "\n",
    "if gnn.__name__ == 'GRU':\n",
    "    model_name = f'{gnn.__name__}'\n",
    "elif gnn.__name__ == 'DCRNN':\n",
    "    model_name = f'{gnn.__name__}_{corr_name}_{corr_scope}'\n",
    "elif gnn.__name__ == 'DGRNN':\n",
    "    model_name = f'{gnn.__name__}_{corr_name}_{corr_scope}{\"_diff_attn\" if model.recurrent.diff_attn else \"\"}'\n",
    "\n",
    "lr = 1e-2\n",
    "num_epochs = 50\n",
    "optimizer = torch.optim.Adam(model.parameters(), lr=lr)\n",
    "track_with_wandb = True\n",
    "\n",
    "if track_with_wandb:\n",
    "    wandb.init(project=\"cs224w-stock-market-prediction\", config={\n",
    "        \"dataset\": \"S&P500\",\n",
    "        \"corr_name\": corr_name,\n",
    "        \"corr_scope\": corr_scope,\n",
    "        \"learning_rate\": lr,\n",
    "        \"epochs\": num_epochs,\n",
    "        \"architecture\": gnn.__name__,\n",
    "    })\n",
    "\n",
    "best_val_rmse = float('inf')\n",
    "\n",
    "batch_size = 64\n",
    "\n",
    "def split_into_batches(lst, batch_size):\n",
    "    return [lst[i:i + batch_size] for i in range(0, len(lst), batch_size)]\n",
    "\n",
    "train_samples = list(train_dataset)\n",
    "train_batches = split_into_batches(train_samples, batch_size)\n",
    "\n",
    "for epoch in range(num_epochs):\n",
    "    model.train()\n",
    "    train_loss = 0\n",
    "    random.shuffle(train_batches)\n",
    "    for step, batch in tqdm(enumerate(train_batches), total=len(train_batches), desc=f'Epoch {epoch}'):\n",
    "        y_hats = []\n",
    "        ys = []\n",
    "        for snapshot in batch:\n",
    "            X = snapshot.x.to(device)\n",
    "            batched_y_hats = model(X.transpose(0, 1), snapshot.edge_index.to(device), snapshot.edge_attr.to(device), hidden=None)\n",
    "            y_hats.append(batched_y_hats)\n",
    "            ys.append(snapshot.y.to(device))\n",
    "        y_hats, ys = torch.cat(y_hats, dim=0).squeeze().to(device), torch.cat(ys, dim=0).to(device)\n",
    "        loss = F.mse_loss(y_hats, ys)\n",
    "        train_loss += loss.item()\n",
    "        loss.backward()\n",
    "        optimizer.step()\n",
    "        optimizer.zero_grad()\n",
    "        wandb.log({\"epoch\": epoch,\n",
    "                   \"step\": epoch * len(train_samples) + step,\n",
    "                    \"train/loss\": loss.item() })\n",
    "    train_loss /= len(train_samples)\n",
    "\n",
    "    if track_with_wandb:\n",
    "        val_rmse, val_mae = eval(epoch, model, val_dataset, 'val')\n",
    "        if val_rmse < best_val_rmse:\n",
    "            best_rmse = val_rmse\n",
    "            torch.save(model.state_dict(), f'{model_name}.pth')\n"
   ]
  },
  {
   "cell_type": "code",
   "execution_count": 19,
   "metadata": {},
   "outputs": [
    {
     "name": "stdout",
     "output_type": "stream",
     "text": [
      "Epoch 49, test/rmse: 3.3100578374505885, test/mae: 0.6717974543571472\n"
     ]
    }
   ],
   "source": [
    "if track_with_wandb:\n",
    "    best_model = RecurrentGNN(gnn = gnn, node_features = node_features).to(device)\n",
    "    best_model.load_state_dict(torch.load(f'{model_name}.pth', weights_only=True))\n",
    "    test_rmse, test_mae = eval(epoch, best_model, test_dataset, 'test')\n"
   ]
  }
 ],
 "metadata": {
  "kernelspec": {
   "display_name": "stock",
   "language": "python",
   "name": "python3"
  },
  "language_info": {
   "codemirror_mode": {
    "name": "ipython",
    "version": 3
   },
   "file_extension": ".py",
   "mimetype": "text/x-python",
   "name": "python",
   "nbconvert_exporter": "python",
   "pygments_lexer": "ipython3",
   "version": "3.12.7"
  }
 },
 "nbformat": 4,
 "nbformat_minor": 2
}
